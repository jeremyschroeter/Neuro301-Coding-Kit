{
 "cells": [
  {
   "cell_type": "markdown",
   "metadata": {},
   "source": [
    "# Neuroscience 490\n",
    "## Lesson 1 - Python Basics\n",
    "### Content\n",
    "[Section 1 - Python is a calculator](#Section1)<br/>\n",
    "[Section 2 - Variables](#Section2)<br/>\n",
    "[Section 3 - Boolean Expressions](#Section3)<br/>\n",
    "[Section 4 - Data Types](#Section4)<br/>\n",
    "[Section 5 - Loops](#Section5)<br/>\n",
    "[Section 6 - If Statements](#Section6)<br/>\n",
    "[Section 7 - Functions](#Section7)<br/>\n",
    "[Section 8 - Lists](#Section8)\n",
    "\n",
    "### Intro - Welcome to a Jupyter Notebook!\n",
    "Jupyter notebooks are a file format that allows us to intersperse text and python code in small chunks called \"cells\". We can run the cells in a Jupyter notebook by selecting a cell with our mouse and clicking the play button. Try it out by clicking on the math in the cell below and pressing the play button.<br/>\n"
   ]
  },
  {
   "cell_type": "code",
   "execution_count": null,
   "metadata": {},
   "outputs": [],
   "source": [
    "print(9 + 21)"
   ]
  },
  {
   "cell_type": "markdown",
   "metadata": {},
   "source": [
    "All the code that you see in the python cells is editable! Try changing things and seeing what happens. If you get an error that is okay!"
   ]
  },
  {
   "cell_type": "markdown",
   "metadata": {},
   "source": [
    "<a id='Section1'></a>\n",
    "## Section 1 - Python is a calculator\n",
    "Python is a powerful calculator. It can evaluate any arithmetic expressions you give it."
   ]
  },
  {
   "cell_type": "code",
   "execution_count": null,
   "metadata": {},
   "outputs": [],
   "source": [
    "# demonstrate some math"
   ]
  },
  {
   "cell_type": "code",
   "execution_count": null,
   "metadata": {},
   "outputs": [],
   "source": [
    "# show modulus operator"
   ]
  },
  {
   "cell_type": "markdown",
   "metadata": {},
   "source": [
    "If the order of operations in a calculation isn't obvious, you can use parentheses to clarify the precedence of operations, just like in hand written expressions"
   ]
  },
  {
   "cell_type": "code",
   "execution_count": null,
   "metadata": {},
   "outputs": [],
   "source": [
    "# parentheses "
   ]
  },
  {
   "cell_type": "markdown",
   "metadata": {},
   "source": [
    "*\"What's this print(____) thing you've been writing?\"* <br />\n",
    "If we want python to show us what something is we can just use the built-in <code>print()</code> function. Just put whatever you want to see within the parentheses after \"print\"</br></br>\n",
    "*Why have you been writing \"<code>#</code>\"?*</br>\n",
    "Writing the pound symbol (<code>#</code>) allows us to add comments to our code. This is text that we can read but that the computer will ignore when running your code"
   ]
  },
  {
   "cell_type": "markdown",
   "metadata": {},
   "source": [
    "Python does not limit us to printing just math expressions. We can also print out text by wrapping it in quotation marks. Text is referred to as \"strings\" in computer lingo"
   ]
  },
  {
   "cell_type": "code",
   "execution_count": null,
   "metadata": {},
   "outputs": [],
   "source": [
    "# print can also do strings"
   ]
  },
  {
   "cell_type": "markdown",
   "metadata": {},
   "source": [
    "### Exercise 1:\n",
    "\n",
    "Print out the result of ten raised to the power of two"
   ]
  },
  {
   "cell_type": "code",
   "execution_count": null,
   "metadata": {},
   "outputs": [],
   "source": [
    "# Place your answer here"
   ]
  },
  {
   "cell_type": "markdown",
   "metadata": {},
   "source": [
    "[back to top](#top)"
   ]
  },
  {
   "cell_type": "markdown",
   "metadata": {},
   "source": [
    "<a id='Section2'></a>\n",
    "## Section 2 - Variables"
   ]
  },
  {
   "cell_type": "code",
   "execution_count": null,
   "metadata": {},
   "outputs": [],
   "source": [
    "# basic variable"
   ]
  },
  {
   "cell_type": "markdown",
   "metadata": {},
   "source": [
    "All variables are declared in the form ***varname = expression***"
   ]
  },
  {
   "cell_type": "markdown",
   "metadata": {},
   "source": [
    "Notice how nothing printed out when we declared our variable <code>pi</code>, but a green check still appeared? Unless you call <code>print</code> explicitly, python will do what you ask of it, but won't necesarilly tell you.<br />"
   ]
  },
  {
   "cell_type": "code",
   "execution_count": null,
   "metadata": {},
   "outputs": [],
   "source": []
  },
  {
   "cell_type": "markdown",
   "metadata": {},
   "source": [
    "See what we did there? We were able to get 3.14 back by just referring to the variable <code>pi</code>. This is why we like variables. They allow us to refer to and keep track of objects in memory.<br/><br/>\n",
    "We can also assign variables to the output of arithmetic expressions"
   ]
  },
  {
   "cell_type": "code",
   "execution_count": null,
   "metadata": {},
   "outputs": [],
   "source": []
  },
  {
   "cell_type": "markdown",
   "metadata": {},
   "source": [
    "Not all variable names are allowed. Try running the cell below and discuss with your neighbor why it is a bad name for a variable."
   ]
  },
  {
   "cell_type": "code",
   "execution_count": null,
   "metadata": {},
   "outputs": [],
   "source": []
  },
  {
   "cell_type": "markdown",
   "metadata": {},
   "source": [
    "In python, things are always ran sequentially, meaning that the computer executes one line, then the one below it, then the one below that, etc...<br/>\n",
    "This means we can reassign variables to new values like we did above. ***Variable assignment doesn't have to be permanent.*** <br/>"
   ]
  },
  {
   "cell_type": "code",
   "execution_count": null,
   "metadata": {},
   "outputs": [],
   "source": []
  },
  {
   "cell_type": "markdown",
   "metadata": {},
   "source": [
    "This has its use cases and can be convenient, but can also lead to errors if not done carefully so be aware if you are reassigning variables unknowingly"
   ]
  },
  {
   "cell_type": "markdown",
   "metadata": {},
   "source": [
    "We can concatenate text variables with the plus sign:"
   ]
  },
  {
   "cell_type": "code",
   "execution_count": null,
   "metadata": {},
   "outputs": [],
   "source": []
  },
  {
   "cell_type": "markdown",
   "metadata": {},
   "source": [
    "But you will notice that you cannot combine text and numbers this way:"
   ]
  },
  {
   "cell_type": "code",
   "execution_count": null,
   "metadata": {},
   "outputs": [],
   "source": []
  },
  {
   "cell_type": "markdown",
   "metadata": {},
   "source": [
    "What do we do if we want to print out both text and a variable containing a number? The solution is to use what are called \"f-strings\". If we put the character 'f' at the beginning of the print statement before the quotation marks, we can put any variables we want in the print statement by wrapping each variable in curly brackets {}."
   ]
  },
  {
   "cell_type": "code",
   "execution_count": null,
   "metadata": {},
   "outputs": [],
   "source": []
  },
  {
   "cell_type": "markdown",
   "metadata": {},
   "source": [
    "### Exercise 2.\n",
    "Create a variable storing the result of ten raised to the power of two, and use f-strings to print out \"10^2=100\" using that variable."
   ]
  },
  {
   "cell_type": "code",
   "execution_count": null,
   "metadata": {},
   "outputs": [],
   "source": [
    "# Place your answer here"
   ]
  },
  {
   "cell_type": "markdown",
   "metadata": {},
   "source": [
    "[back to top](#top)"
   ]
  },
  {
   "cell_type": "markdown",
   "metadata": {},
   "source": [
    "<a id='Section3'></a>\n",
    "## Section 3 - Boolean Expressions"
   ]
  },
  {
   "cell_type": "code",
   "execution_count": null,
   "metadata": {},
   "outputs": [],
   "source": []
  },
  {
   "cell_type": "markdown",
   "metadata": {},
   "source": [
    "Why did I use the <code>==</code> symbol above? And why did it print out False and True?<br/>\n",
    "We use the <code>==</code> symbol to ask the computer about equivalency, in the mathematical sense. Before, we used the more familiar single <code>=</code> sign for variable assignment. These are the rules in Python. Single <code>=</code> denotes variable assignment, whilst <code>==</code> denotes equivalency."
   ]
  },
  {
   "cell_type": "code",
   "execution_count": null,
   "metadata": {},
   "outputs": [],
   "source": []
  },
  {
   "cell_type": "markdown",
   "metadata": {},
   "source": [
    "Here are a few more of what we call \"boolean operators\", that we can use to string together True or False logical statements: <br/>\n",
    "\n",
    "* <code>**&lt;**</code> : less than <br/>\n",
    "* <code>**&lt;=**</code> : less than  or equal to<br/>\n",
    "* <code>**>**</code> : greater than <br/>\n",
    "* <code>**>=**</code> : greater than or equal to<br/>\n",
    "* <code>**and**</code> : both statements are true<br/>\n",
    "* <code>**or**</code> : at least one statement is true<br/>\n",
    "* <code>**not**</code> : negation<br/>\n",
    "\n",
    "\n",
    "### Exercise 3.\n",
    "Let's see some of these in action, and let's see what happens when we mix them with variables...Try to guess whether the answer will be true or false and type in your answer after the <code>#</code> symbol<br/>\n",
    "If the answer is already printed try not to cheat!"
   ]
  },
  {
   "cell_type": "code",
   "execution_count": null,
   "metadata": {},
   "outputs": [],
   "source": [
    "print('(1)', 22 > 4)             # Remember, this is a comment, no text on a line after a # symbol will be interpreted by the computer\n",
    "x = 100\n",
    "y = 4\n",
    "print('(2)', x >= 5)             # Guess:\n",
    "print('(3)', y > x)              # Guess:\n",
    "print('(4)', y == x)             # Guess:\n",
    "print('(5)', not True)           # Guess:\n",
    "print('(6)', not x >= 200)       # Guess:\n",
    "print('(7)', 3 < 4 and 5 < 6)    # Guess:\n",
    "print('(8)', 3 < 4 or 5 < 6)     # Guess:\n",
    "\n",
    "# Variables can also be assigned to True or False\n",
    "temp = 72\n",
    "water_is_liquid = temp > 32 and temp < 212\n",
    "print('(9)', water_is_liquid)    # Guess:"
   ]
  },
  {
   "cell_type": "markdown",
   "metadata": {},
   "source": [
    "[back to top](#top)"
   ]
  },
  {
   "cell_type": "markdown",
   "metadata": {},
   "source": [
    "<a id='Section4'></a>\n",
    "## Section 4 - Data Types\n",
    "I'd now like to formally introduce the notion of a data type. It's important to understand these so that you can understand the common errors that will arise when you're debugging your code. <br/>\n",
    "Data types represent different kinds of values, and the different data types usually do not work well with one another. Here is a list of the data types you will see most often when using basic python:<br/><br/>\n",
    "**strings** : denoted <code>str</code>, represents text    ex: <code>\"neuroscience is so cool\" </code><br/>\n",
    "**integers** : denoted <code>int</code>. represents integers, used for exact arithmetic    ex: <code>-5, 0, 4</code><br/>\n",
    "**real numbers** : denoted <code>float</code>, represents real numbers    ex: <code>1.618, -2.718, 3.1415</code><br/>\n",
    "**truth values** : denoted <code>bool</code>, represents booleans, used for logic   ex: <code>True False</code><br/>\n",
    "**lists** : denoted <code>list</code>, represents a container of other types/variables, used for containment  ex: <code>[1, 2, 3] ['voltage', 'amps', 'time'] [4.3, 'Seattle', True]</code>\n",
    "\n",
    "Operations behave differently on different types and trying to mix types will often times throw an error. Run the cells below to see this, and notice the type we get back after python performs an operation where we ask it to mix data types.<br/>\n",
    "We can wrap a variable or an expression with the <code>type()</code> function to see what data type it is."
   ]
  },
  {
   "cell_type": "code",
   "execution_count": null,
   "metadata": {},
   "outputs": [],
   "source": []
  },
  {
   "cell_type": "code",
   "execution_count": null,
   "metadata": {},
   "outputs": [],
   "source": []
  },
  {
   "cell_type": "code",
   "execution_count": null,
   "metadata": {},
   "outputs": [],
   "source": []
  },
  {
   "cell_type": "code",
   "execution_count": null,
   "metadata": {},
   "outputs": [],
   "source": []
  },
  {
   "cell_type": "code",
   "execution_count": null,
   "metadata": {},
   "outputs": [],
   "source": []
  },
  {
   "cell_type": "code",
   "execution_count": null,
   "metadata": {},
   "outputs": [],
   "source": []
  },
  {
   "cell_type": "markdown",
   "metadata": {},
   "source": [
    "Hopefully this gives you some intuition for mixing types, when it is bad, when it's not a big deal, etc. <br/>\n",
    "We can also convert between types like so"
   ]
  },
  {
   "cell_type": "code",
   "execution_count": null,
   "metadata": {},
   "outputs": [],
   "source": []
  },
  {
   "cell_type": "markdown",
   "metadata": {},
   "source": [
    "Note that calling <code>int</code> on a float will always round that float **down**, and also note that it isn't always obvious what the type of an object is. If we are unsure we can always use the <code>type()</code> function"
   ]
  },
  {
   "cell_type": "code",
   "execution_count": null,
   "metadata": {},
   "outputs": [],
   "source": []
  },
  {
   "cell_type": "markdown",
   "metadata": {},
   "source": [
    "What kind of type is a variable?"
   ]
  },
  {
   "cell_type": "code",
   "execution_count": null,
   "metadata": {},
   "outputs": [],
   "source": []
  },
  {
   "cell_type": "markdown",
   "metadata": {},
   "source": [
    "The type of a variable is the type of whatever it is assigned to"
   ]
  },
  {
   "cell_type": "markdown",
   "metadata": {},
   "source": [
    "### Exercise 4\n",
    "Write the data types of each of the following variables to right of them."
   ]
  },
  {
   "cell_type": "code",
   "execution_count": null,
   "metadata": {},
   "outputs": [],
   "source": [
    "var1 = 5       # Guess:\n",
    "print('(1)', type(var1))\n",
    "\n",
    "var2 = 5.0     # Guess:\n",
    "print('(2)', type(var2))\n",
    "\n",
    "var3 = [5]     # Guess:\n",
    "print('(3)', type(var3))\n",
    "\n",
    "var4 = [\"5\"]   # Guess:\n",
    "print('(4)', type(var4))\n",
    "\n",
    "var5 = '5'     # Guess:\n",
    "print('(5)', type(var5))\n",
    "\n",
    "var6 = 5==True # Guess:\n",
    "print('(6)',  type(var6))\n"
   ]
  },
  {
   "cell_type": "markdown",
   "metadata": {},
   "source": [
    "[back to top](#top)"
   ]
  },
  {
   "cell_type": "markdown",
   "metadata": {},
   "source": [
    "<a id='Section5'></a>\n",
    "## Section 5 - Loops\n"
   ]
  },
  {
   "cell_type": "markdown",
   "metadata": {},
   "source": [
    "When coding, we will often want to perform the same set of operations to a group of data. We could just do this set of operations for each piece of data individually and copy/paste our code, but this is highly inefficient and error prone. Instead, we can use what is called a <code>for loop</code> <br/>\n",
    "Let's look at an example <br/>\n",
    "Say we have a list of temperatures in fahrenheight <br/> <code>temps = [30, 40, 50, 60, 70]</code> <br/>\n",
    "We would like to convert this list of temperatures in fahrenheight to their corresponding temperatures in centigrade. We can write the operation to convert the temperature in python like so"
   ]
  },
  {
   "cell_type": "code",
   "execution_count": null,
   "metadata": {},
   "outputs": [],
   "source": []
  },
  {
   "cell_type": "markdown",
   "metadata": {},
   "source": [
    "Doing this once is not so bad, but what if we had a list of thousands of temperatures? If we did it the way we did above, we'd be copying and pasting forever, and we'd probably make a mistake somewhere. Plus, if we needed to change something down the line, we'd have to change it thousands of times! This is not a good method. Instead, we will use a for loop to iterate through the entries in a list of temperatures and print out our converted temperatures. The syntax of a for loop is\n",
    "\n",
    "<code>\n",
    "    for elem in list:\n",
    "        # do something to elem\n",
    "</code>\n",
    "\n",
    "The idea is that, for each element in a list, we apply an operation. Here is a concrete example:"
   ]
  },
  {
   "cell_type": "code",
   "execution_count": null,
   "metadata": {},
   "outputs": [],
   "source": []
  },
  {
   "cell_type": "markdown",
   "metadata": {},
   "source": [
    "Did you catch that? We iterated through each entry/element in our list <code>temps</code>, assigned that entry to a variable <code>fahr</code> and then used <code>fahr</code> to define a variable <code>cent</code> which was our transformed temperature. If you want to see this ran step by step you can use this nice website to see the code get executed sequentially: [link](https://pythontutor.com/visualize.html#code=temps%20%3D%20%5B30,%2040,%2050,%2060,%2070%5D%0Afor%20fahr%20in%20temps%3A%0A%20%20%20%20cent%20%3D%20%28fahr%20-%2032%29%20/%209%20*%205%0A%20%20%20%20print%28cent%29&cumulative=false&curInstr=0&heapPrimitives=nevernest&mode=display&origin=opt-frontend.js&py=3&rawInputLstJSON=%5B%5D&textReferences=false)"
   ]
  },
  {
   "cell_type": "markdown",
   "metadata": {},
   "source": [
    "Hopefully that was not too bad, but let's walk through the anatomy of a **for loop** one step at a time.<br/><br/>\n",
    "We must always start our **for loop** with <code>for</code> followed by the **loop variable/iteration variable**. In our case this was <code>fahr</code>. This is what gets assigned to the current item in whatever we are iterating over. We then have the word <code>in</code> followed by a list or sequence that we want to iterate through. We must always follow our sequence by a colon <code>:</code> and then a new line. On our new line we can begin writing our **loop body**. Our **loop body** must ***always*** be indented. If it isn't indented, it isn't part of the loop. And if there is no loop body, python will throw an error.<br/>\n",
    "Let's look at some examples..."
   ]
  },
  {
   "cell_type": "code",
   "execution_count": null,
   "metadata": {},
   "outputs": [],
   "source": []
  },
  {
   "cell_type": "code",
   "execution_count": null,
   "metadata": {},
   "outputs": [],
   "source": []
  },
  {
   "cell_type": "code",
   "execution_count": null,
   "metadata": {},
   "outputs": [],
   "source": []
  },
  {
   "cell_type": "code",
   "execution_count": null,
   "metadata": {},
   "outputs": [],
   "source": []
  },
  {
   "cell_type": "markdown",
   "metadata": {},
   "source": [
    "Our for loop variable does not necessarily have to be involved in the operation we want to do."
   ]
  },
  {
   "cell_type": "code",
   "execution_count": null,
   "metadata": {},
   "outputs": [],
   "source": []
  },
  {
   "cell_type": "markdown",
   "metadata": {},
   "source": [
    "When this is the case it is more convenient to use the <code>range()</code> function. This function will automatically make a sequence of a given length that we can then use to iterate through.<br><br>"
   ]
  },
  {
   "cell_type": "code",
   "execution_count": null,
   "metadata": {},
   "outputs": [],
   "source": []
  },
  {
   "cell_type": "markdown",
   "metadata": {},
   "source": [
    "But if we want to, we can still use the variable <code>range</code> gives us, it'll just act like a counter that starts at 0. For example, <code>range(5)</code> generates the list <code>[0, 1, 2, 3, 4]</code>. Starting from 0 and excluding the final entry is the default pattern in python (more on this later)."
   ]
  },
  {
   "cell_type": "code",
   "execution_count": null,
   "metadata": {},
   "outputs": [],
   "source": []
  },
  {
   "cell_type": "markdown",
   "metadata": {},
   "source": [
    "Let's look at a simple for loop that we can use to calculate the sum of a list of numbers."
   ]
  },
  {
   "cell_type": "code",
   "execution_count": null,
   "metadata": {},
   "outputs": [],
   "source": []
  },
  {
   "cell_type": "markdown",
   "metadata": {},
   "source": [
    "Let's go through what we just did\n",
    "\n",
    "In the above code we calculate the sum of a list of numbers using a for loop.<br/>\n",
    "**(1)** Firstly, we start by declaring a variable called <code>cumulative_sum</code> *outside* of the loop, which we initialize at 0.<br/>\n",
    "**(2)** Then, in the for loop, we declare a loop variable <code>number</code> and we update <code>cumulative_sum</code> by taking its previous value and adding to it the current entry in the nums list.</br></br>\n",
    "If we do that for all for all of the entries in the list then we get the number 37, which is the correct number! <br/>\n",
    "This structure where we intialize a variable at 0 or at some other value and continually update it is **very** common.<br/>\n",
    "Also notice how in the loop we reassign <code>cumulative sum</code> by referring to its currently assigned value. This is totally fine and should work in most circumstances.\n",
    "\n",
    "### Exercise 5.1: how would we need to change the above for loop to calculate the *product* of all the elements in our list rather than the sum?\n",
    "Use the cell below to see if you can do it (please try for atleast 5 minutes before you look at the solution, and if you do look, make sure you could explain to someone why it works) [Solution](https://pythontutor.com/visualize.html#code=nums%20%3D%20%5B10,%2012,%205,%208,%202%5D%0Acumulative_prod%20%3D%201%0Afor%20number%20in%20nums%3A%0A%20%20%20%20cumulative_prod%20%3D%20cumulative_prod%20*%20number%20%20%20%20%23%20Can%20I%20do%20that%3F%0A%20%20%20%20print%28cumulative_prod%29&cumulative=false&curInstr=0&heapPrimitives=nevernest&mode=display&origin=opt-frontend.js&py=3&rawInputLstJSON=%5B%5D&textReferences=false)"
   ]
  },
  {
   "cell_type": "code",
   "execution_count": null,
   "metadata": {},
   "outputs": [],
   "source": [
    "# Place your answer here"
   ]
  },
  {
   "cell_type": "markdown",
   "metadata": {},
   "source": [
    "Let's now talk about **nested loops**. In python, it is possible to have for loops ***within*** for loops<br/>\n",
    "The easiest way to get a grasp on this is to just see one in action. Try and guess what the output of this nested loop will be (you don't need to write it in a comment)"
   ]
  },
  {
   "cell_type": "code",
   "execution_count": null,
   "metadata": {},
   "outputs": [],
   "source": []
  },
  {
   "cell_type": "markdown",
   "metadata": {},
   "source": [
    "In words:<br/>\n",
    "**(1)** We start out by setting our outer loop variable <code>i</code> to the first entry in the list, 1.<br/>\n",
    "**(2)** In the loop body we then print our outer loop variable <code>i</code><br/>\n",
    "**(3)** Then, we execute the inner loop as if it is any ordinary loop. We assign <code>j</code> to the first element, 20, execute the loop body, then go back and set <code>j</code> to the second element, 40, execute the loop body, and then exit the loop.<br/>\n",
    "**(4)** Since there is nothing left in the inner loop body, but we haven't iterated through all the elements of the outer list, we start over again with <code>i = 2</code>, and the whole thing repeats<br/><br/>\n",
    "Let's look at another example"
   ]
  },
  {
   "cell_type": "code",
   "execution_count": null,
   "metadata": {},
   "outputs": [],
   "source": []
  },
  {
   "cell_type": "markdown",
   "metadata": {},
   "source": [
    "Hopefully this is starting to make some more sense. Nested loops can be a bit unintuitive when you first encounter them, but with time they are really not so bad. There will be times when the best and simplest way to do something is with a nested for loop. That being said, they tend to be complicated to understand and can be slow to run on your computer when you are working with very large lists. If you can figure out a way to solve a problem without nested lists, you *should* try to avoid using them.</br>\n",
    "\n",
    "\n",
    "### Exercise 5.2:\n",
    "Modify the following code to print out 1,2,...,49,50 rather than skipping 10,20,30,40,50 as it currently does. (There are many ways)."
   ]
  },
  {
   "cell_type": "code",
   "execution_count": null,
   "metadata": {},
   "outputs": [],
   "source": [
    "# Goal: print 1, 2, 3, ..., 48, 49, 50\n",
    "for tens_digit in [0, 1, 2, 3, 4]:\n",
    "    for ones_digit in [1, 2, 3, 4, 5, 6, 7, 8, 9]:\n",
    "        print(tens_digit * 10 + ones_digit)"
   ]
  },
  {
   "cell_type": "markdown",
   "metadata": {},
   "source": [
    "[back to top](#top)"
   ]
  },
  {
   "cell_type": "markdown",
   "metadata": {},
   "source": [
    "<a id='Section6'></a>\n",
    "## Section 6 - If Statements"
   ]
  },
  {
   "cell_type": "markdown",
   "metadata": {},
   "source": [
    "Given everything we have learned so far, how do you think we could use python to compute the absolute value of a number?<br/>\n",
    "One solution could be to simply multiply the number by <code>-1</code>. But what if our number is positive? How do we check first? </br>\n",
    "To do this we can use something called an <code>if</code> statement which allows us to perform some operation, but *only* if some condition is met before hand.<br/>"
   ]
  },
  {
   "cell_type": "code",
   "execution_count": null,
   "metadata": {},
   "outputs": [],
   "source": []
  },
  {
   "cell_type": "markdown",
   "metadata": {},
   "source": [
    "Some notes:<br/>\n",
    "**(1)** The condition of our <code>if</code> statement must be a Boolean expression like we talked about in section 3.<br/>\n",
    "**(2)** Like in for loops, indentation is important, if it isn't indented, python will throw an error<br/>\n",
    "**(3)** If you don't want to change anything if the condition is *not* met, then you can simply omit the entire else clause"
   ]
  },
  {
   "cell_type": "code",
   "execution_count": null,
   "metadata": {},
   "outputs": [],
   "source": []
  },
  {
   "cell_type": "markdown",
   "metadata": {},
   "source": [
    "Like for loops, if statements can be nested"
   ]
  },
  {
   "cell_type": "code",
   "execution_count": null,
   "metadata": {},
   "outputs": [],
   "source": []
  },
  {
   "cell_type": "markdown",
   "metadata": {},
   "source": [
    "When using nested if statements like this, it is better to replace <code>else: if:</code> with just <code>elif</code> like so"
   ]
  },
  {
   "cell_type": "code",
   "execution_count": null,
   "metadata": {},
   "outputs": [],
   "source": []
  },
  {
   "cell_type": "markdown",
   "metadata": {},
   "source": [
    "This improves readability and will run faster<br/>\n",
    "\n",
    "### Exercise 6\n",
    "\n",
    "Create a variable named 'my_integer' with an integer value of your choice. If my_integer is even, print out \"Even\". Otherwise, print out \"Odd.\" (Hint: An even integer will have no remainder when divided by 2, while an odd integer will have a remainder of 1. Use the % operator.)"
   ]
  },
  {
   "cell_type": "code",
   "execution_count": null,
   "metadata": {},
   "outputs": [],
   "source": [
    "# Place your answer here"
   ]
  },
  {
   "cell_type": "markdown",
   "metadata": {},
   "source": [
    "[back to top](#top)"
   ]
  },
  {
   "cell_type": "markdown",
   "metadata": {},
   "source": [
    "<a id='Section7'></a>\n",
    "## Section 7 - Functions"
   ]
  },
  {
   "cell_type": "markdown",
   "metadata": {},
   "source": [
    "\n",
    "Nested if statements can become very unwieldly and complicated. This can be annoying, but sometimes what we want to code isn't simple and *will* be somewhat complicated. Often times we try and write complicated code once and reuse it by turning it into a python ***function***"
   ]
  },
  {
   "cell_type": "markdown",
   "metadata": {},
   "source": [
    "Functions, like for loops and variables, are the meat and potatoes of programming. They allow us to encapsulate pieces of code that perform some set of operations and then reuse them again whenever we need to. Python has many built-in functions. Some of which we have already seen"
   ]
  },
  {
   "cell_type": "code",
   "execution_count": null,
   "metadata": {},
   "outputs": [],
   "source": []
  },
  {
   "cell_type": "markdown",
   "metadata": {},
   "source": [
    "Functions can do many things, but most functions take in some input, transform the input somehow, and then either cause some side-effect, or return something new.</br>Even thought the built in python functions are extensive and work well, we definitely are not stuck with them. In fact, we can actually build our own. Lets start with something simple: a function to square numbers."
   ]
  },
  {
   "cell_type": "code",
   "execution_count": null,
   "metadata": {},
   "outputs": [],
   "source": []
  },
  {
   "cell_type": "markdown",
   "metadata": {},
   "source": [
    "Lets use the above example to talk about the anatomy of a function.<br/><br/>\n",
    "Every function starts with the <code>def</code> keyword, followed by a space, and then the **name** of our function, in this case <code>square</code>. After our function name, we place a pair of parentheses <code>()</code>, and within these parentheses we place what will be the **parameters** or **input variables** of our function. Like we did with for loops and if statements, we will follow the parentheses with a colon <code>:</code> and then an indented **function body**. Something new here is the addition of what is called a **return statement** , this will be what your function gives back to you as its output. It's how we were able to assign the variable <code>x_squared</code> to <code>square(x)</code> and get back a number.<br/><br/>\n",
    "The parameters in a function act like variables, but these variables are only defined within the **scope** of the function. This means that the variable <code>squared_num</code> only really exists within that function. Another way of saying this is that **within a function body, variable assignment only creates a temporary variable. This variable goes away after the function has ran**. If we try to print our function variable <code>squared_num</code> you'll see that we get an error."
   ]
  },
  {
   "cell_type": "code",
   "execution_count": null,
   "metadata": {},
   "outputs": [],
   "source": []
  },
  {
   "cell_type": "markdown",
   "metadata": {},
   "source": [
    "The reason we get an error, is because  <code>squared_num</code> only exists within the function"
   ]
  },
  {
   "cell_type": "markdown",
   "metadata": {},
   "source": [
    "These within-function variables will be reassigned if we run the function again, but again, we won't have access to it from *outside* of the function.<br/>\n",
    "Confusingly, this is not true in the opposite direction. Functions ***do*** have access to variables assigned in the main body of your program *even* if you did *not* pass them to your function in the parameter section. This is confusing, so take some time to look at this example."
   ]
  },
  {
   "cell_type": "code",
   "execution_count": null,
   "metadata": {},
   "outputs": [],
   "source": []
  },
  {
   "cell_type": "markdown",
   "metadata": {},
   "source": [
    "Notice that the **cube** function still is able to print  <code>outside_var</code> even though we defined it after we defined the cube function. This is because the cube function is being *called* after we have defined <code>outside_var</code>. This will not throw an error in python.<br/>\n",
    "The point of telling you this isn't to confuse you, but just to put this on your radar because it can cause bugs and things to run in unintended ways."
   ]
  },
  {
   "cell_type": "markdown",
   "metadata": {},
   "source": [
    "Functions are extremely versatile and generalizable. For example, we can very easily generalize our square and cube functions by defining a function that takes in a number and raises it to some power."
   ]
  },
  {
   "cell_type": "code",
   "execution_count": null,
   "metadata": {},
   "outputs": [],
   "source": []
  },
  {
   "cell_type": "markdown",
   "metadata": {},
   "source": [
    "An aside: it is good practice and good code hygiene to write something called a **docstring** to explain what your function takes as inputs, what it does (at a high level, don't rewrite the function in words), and what it returns. You can write a docstring underneath your function name using three quotation marks on either side of the text."
   ]
  },
  {
   "cell_type": "code",
   "execution_count": null,
   "metadata": {},
   "outputs": [],
   "source": []
  },
  {
   "cell_type": "markdown",
   "metadata": {},
   "source": [
    "This example is perhaps a bit overkill for this function, but this is the main idea.<br/>\n",
    "You will never be expected to do this for this class, we just want you to be aware of it in case you see it somewhere in the future."
   ]
  },
  {
   "cell_type": "markdown",
   "metadata": {},
   "source": [
    "All of the expressiveness given to us by for loops and if statements can also be used in our function bodies.<br/> Lets reimplement that cumulative product computation but this time within a function that can take any list of numbers as input."
   ]
  },
  {
   "cell_type": "code",
   "execution_count": null,
   "metadata": {},
   "outputs": [],
   "source": []
  },
  {
   "cell_type": "markdown",
   "metadata": {},
   "source": [
    "### Exercise 7.\n",
    "Write a function that returns the square of a number if it is positive, and returns the negative of the square if it is negative. So f(2) should be 4, but f(-2) should be -4."
   ]
  },
  {
   "cell_type": "code",
   "execution_count": null,
   "metadata": {},
   "outputs": [],
   "source": [
    "# Place your answer here"
   ]
  },
  {
   "cell_type": "markdown",
   "metadata": {},
   "source": [
    "[back to top](#top)"
   ]
  },
  {
   "cell_type": "markdown",
   "metadata": {},
   "source": [
    "<a id='Section8'></a>\n",
    "## Section 8 - Lists"
   ]
  },
  {
   "cell_type": "markdown",
   "metadata": {},
   "source": [
    "Pythons built in functions and all the functions we could write ourselves are great, but often times we will want advanced functionality that we won't know how to implement and that don't come built-in with python. When this happens we will rely on imports. But before we get there, I would like to talk briefly about lists."
   ]
  },
  {
   "cell_type": "markdown",
   "metadata": {},
   "source": [
    "Lists in some way are like variables. They are containers which hold values, but they are distinct and have unique functionality. We can create a list by placing the list entries between square brackets:"
   ]
  },
  {
   "cell_type": "code",
   "execution_count": null,
   "metadata": {},
   "outputs": [],
   "source": []
  },
  {
   "cell_type": "markdown",
   "metadata": {},
   "source": [
    "Lists are allowed to have more than just numbers, and we can have multiple types in a single list."
   ]
  },
  {
   "cell_type": "code",
   "execution_count": null,
   "metadata": {},
   "outputs": [],
   "source": []
  },
  {
   "cell_type": "markdown",
   "metadata": {},
   "source": [
    "A list is really just an ordered sequence of values, but these values can be anything.<br/>\n",
    "Because lists are ordered, every value in a list has an index. Indexing in python is **zero-based**, meaning counting starts with zero.<br/>\n",
    "If we want to retrieve an entry from a list we can put the entries index in square brackets <code>[ ]</code> after the variable name we assigned the list to."
   ]
  },
  {
   "cell_type": "code",
   "execution_count": null,
   "metadata": {},
   "outputs": [],
   "source": []
  },
  {
   "cell_type": "markdown",
   "metadata": {},
   "source": [
    "If we want to add a value to the end of our list we can use the built in 'append' function. To call the append function we place a period at the end of the variable assigned to our list and write <code>append(something)</code>"
   ]
  },
  {
   "cell_type": "code",
   "execution_count": null,
   "metadata": {},
   "outputs": [],
   "source": []
  },
  {
   "cell_type": "markdown",
   "metadata": {},
   "source": [
    "Here are some more methods for modifying lists:</br>\n",
    "* <code>l.append(x)</code> adds <code>x</code> to the end of <code>l</code>\n",
    "* <code>l.extend(xs)</code> adds all elements in the list <code>xs</code> to the end of <code>l</code>\n",
    "* <code>l.insert(i, x)</code> inserts <code>x</code> at index <code>i</code> in <code>l</code>\n",
    "* <code>l.remove(x)</code> removes the first <code>x</code> found in <code>l</code>\n",
    "* <code>l.pop(i)</code> removes the element at index <code>i</code> in <code>l</code>\n",
    "* <code>l.clear()</code> removes all elements from <code>l</code>\n",
    "* <code>l.index(x)</code> returns the first index whose associated value is <code>x</code>. Raises an error if <code>x</code> is not in <code>l</code>\n",
    "* <code>l.reverse()</code> reverses the order of all elements in <code>l</code>\n",
    "* <code>l.sort()</code> rearranges all elements of <code>l</code> into sorted order"
   ]
  },
  {
   "cell_type": "markdown",
   "metadata": {},
   "source": [
    "If we want to retrieve the last entry in our list we can use negative indexing."
   ]
  },
  {
   "cell_type": "code",
   "execution_count": null,
   "metadata": {},
   "outputs": [],
   "source": []
  },
  {
   "cell_type": "markdown",
   "metadata": {},
   "source": [
    "This is very useful if your list is really big, or if you write a function that uses a list whose length can vary!<br/>\n",
    "You can also retrieve multiple elements from your list by using what is called \"slicing\". Slicing requires the use of the <code>:</code> key"
   ]
  },
  {
   "cell_type": "code",
   "execution_count": null,
   "metadata": {},
   "outputs": [],
   "source": []
  },
  {
   "cell_type": "markdown",
   "metadata": {},
   "source": [
    "Think about the above code as grabbing the 4, entries in the list between 3 and 7.</br>\n",
    "\n",
    "We can also use double colons like ::j to grab every jth element. For example, let's say we want every other element. Then ::2 will give every second element."
   ]
  },
  {
   "cell_type": "code",
   "execution_count": null,
   "metadata": {},
   "outputs": [],
   "source": []
  },
  {
   "cell_type": "markdown",
   "metadata": {},
   "source": [
    "Notice how the last value in our slice is not included in the list. This will always be the case. In python the last index in our slice is excluded.<br/>\n",
    "We can also change the values at a position in a list by replacing them like this"
   ]
  },
  {
   "cell_type": "code",
   "execution_count": null,
   "metadata": {},
   "outputs": [],
   "source": []
  },
  {
   "cell_type": "markdown",
   "metadata": {},
   "source": [
    "We can also query our lists in other ways."
   ]
  },
  {
   "cell_type": "code",
   "execution_count": null,
   "metadata": {},
   "outputs": [],
   "source": []
  },
  {
   "cell_type": "markdown",
   "metadata": {},
   "source": [
    "Finally, we can rearrange lists with the sort and reverse methods"
   ]
  },
  {
   "cell_type": "code",
   "execution_count": null,
   "metadata": {},
   "outputs": [],
   "source": []
  },
  {
   "cell_type": "markdown",
   "metadata": {},
   "source": [
    "Be careful though. Some functions are what are called *\"in place\"*, meaning they modify the variable without having to reassign. Look what happens when we try and assign a variable to <code>new_numbers.reverse()</code>"
   ]
  },
  {
   "cell_type": "code",
   "execution_count": null,
   "metadata": {},
   "outputs": [],
   "source": []
  },
  {
   "cell_type": "markdown",
   "metadata": {},
   "source": [
    "Okay that'll do it for now. Phew that was a lot. Thank you if you got this far! In the next notebook we'll start looking at numpy for working with arrays and numerical data (fancy lists). But first let me try to use everything we've learned to write a function"
   ]
  },
  {
   "cell_type": "code",
   "execution_count": null,
   "metadata": {},
   "outputs": [],
   "source": []
  },
  {
   "cell_type": "code",
   "execution_count": null,
   "metadata": {},
   "outputs": [],
   "source": []
  },
  {
   "cell_type": "markdown",
   "metadata": {},
   "source": [
    "### Exercise 8:\n",
    "Create a function that takes in a list of numbers and returns the square of every other element. Hint: Get every other element first, and then loop through that."
   ]
  },
  {
   "cell_type": "code",
   "execution_count": null,
   "metadata": {},
   "outputs": [],
   "source": [
    "# Place you answer here"
   ]
  },
  {
   "cell_type": "markdown",
   "metadata": {},
   "source": [
    "For more practice problems, checkout [this website](https://codingbat.com/python)\n",
    "\n",
    "[back to top](#top)"
   ]
  },
  {
   "cell_type": "markdown",
   "metadata": {},
   "source": [
    "# Bonus Section: Common issues"
   ]
  },
  {
   "cell_type": "markdown",
   "metadata": {},
   "source": [
    "### Scope and lists\n",
    "\n",
    "Remember when we said that the variable assignments inside of functions go away after the function is run? List methods form an exception to that rule. This will rarely come up, but we wanted to mention this in case you run into an issue with this."
   ]
  },
  {
   "cell_type": "code",
   "execution_count": null,
   "metadata": {},
   "outputs": [],
   "source": [
    "def add_element_to_list_and_change_variable(temp_list,elem,variable):\n",
    "    temp_list.append(elem)\n",
    "    variable = 4\n",
    "    print(f\"The list inside the function after appending is {temp_list}\")\n",
    "    print(f\"The variable inside the function after changing its value is {variable}\")\n",
    "\n",
    "my_list = [1,2,3,4]\n",
    "my_variable = 2\n",
    "print(f\"The list before calling the function is {my_list}\")\n",
    "print(f\"The variable before calling the function is {my_variable}\")\n",
    "add_element_to_list_and_change_variable(my_list,5,my_variable)\n",
    "print(f\"The list after calling the function is {my_list}\")\n",
    "print(f\"The variable after calling the function is {my_variable}\")"
   ]
  },
  {
   "cell_type": "markdown",
   "metadata": {},
   "source": [
    "Notice that the function successfully changed the list but failed to change the variable."
   ]
  },
  {
   "cell_type": "markdown",
   "metadata": {},
   "source": [
    "### Soft and deep copy"
   ]
  },
  {
   "cell_type": "markdown",
   "metadata": {},
   "source": [
    "Probably the most common python issue involves the difference between the following two cases: "
   ]
  },
  {
   "cell_type": "code",
   "execution_count": null,
   "metadata": {},
   "outputs": [],
   "source": [
    "x = 2\n",
    "y = x\n",
    "y += 2\n",
    "print(x,y)\n",
    "\n",
    "x = [2]\n",
    "y = x\n",
    "y[0] += 2\n",
    "print(x,y)"
   ]
  },
  {
   "cell_type": "markdown",
   "metadata": {},
   "source": [
    "See the difference? When x was an integer, y = x created a new variable, so when we changed y, it didn't affect x. But when x was a list, y = x created what's called a *soft copy*. In this case y is just a *renaming* of x, not a new variable. When we modify y, ***x is changed too!*** If you ever are scratching your head trying to figure out why some variable is changing when you don't want it to, this is probably why.\n",
    "\n",
    "The solution is to use the .copy() method when we are assigning a value to y. This creates a *deep copy*, which is an actual new object with the same values of x."
   ]
  },
  {
   "cell_type": "code",
   "execution_count": null,
   "metadata": {},
   "outputs": [],
   "source": [
    "x = [2]\n",
    "y = x.copy()\n",
    "y[0] += 2\n",
    "print(x,y)"
   ]
  }
 ],
 "metadata": {
  "kernelspec": {
   "display_name": "Python 3 (ipykernel)",
   "language": "python",
   "name": "python3"
  },
  "language_info": {
   "codemirror_mode": {
    "name": "ipython",
    "version": 3
   },
   "file_extension": ".py",
   "mimetype": "text/x-python",
   "name": "python",
   "nbconvert_exporter": "python",
   "pygments_lexer": "ipython3",
   "version": "3.9.18"
  }
 },
 "nbformat": 4,
 "nbformat_minor": 4
}
