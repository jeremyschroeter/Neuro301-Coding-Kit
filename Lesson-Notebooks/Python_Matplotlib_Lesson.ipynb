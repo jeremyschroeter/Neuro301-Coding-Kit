{
 "cells": [
  {
   "cell_type": "markdown",
   "metadata": {},
   "source": [
    "# Neuroscience 490\n",
    "## Lesson 3 - Intro to matplotlib\n",
    "### Content\n",
    "[Section 1 - Basic Plots](#Section1)<br/>\n",
    "[Section 2 - Subplots](#Section2)<br/>\n",
    "[Section 3 - Visualizing Uncertainty](#Section3)\n",
    "<br/>\n",
    "<br/><br/><br/>\n",
    "In this notebook we are going to go over the basics of plotting in Python. There are many different plotting libraries in Python but by far the most popular is matplotlib and that is what we will be going over. Matplotlib is extremely customizable (to a fault) and with that comes serious plotting power. We will be going over how to use fairly basic plotting features today such as scatter plots, line plots, etc, as well as some beautification/customization capabilities."
   ]
  },
  {
   "cell_type": "markdown",
   "metadata": {},
   "source": [
    "To get started we an import matplotlib by calling <code>import matplotlib.pyplot as plt</code> (\"plt\" is the canonical alias, don't use something else). We will also need numpy"
   ]
  },
  {
   "cell_type": "markdown",
   "metadata": {},
   "source": [
    "<a id='Section1'></a>\n",
    "### Section 1 - Basic Plots"
   ]
  },
  {
   "cell_type": "code",
   "execution_count": null,
   "metadata": {},
   "outputs": [],
   "source": []
  },
  {
   "cell_type": "markdown",
   "metadata": {},
   "source": [
    "It should go without saying that if we want to make a plot we need some data to visualize. This data will almost always take the form of a numpy array but matplotlib can also work with lists, depending on the what you are trying to do.</br></br> Lets try plotting a line. To plot a line in 2d we need to specify the points along the x axis and the corresponding points along the y axis. Recall the equation for a line $ y=mx + b $. Lets generate a numpy array of x-values between 0 and 5, and set a value for m and b to get y-values. Then lets plot them.  To do this we will use the matplotlib plot function by calling <code>plt.plot(xvals, yvals)</code>"
   ]
  },
  {
   "cell_type": "code",
   "execution_count": null,
   "metadata": {},
   "outputs": [],
   "source": []
  },
  {
   "cell_type": "markdown",
   "metadata": {},
   "source": [
    "By default matplotlib interpolates between the points passed to <code>plt.plot</code> by drawing a line between them. This means that the order or the arrays matters. Look at the plot below to see what I mean"
   ]
  },
  {
   "cell_type": "code",
   "execution_count": null,
   "metadata": {},
   "outputs": [],
   "source": []
  },
  {
   "cell_type": "markdown",
   "metadata": {},
   "source": [
    "Let's go back to our first figure and improve it by adding labels and customizing the style of our line. To do this we can call several matplotlib functions that will edit our plot before we call <code>plt.show()</code> to display our plot. The names of these functions should be largely self-explanatory. Feel free to play with them and see how it changes the plot."
   ]
  },
  {
   "cell_type": "code",
   "execution_count": null,
   "metadata": {},
   "outputs": [],
   "source": []
  },
  {
   "cell_type": "markdown",
   "metadata": {},
   "source": [
    "Checkout the [documentation](https://matplotlib.org/stable/api/_as_gen/matplotlib.pyplot.plot.html) for the function, to see possible markers and linestyles."
   ]
  },
  {
   "cell_type": "markdown",
   "metadata": {},
   "source": [
    "### Exercise 1.1\n",
    "The below code creates some x values and applies the Gaussian function $e^{-x^2}$ to it. Please plot the (x,y) pairs. Then add labels for the axes and the line, a plot title, and choose a linestyle for the line. Play with the <code>num</code> parameter of <code>np.linspace</code> and see how it changes the plot."
   ]
  },
  {
   "cell_type": "code",
   "execution_count": null,
   "metadata": {},
   "outputs": [],
   "source": [
    "def gaussian(x):\n",
    "    return np.exp(-x**2)\n",
    "\n",
    "x = np.linspace(start = -2, stop = 2, num = 10)\n",
    "y = gaussian(x)"
   ]
  },
  {
   "cell_type": "markdown",
   "metadata": {},
   "source": [
    "We can also have multiple lines on the same plot by calling <code>plt.plot()</code> again before displaying."
   ]
  },
  {
   "cell_type": "code",
   "execution_count": null,
   "metadata": {},
   "outputs": [],
   "source": []
  },
  {
   "cell_type": "markdown",
   "metadata": {},
   "source": [
    "Matplotlib can plot much more than just lines. For a comprehensive list check out the [matplotlib documentation](https://matplotlib.org/stable/api/pyplot_summary.html). Lets just go over a few that you will frequently use."
   ]
  },
  {
   "cell_type": "markdown",
   "metadata": {},
   "source": [
    "A scatter plot takes in x and y positions of points in a plane and places markers at their locations. Unlike <code>plt.plot()</code> matplotlib will not interpolate between points when you call <code>plt.scatter()</code>"
   ]
  },
  {
   "cell_type": "code",
   "execution_count": null,
   "metadata": {},
   "outputs": [],
   "source": []
  },
  {
   "cell_type": "markdown",
   "metadata": {},
   "source": [
    "### Exercise 1.2\n",
    "Create a scatter plot of the below (x,y) pairs. Try your best to make your plot look as nice as possible!"
   ]
  },
  {
   "cell_type": "code",
   "execution_count": null,
   "metadata": {},
   "outputs": [],
   "source": [
    "t = np.linspace(0,2*np.pi,1000)\n",
    "x = np.cos(t) + 0.1*np.random.randn(1000)\n",
    "y = np.sin(t) + 0.1*np.random.randn(1000)"
   ]
  },
  {
   "cell_type": "markdown",
   "metadata": {},
   "source": [
    "Another useful and common plot is a bar chart. To demonstrate bar charts lets plot the averages of the x and y values that we generated above. Lets also add error bars to the bar chart by and set their width to the standard deviation of the x and y values respectively. This function call is a little more complicated but not by much. To start we need to specify the x positions and heights of our bars. Since we are plotting 2 bars we simply set the <code>x</code> parameter to <code>[0, 1]</code>. We set our heights to the values we are comparing, the two means.</br></br>\n",
    "For the error bar, we specify the x and y positions as well as the y-error size. The x and y positions are the same as for the bar plot, but the y-error parameter is the standard deviation."
   ]
  },
  {
   "cell_type": "code",
   "execution_count": null,
   "metadata": {},
   "outputs": [],
   "source": []
  },
  {
   "cell_type": "markdown",
   "metadata": {},
   "source": [
    "Another common type of plot is a histogram. To make a histogram we can call the <code>plt.hist()</code> function and pass in the values for whom we want to see the distribution. Lets do this by looking at samples from a normal distribution."
   ]
  },
  {
   "cell_type": "code",
   "execution_count": null,
   "metadata": {},
   "outputs": [],
   "source": [
    "# Generate 10000 points from a normal distribution with mean = 0 and sd = 1\n"
   ]
  },
  {
   "cell_type": "markdown",
   "metadata": {},
   "source": [
    "If we want to make our histogram more fine-grained we can change the \"bins\" parameters in our function call. If we want to plot multiple distributions on the same plot to compare them, we can call <code>plt.hist()</code> twice and use the \"alpha\" parameter to change their opacities. Additionally, if we want to scale our histogram so that it is a probability density rather than a count, we can set the \"density\" variable to <code>True</code>."
   ]
  },
  {
   "cell_type": "code",
   "execution_count": null,
   "metadata": {},
   "outputs": [],
   "source": [
    "# Generate 10000 points from a normal distribution with mean = 0 and SD = 5\n"
   ]
  },
  {
   "cell_type": "markdown",
   "metadata": {},
   "source": [
    "Finally, if we want to export a figure as an image, we can call <code>plt.savefig()</code> before <code>plt.show()</code>. If you are working in a Jupyter Notebook, you can also save and/or copy your figure by clicking the floppy disk icon on the right.</br></br>\n",
    "**A helpful tip**: if you are done making your plot and want to make an image for your lab report, write the line <code>plt.rcParams['figure.dpi'] = 250</code> before you make your plot. This will increase the resolution of your plot. You need not choose 250, just something larger than 100 which is the default."
   ]
  },
  {
   "cell_type": "markdown",
   "metadata": {},
   "source": [
    "### Exercise 1.3\n",
    "Load the numpy array <code>exercise1_2.npy</code> in the Data folder by using <code>np.load()</code>. Use the first row as your x values and make 4 line plots with the rest of the rows. Then in a new cell, calculate the standard deviations of each row and plot them as a bar plot."
   ]
  },
  {
   "cell_type": "code",
   "execution_count": null,
   "metadata": {},
   "outputs": [],
   "source": [
    "# Your code here"
   ]
  },
  {
   "cell_type": "markdown",
   "metadata": {},
   "source": [
    "Finally, we can visualize a 2-dimenaional arrays as images using the <code>plt.imshow()</code> function."
   ]
  },
  {
   "cell_type": "code",
   "execution_count": null,
   "metadata": {},
   "outputs": [],
   "source": []
  },
  {
   "cell_type": "markdown",
   "metadata": {},
   "source": [
    "### Exercise 1.4\n",
    "\n",
    "Run the following code to download a picture file and save it as a numpy array into <code>img</code>. Then call <code>plt.imshow</code> on <code>img</code> to see the picture."
   ]
  },
  {
   "cell_type": "code",
   "execution_count": null,
   "metadata": {},
   "outputs": [],
   "source": [
    "import urllib.request\n",
    "imgURL = \"https://upload.wikimedia.org/wikipedia/commons/thumb/1/14/Chimp_Brain_in_a_jar.jpg/1920px-Chimp_Brain_in_a_jar.jpg\"\n",
    "urllib.request.urlretrieve(imgURL, \"Chimp_Brain.jpg\")\n",
    "img = plt.imread(\"Chimp_Brain.jpg\")"
   ]
  },
  {
   "cell_type": "markdown",
   "metadata": {},
   "source": [
    "<a id='Section2'></a>\n",
    "### Section 2 - Subplots"
   ]
  },
  {
   "cell_type": "markdown",
   "metadata": {},
   "source": [
    "Often times, we will want to make multiple plots on the same figure. To do this we can use matplotlibs subplots functionality by calling <code>plt.subplots()</code>. The first two arguments that <code>plt.subplots()</code> takes define the number of rows and columns of the subplot grid."
   ]
  },
  {
   "cell_type": "code",
   "execution_count": null,
   "metadata": {},
   "outputs": [],
   "source": []
  },
  {
   "cell_type": "markdown",
   "metadata": {},
   "source": [
    "Under the hood, we just created a 2x2 numpy array and can populate it with plots by indexing the different <code>axes</code> and calling matplotlib functions. Below I am plotting in each subplot a histogram of the 10000 samples we generated from a standard normal before"
   ]
  },
  {
   "cell_type": "code",
   "execution_count": null,
   "metadata": {},
   "outputs": [],
   "source": []
  },
  {
   "cell_type": "markdown",
   "metadata": {},
   "source": [
    "### Exercise 2.1\n",
    "\n",
    "Create two subplots side by side (i.e. one row, two columns). Plot $x$ in the first subplot and $x^2$ in the second subplot. Make the plots look as nice as you can!"
   ]
  },
  {
   "cell_type": "code",
   "execution_count": null,
   "metadata": {},
   "outputs": [],
   "source": [
    "x = np.linspace(-10,10,1000)\n",
    "\n",
    "# Your code here"
   ]
  },
  {
   "cell_type": "code",
   "execution_count": null,
   "metadata": {},
   "outputs": [],
   "source": []
  },
  {
   "cell_type": "markdown",
   "metadata": {},
   "source": [
    "If we want to change the size of our subplot we can specify the figsize in our function call. We can also call <code>fig.tight_layout()</code> before displaying our plot to make things better spaced."
   ]
  },
  {
   "cell_type": "code",
   "execution_count": null,
   "metadata": {},
   "outputs": [],
   "source": []
  },
  {
   "cell_type": "markdown",
   "metadata": {},
   "source": [
    "We have all of the same beautification functionality when working with multiple plots as when working with single plots, however many of the functions require us to write <code>set</code> before the usual function name now. Look at the example below to see what I mean. We can also use <code>fig.suptitle('a title')</code> to specify a title for the sub plots."
   ]
  },
  {
   "cell_type": "code",
   "execution_count": null,
   "metadata": {},
   "outputs": [],
   "source": []
  },
  {
   "cell_type": "markdown",
   "metadata": {},
   "source": [
    "One of the most common use cases for subplots is to visually compare two quantities of interest. For that it's very important that the subplots have the same x and y axes. For that we must specify <code>sharex=True</code> and <code>sharey=True</code> in <code>plt.subplots()</code>."
   ]
  },
  {
   "cell_type": "code",
   "execution_count": null,
   "metadata": {},
   "outputs": [],
   "source": []
  },
  {
   "cell_type": "markdown",
   "metadata": {},
   "source": [
    "### Exercise 2.2\n",
    "Using the same numpy array as exercise 1.2, plot the rows 1-4 in a 2x2 subplot, using the 0th row as the xvalues. Stylize each line however you would like."
   ]
  },
  {
   "cell_type": "code",
   "execution_count": null,
   "metadata": {},
   "outputs": [],
   "source": [
    "# Your code here"
   ]
  },
  {
   "cell_type": "markdown",
   "metadata": {},
   "source": [
    "<a id='Section3'></a>\n",
    "### Section 3 - Visualizing Uncertainty\n",
    "When dealing with scientific data it is always crucical measure the uncertainty of a statistic. There are many ways to do this including standard deviation, standard error of the mean, and confidence intervals to name a few. For this section we won't be talking about any of those, but instead go over ways to visualize our uncertainty with matplotlib."
   ]
  },
  {
   "cell_type": "markdown",
   "metadata": {},
   "source": [
    "To demonstrate doing this lets generate some noisy measurements of a cosine wave, do some ensemble averaging and then plot the standard deviation across our measurements by shading in our region of uncertainty."
   ]
  },
  {
   "cell_type": "code",
   "execution_count": null,
   "metadata": {},
   "outputs": [],
   "source": []
  },
  {
   "cell_type": "markdown",
   "metadata": {},
   "source": [
    "In order to visualize our uncertainty we first need to have some statistic for which we can measure the uncertainty. Lets take the ensemble average of our 50 measurements using numpy and also calculate the standard deviation across all of our measurements.\n",
    "</br>\n",
    "One common way to visualize uncertainty is via shading. Matplotlib can do this using the <code>plt.fill_between()</code> function. This function works similarly to <code>plt.plot()</code>, first we must define the x values of our plot, and then the region we'd like to be shaded, first by passing the lower bound and then the upper bound. It is also important to set the <code>alpha</code> parameter of the function to be less than 1. This controls the opacity of the shading."
   ]
  },
  {
   "cell_type": "code",
   "execution_count": null,
   "metadata": {},
   "outputs": [],
   "source": []
  },
  {
   "cell_type": "markdown",
   "metadata": {},
   "source": [
    "The <code>plt.fillbetween()</code> function need not only be used for demarcating regions of uncertainty, and can be used to shade in any region of the figure you would like. If you'd like to highlight a horizontal region, simply use the <code>plt.filbetweenx()</code> function instead."
   ]
  },
  {
   "cell_type": "code",
   "execution_count": null,
   "metadata": {},
   "outputs": [],
   "source": []
  },
  {
   "cell_type": "markdown",
   "metadata": {},
   "source": [
    "Finally, we can also visualize uncertainty using error bars at every point rather than shaded regions. For this example, it may not be the most helpful because of the amount of data points, but lets go over the <code>plt.errorbar()</code> function so that you can use it when you have a good use case.</br>\n",
    "To use the function, simply pass in your x/y values and set the <code>yerr</code> argument to your array of standard deviations or whatever other measurement is appropriate."
   ]
  },
  {
   "cell_type": "code",
   "execution_count": null,
   "metadata": {},
   "outputs": [],
   "source": []
  },
  {
   "cell_type": "markdown",
   "metadata": {},
   "source": [
    "### Exercise 3.1\n",
    "\n",
    "We will now return to Exercise 4.3 from the numpy notebook, but you will be expected to do both the averaging and the plotting. Don't cheat by looking at the numpy notebook for this problem!\n",
    "\n",
    "As a reminder, here is the setup:\n",
    "\n",
    "Imagine you have extracellular recordings from lab. You have 25 recordings that were each 1 second long and recorded at 50Hz, so you have a 25x50 array. Each row corresponds to a recording, and each column corresponds to a time point. You want to know what the average potential was at each point in time across your recordings. Average <code>lab_recordings</code> across trials and save the result in <code>average_recording</code>. Next, compute the standard deviation across trials and save the result in <code>recording_std</code>.\n",
    "\n",
    "When you're done, create two subplots side by side horizontally. In the first subplot, plot the first trial. In the second subplot, plot the mean recording. Use <code>plt.fill_between</code> to shade in the mean $\\pm$ the SEM in the second subplot. Then make sure your subplots look good (titles, x and ylabels, shading alpha not too high, same x and y axes, etc).\n",
    "\n",
    "$ SEM = \\frac{SD}{\\sqrt{n}}$\n",
    "\n",
    "\n",
    "\n",
    "After this exercise, congratulations, you've made a figure!"
   ]
  },
  {
   "cell_type": "code",
   "execution_count": null,
   "metadata": {},
   "outputs": [],
   "source": [
    "np.random.seed(1)\n",
    "time_points = np.linspace(0,1,50)\n",
    "lab_recordings = 10*np.array([np.sin(1000*np.pi*time_points) + 5*np.random.rand(50) for _ in range(25)])\n",
    "print(lab_recordings.shape)"
   ]
  }
 ],
 "metadata": {
  "kernelspec": {
   "display_name": "Python 3 (ipykernel)",
   "language": "python",
   "name": "python3"
  },
  "language_info": {
   "codemirror_mode": {
    "name": "ipython",
    "version": 3
   },
   "file_extension": ".py",
   "mimetype": "text/x-python",
   "name": "python",
   "nbconvert_exporter": "python",
   "pygments_lexer": "ipython3",
   "version": "3.9.18"
  }
 },
 "nbformat": 4,
 "nbformat_minor": 4
}
