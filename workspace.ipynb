{
 "cells": [
  {
   "cell_type": "markdown",
   "metadata": {},
   "source": [
    "# Neuroscience 490\n",
    "## Lesson 2 - Intro to numpy\n",
    "### Content\n",
    "[Section 1 - Import Statements](#Section1)<br/>\n",
    "[Section 2 - What is an array?](#Section2)<br/>\n",
    "[Section 3 - Generating Arrays](#Section3)<br/>\n",
    "[Section 4 - Common Array Functions](#Section4)<br/>\n",
    "[Section 5 - Math with Arrays](#Section5)<br/>\n",
    "Welcome back! This notebook picks up where we last left off and will assume that you have a good grasp on everything from the last notebook. If you get confused about something, feel free to go back and look at the first notebook or reach out if you still can't figure it out.<br/><br/>\n",
    "This tutorial covers the basics of using the NumPy python module, short for Numerical Python. <code>numpy</code> provides us with a bunch of new functions and data types that we can use to extend pythons functionality. In particular, <code>numpy</code> gives us the ability to work with numerical data in the form of large multi-dimensional arrays and matrices, as well as mathematical functions to operate on these arrays. These arrays are very useful for representing certain types of data. An array could contain voltage measurements in time from a lab experiment, they could be xyz coordinates of a neurons in the brain, or even images. Really they are just an easy way to manipulate numerical data quickly and at scale in python."
   ]
  },
  {
   "cell_type": "markdown",
   "metadata": {},
   "source": [
    "<a id='Section1'></a>\n",
    "### Section 1 - Import Statments and Using Modules\n",
    "Before we can start learning how to use <code>numpy</code>, we must first import it"
   ]
  },
  {
   "cell_type": "code",
   "execution_count": 1,
   "metadata": {},
   "outputs": [],
   "source": [
    "import numpy"
   ]
  },
  {
   "cell_type": "markdown",
   "metadata": {},
   "source": [
    "What I have written above is called an **import statement**. Running it means we now have access to all of the functions and data types that come with <code>numpy</code> and we can access them by using the <code>np.</code> prefix.</br></br>\n",
    "Whenever we want to import a module we must write an import statement like this. For common modules which we will use a lot, it is common to provide an \"alias\" for the module. In this case we gave numpy the alias <code>np</code> and this is the canonical alias it is given. Aliases allow us to more easily refer to modules later.<br/></br>\n",
    "For today, we are also going to want some plotting/visualization capabilities and so I am going to import a visualization module called <code>matplotlib</code>. We won't go over how to use matplotlib in this notebook, but we will learn about how to use numpy in tandem with other modules to make visualizations in future sessions."
   ]
  },
  {
   "cell_type": "code",
   "execution_count": null,
   "metadata": {},
   "outputs": [],
   "source": []
  },
  {
   "cell_type": "markdown",
   "metadata": {},
   "source": [
    "<a id='Section2'></a>\n",
    "### Section 2 - What is an array?"
   ]
  },
  {
   "cell_type": "markdown",
   "metadata": {},
   "source": [
    "Arrays are ***the*** central data structure of numpy. They are similar to a python list but are capable of much much more. There is A LOT of functionality that arrays have access to that don't exist for the generic python list.<br/><br/>\n",
    "\n",
    "At their core, arrays are just lists of numbers. But perhaps most importantly is that numpy arrays are built to be multidimensional. We can have one-dimensional arrays, also known as vectors:\n",
    "\n",
    "$$\\begin{bmatrix} 1 & 2 & 3 & 4 & 5 \\end{bmatrix}$$\n",
    "\n",
    "Or we can have two-dimensional arrays, also known as matrices:\n",
    "\n",
    "$$\\begin{bmatrix}0 & 1 & 2 & 3 \\\\ 4 & 5 & 6 & 7 \\\\ 8 & 9 & 10 & 11 \\end{bmatrix}$$\n",
    "\n",
    "However, we aren't limited to just 2-dimensions and for particular tasks or projects we might *need* more than 2. Take an RGB image for example. We can represent an RGB image as a 3-dimensional array of size <code>(H, W, 3)</code> where <code>H</code> is the height of the image <code>W</code> is its width, and the 3 is for the 3 color channels, red, green, and blue.<br/><br/> For now lets just stick to the basics.<br/><br/>\n",
    "We can define an array just like any other variable."
   ]
  },
  {
   "cell_type": "code",
   "execution_count": null,
   "metadata": {},
   "outputs": [],
   "source": []
  },
  {
   "cell_type": "markdown",
   "metadata": {},
   "source": [
    "As was said before, arrays are similar to the built-in python list, but they have much more functionality and are also much more efficient for processing numerical data, so your code will be much faster if you do math with numpy arrays rather than Python lists. To see some of this functionality, lets see what happens if we make an equivalent array using the built-in list and we try to square the list."
   ]
  },
  {
   "cell_type": "code",
   "execution_count": null,
   "metadata": {},
   "outputs": [],
   "source": []
  },
  {
   "cell_type": "markdown",
   "metadata": {},
   "source": [
    "Okay, so we got an error. Python won't let us do this. What happens if we try the same thing with our numpy array?"
   ]
  },
  {
   "cell_type": "code",
   "execution_count": null,
   "metadata": {},
   "outputs": [],
   "source": []
  },
  {
   "cell_type": "markdown",
   "metadata": {},
   "source": [
    "So as you can see when we squared our numpy array, we got back a new array where every element of the array got squared, but when we tried it with a python list of lists, we got back an error. This highlights why we like numpy arrays so much, they make doing otherwise difficult manipulations of numerical data a breeze compared to using native python. If we wanted to do this with a list we'd have to use a for loop or write some slow and error prone code.</br></br>\n",
    "There are many more things we can do than just square arrays."
   ]
  },
  {
   "cell_type": "code",
   "execution_count": null,
   "metadata": {},
   "outputs": [],
   "source": []
  },
  {
   "cell_type": "markdown",
   "metadata": {},
   "source": [
    "We can also do logical operations on numpy arrays, which will give us boolean arrays."
   ]
  },
  {
   "cell_type": "code",
   "execution_count": null,
   "metadata": {},
   "outputs": [],
   "source": []
  },
  {
   "cell_type": "markdown",
   "metadata": {},
   "source": [
    "### Exercise 2.1\n",
    "\n",
    "Create the following array, and store it in a variable:\n",
    "$$\\begin{bmatrix} 1 & 2 & 3 & 4 \\end{bmatrix}.$$\n",
    "Then, update the variable by subtracting 1 from every element with an array operation (no for loops!)"
   ]
  },
  {
   "cell_type": "code",
   "execution_count": null,
   "metadata": {},
   "outputs": [],
   "source": []
  },
  {
   "cell_type": "markdown",
   "metadata": {},
   "source": [
    "We can also query arrays to retrieve the values they contain at certain indices"
   ]
  },
  {
   "cell_type": "code",
   "execution_count": null,
   "metadata": {},
   "outputs": [],
   "source": []
  },
  {
   "cell_type": "markdown",
   "metadata": {},
   "source": [
    "All of this generalizes to numpy arrays that are higher dimensional. Lets construct a 2d array and get a feel for working with them."
   ]
  },
  {
   "cell_type": "code",
   "execution_count": null,
   "metadata": {},
   "outputs": [],
   "source": []
  },
  {
   "cell_type": "markdown",
   "metadata": {},
   "source": [
    "### Exercise 2.2\n",
    "\n",
    "Create the following matrix, and store it to a variable:\n",
    "\n",
    "$$\\begin{bmatrix} 1 & 2 \\\\ 3 & 4 \\end{bmatrix}.$$\n",
    "\n",
    "Then, square the matrix (elementwise) with an array operation, and print out the result. Your answer should look like this:\n",
    "\n",
    "$$\\begin{bmatrix} 1 & 4 \\\\ 9 & 16 \\end{bmatrix}.$$"
   ]
  },
  {
   "cell_type": "code",
   "execution_count": null,
   "metadata": {},
   "outputs": [],
   "source": []
  },
  {
   "cell_type": "markdown",
   "metadata": {},
   "source": [
    "How can we index this array to query certain values? We can do this very similarly to how we indexed lists."
   ]
  },
  {
   "cell_type": "code",
   "execution_count": null,
   "metadata": {},
   "outputs": [],
   "source": []
  },
  {
   "cell_type": "markdown",
   "metadata": {},
   "source": [
    "\n",
    "\n",
    "As you see, when we just use one number to query a 2-dimensional array, we get back the corresponding row. In order to get a specific element we need to use two indices."
   ]
  },
  {
   "cell_type": "code",
   "execution_count": null,
   "metadata": {},
   "outputs": [],
   "source": []
  },
  {
   "cell_type": "markdown",
   "metadata": {},
   "source": [
    "We can also get specific columns of a 2d array by using slices like we did with lists.</br></br>\n",
    "Let's say for example, that we wanted to get the third column of our array, the one that contains <code>[2, 6, 10]</code> as its entries (I refer to it as the third column, but remember that we start from zero in python).</br></br> We can do that by saying we want the entry in the third position in every row. To indicate that we want **every** row, we replace the row index with <code>:</code>."
   ]
  },
  {
   "cell_type": "code",
   "execution_count": null,
   "metadata": {},
   "outputs": [],
   "source": []
  },
  {
   "cell_type": "markdown",
   "metadata": {},
   "source": [
    "The same syntax works for grabbing an individual column, if you prefer it over using a single index. Now we specify that we want the elements in a specific row (the first one here), across all columns:"
   ]
  },
  {
   "cell_type": "code",
   "execution_count": null,
   "metadata": {},
   "outputs": [],
   "source": []
  },
  {
   "cell_type": "markdown",
   "metadata": {},
   "source": [
    "You can read syntax like <code>[:, 2]</code> as \"Every row, column index two\" or \"All of the elements in column 2\" (with the understanding that we start at column 0).\n",
    "\n",
    "In numpy when working with 2d arrays, our first index will always refer to the *rows* of our array. If you ever aren't sure which index position refers to which dimension, you can use the <code>shape</code> parameter to see the size of each dimension."
   ]
  },
  {
   "cell_type": "code",
   "execution_count": null,
   "metadata": {},
   "outputs": [],
   "source": []
  },
  {
   "cell_type": "markdown",
   "metadata": {},
   "source": [
    "Here we got back <code>(3,4)</code> because we have 3 rows and 4 columns. It's important to always keep in mind the shape of your arrays so you don't get confused or introduce bugs. Always check .shape before doing anything else if you aren't 100% sure about the size of your array!"
   ]
  },
  {
   "cell_type": "markdown",
   "metadata": {},
   "source": [
    "We can also do all the same kinds of slicing we did with lists with numpy arrays, and they will behave as you expect. For example, if we want to retrieve all but the first row of our array we can do that like so."
   ]
  },
  {
   "cell_type": "code",
   "execution_count": null,
   "metadata": {},
   "outputs": [],
   "source": []
  },
  {
   "cell_type": "markdown",
   "metadata": {},
   "source": [
    "When you are working with data, you will frequently have to slice across different axes. This is tricky at first to wrap your head around! The syntax is the same as before. For example, let's say we want the first two rows and first columns of our array. We would do it as follows:"
   ]
  },
  {
   "cell_type": "code",
   "execution_count": null,
   "metadata": {},
   "outputs": [],
   "source": []
  },
  {
   "cell_type": "markdown",
   "metadata": {},
   "source": [
    "### Exercise 2.3\n",
    "Print out the contents of the last column of <code>arr</code> excluding the first row. Hint: Recall that indexing with -1 will give the last element."
   ]
  },
  {
   "cell_type": "code",
   "execution_count": null,
   "metadata": {},
   "outputs": [],
   "source": []
  },
  {
   "cell_type": "markdown",
   "metadata": {},
   "source": [
    "### **Now is a good time to pause and make sure you understand how querying and indexing of arrays works. This is really important and its worth slowing down to make sure you fully get it. Understanding indexing is probably the most important skill when it comes to using numpy.**\n",
    "\n",
    "Next we'll introduce one of the most important and commonly used numpy functions: reshape. We can use it to change the ordering of our elements and the shape of our array, so long as the numbers add up. For example"
   ]
  },
  {
   "cell_type": "code",
   "execution_count": null,
   "metadata": {},
   "outputs": [],
   "source": []
  },
  {
   "cell_type": "markdown",
   "metadata": {},
   "source": [
    "Keep in mind that, as you can see above, when reshaping a 1D array into a 2D array, we fill up the first row with entries from the array, then the second row, and so on. This is just the default; if you would like to instead fill up each column sequentially, specify <code>order='F'</code> in the reshape function."
   ]
  },
  {
   "cell_type": "code",
   "execution_count": null,
   "metadata": {},
   "outputs": [],
   "source": []
  },
  {
   "cell_type": "markdown",
   "metadata": {},
   "source": [
    "### Exercise 2.4\n",
    "Reshape the first row of the following matrix to a 2x2 matrix, and save it to a variable named 'my_matrix.' Your answer should look like this:\n",
    "$$\\begin{bmatrix} 1 & 2 \\\\ 3 & 4 \\end{bmatrix}$$"
   ]
  },
  {
   "cell_type": "code",
   "execution_count": null,
   "metadata": {},
   "outputs": [],
   "source": [
    "my_matrix = np.arange(1, 17)\n",
    "# your code here"
   ]
  },
  {
   "cell_type": "markdown",
   "metadata": {},
   "source": [
    "<a id='Section3'></a>\n",
    "### Section 3 - Generating Arrays"
   ]
  },
  {
   "cell_type": "markdown",
   "metadata": {},
   "source": [
    "We typically don't create numpy arrays by putting in all the values ourselves. Numpy comes with many ways to generate arrays with specific elements so long as we give it arguments. The most common ones are np.zeros, np.ones, np.arange, np.linspace, and np.random.rand."
   ]
  },
  {
   "cell_type": "code",
   "execution_count": null,
   "metadata": {},
   "outputs": [],
   "source": []
  },
  {
   "cell_type": "markdown",
   "metadata": {},
   "source": [
    "We aren't limited to one-dimensional arrays when using these functions either."
   ]
  },
  {
   "cell_type": "code",
   "execution_count": null,
   "metadata": {},
   "outputs": [],
   "source": []
  },
  {
   "cell_type": "markdown",
   "metadata": {},
   "source": [
    "We can also use the <code>np.zeros_like()</code> and <code>np.ones_like()</code> functions to generate arrays that have the same shape as a different one, but are filled with zeros or ones respectively"
   ]
  },
  {
   "cell_type": "code",
   "execution_count": null,
   "metadata": {},
   "outputs": [],
   "source": []
  },
  {
   "cell_type": "markdown",
   "metadata": {},
   "source": [
    "Of course, we can change the values of arrays just like we could change the values of lists."
   ]
  },
  {
   "cell_type": "code",
   "execution_count": null,
   "metadata": {},
   "outputs": [],
   "source": []
  },
  {
   "cell_type": "markdown",
   "metadata": {},
   "source": [
    "And of course, we can use all the stuff we learned in the other notebook (for loops, if statements, functions) to help make this easier."
   ]
  },
  {
   "cell_type": "markdown",
   "metadata": {},
   "source": [
    "### Exercise 3.1\n",
    "Try and guess what the entries of the above array will be when we are done running through the following for loop. Seriously go through it and write out on paper which entries will be one and which will be zero. Remember we are starting from the matrix above. "
   ]
  },
  {
   "cell_type": "code",
   "execution_count": null,
   "metadata": {},
   "outputs": [],
   "source": [
    "zero_arr = np.zeros(shape=(7, 7))\n",
    "for i in range(7):\n",
    "    zero_arr[i, i] = 1\n",
    "    zero_arr[i, -i - 1] = 1"
   ]
  },
  {
   "cell_type": "markdown",
   "metadata": {},
   "source": [
    "Then, uncomment the 3 lines below and run the cell to see what the array looks like. "
   ]
  },
  {
   "cell_type": "code",
   "execution_count": null,
   "metadata": {},
   "outputs": [],
   "source": [
    "#print(zero_arr)\n",
    "#plt.imshow(zero_arr, cmap='binary') \n",
    "#plt.show()"
   ]
  },
  {
   "cell_type": "markdown",
   "metadata": {},
   "source": [
    "Numpy allows us to use boolean indexing which is super nice! You can do that like this"
   ]
  },
  {
   "cell_type": "code",
   "execution_count": null,
   "metadata": {},
   "outputs": [],
   "source": []
  },
  {
   "cell_type": "markdown",
   "metadata": {},
   "source": [
    "Make sure you understand this, because this is a really powerful and common operation. Maybe you want to grab only the entries of an array above some threshold, like if you were writing some script to detect neuron spikes."
   ]
  },
  {
   "cell_type": "markdown",
   "metadata": {},
   "source": [
    "### Exercise 3.2\n",
    "\n",
    "Use boolean indexing to print out the entries of the following array that are positive."
   ]
  },
  {
   "cell_type": "code",
   "execution_count": null,
   "metadata": {},
   "outputs": [],
   "source": [
    "np.random.seed(1)\n",
    "cool_arr = np.random.rand(10)\n",
    "cool_arr[::2] = cool_arr[::2] - 2*np.random.rand(5)\n",
    "print(cool_arr)"
   ]
  },
  {
   "cell_type": "markdown",
   "metadata": {},
   "source": [
    "<a id='Section4'></a>\n",
    "### Section 4 - Common array functions"
   ]
  },
  {
   "cell_type": "markdown",
   "metadata": {},
   "source": [
    "Here we'll go through some of the most common functions you'll use when working with numpy arrays."
   ]
  },
  {
   "cell_type": "markdown",
   "metadata": {},
   "source": [
    "Numpy allows us to extract numerical information about our arrays like the max, mean, etc."
   ]
  },
  {
   "cell_type": "code",
   "execution_count": null,
   "metadata": {},
   "outputs": [],
   "source": []
  },
  {
   "cell_type": "markdown",
   "metadata": {},
   "source": [
    "Maybe you want to know when the min or max occur rather than what the actual minimum and maximum are. For that you'll use <code>argmin</code> or <code>argmax</code>. These give you the index corresponding to the maximum."
   ]
  },
  {
   "cell_type": "code",
   "execution_count": null,
   "metadata": {},
   "outputs": [],
   "source": []
  },
  {
   "cell_type": "markdown",
   "metadata": {},
   "source": [
    "If you call <code>argmin</code> or <code>argmax</code> on a higher dimensional array, it will flatten the array first into a 1D array and then give you the maximum index. Oftentimes this isn't what you want, so you can use <code>np.unravel_index</code> to convert the unraveled index into something you can actually use to index your array. You must tell <code>np.unravel_index</code> what the shape of the original array is."
   ]
  },
  {
   "cell_type": "code",
   "execution_count": null,
   "metadata": {},
   "outputs": [],
   "source": []
  },
  {
   "cell_type": "markdown",
   "metadata": {},
   "source": [
    "### Exercise 4.1\n",
    "Get the index of the maximum of the following matrix, unravel it, and use it to print out the maximum."
   ]
  },
  {
   "cell_type": "code",
   "execution_count": null,
   "metadata": {},
   "outputs": [],
   "source": [
    "A = np.random.rand(3,2)"
   ]
  },
  {
   "cell_type": "markdown",
   "metadata": {},
   "source": [
    "Sometimes you want the indices satisfying a more complicated condition. For that we use <code>np.argwhere</code>. For example, let's say I want the indices of the elements from <code>arr</code> that are perfect squares. I'll check if each element's square root does not change in value if I cast it to an integer, which tells me that the square root was an integer. To cast the array to an array of integers, I'll use the <code>astype</code> method."
   ]
  },
  {
   "cell_type": "code",
   "execution_count": null,
   "metadata": {},
   "outputs": [],
   "source": []
  },
  {
   "cell_type": "markdown",
   "metadata": {},
   "source": [
    "Note that if I just wanted to grab the perfect squares, I could just use boolean indexing."
   ]
  },
  {
   "cell_type": "code",
   "execution_count": null,
   "metadata": {},
   "outputs": [],
   "source": []
  },
  {
   "cell_type": "markdown",
   "metadata": {},
   "source": [
    "### Exercise 4.2\n",
    "\n",
    "Use <code>np.argwhere</code> to find the indices of the elements of <code>arr</code> that are greater than or equal to 5."
   ]
  },
  {
   "cell_type": "code",
   "execution_count": null,
   "metadata": {},
   "outputs": [],
   "source": []
  },
  {
   "cell_type": "markdown",
   "metadata": {},
   "source": [
    "The most common mathematical functions are all represented in numpy:"
   ]
  },
  {
   "cell_type": "markdown",
   "metadata": {},
   "source": [
    "$e^x: $ <code>np.exp(x)</code>\n",
    "\n",
    "$\\sin(x): $ <code>np.sin(x)</code>\n",
    "\n",
    "$\\ln(x): $ <code>np.log(x)</code>\n",
    "\n",
    "$\\log_{10}(x): $ <code>np.log10(x)</code>\n",
    "\n",
    "$\\sqrt{x}: $ <code>np.sqrt(x)</code>"
   ]
  },
  {
   "cell_type": "code",
   "execution_count": null,
   "metadata": {},
   "outputs": [],
   "source": [
    "\n",
    "# We can give arrays instead of numbers as well and numpy will compute it for each element in the array!\n",
    "#period = np.linspace(0, 2 * np.pi, 9)\n",
    "#print(np.cos(period))\n",
    "#plt.plot(period, np.cos(period))     # Again, just showing that it is actually computing cos(period), we are just taking very few samples from the cosine function\n",
    "#plt.show()\n"
   ]
  },
  {
   "cell_type": "markdown",
   "metadata": {},
   "source": [
    "**\"Hey, I thought cos(pi/2) == 0,  why did we get 6.12323400e-17?\"** <br/>\n",
    "Computers have finite precision. While $\\pi$ has an infinite number of decimals in reality, in numpy $\\pi=3.141592653589793$. Issues like this often occur when computing really small numbers. As you can tell the number is incredily small and is basically zero. If numpy ever gives you a number around 1e-16 or lower that you expect to be zero, you can consider that to be zero."
   ]
  },
  {
   "cell_type": "markdown",
   "metadata": {},
   "source": [
    "Common statistical functions are also in numpy."
   ]
  },
  {
   "cell_type": "markdown",
   "metadata": {},
   "source": [
    "mean: <code>np.mean</code>\n",
    "\n",
    "standard deviation: <code>np.std</code>\n",
    "\n",
    "median: <code>np.median</code>"
   ]
  },
  {
   "cell_type": "markdown",
   "metadata": {},
   "source": [
    "Something that's particularly nice (and very important!), is that we can use these numerical functions to get values from an array **along a specific axis/dimension**. In other words, when we use <code>arr.mean()</code> we don't have to take the mean of the entire array, but we can instead ask for the mean of the columns, or the mean of the rows, etc."
   ]
  },
  {
   "cell_type": "code",
   "execution_count": null,
   "metadata": {},
   "outputs": [],
   "source": []
  },
  {
   "cell_type": "markdown",
   "metadata": {},
   "source": [
    "This kind of operation is extremely common and you should make sure you feel comfortable with how it works.</br></br>\n",
    "\n",
    "### Exercise 4.3\n",
    "Here is something that you will certainly do to analyze your lab data. Imagine you have extracellular recordings from lab. You have 25 recordings that were each 1 second long and recorded at 50Hz, so you have a 25x50 array. Each row corresponds to a recording, and each column corresponds to a time point. You want to know what the average potential was at each point in time across your recordings. Average <code>lab_recordings</code> across trials and save the result in <code>average_recording</code>. Next, compute the standard deviation across trials and save the result in <code>recording_std</code>. When you're done, run the plotting code in the next cell. Hint: Check the shape of <code>average_recording</code> after you're done to make sure you did it right. Don't worry about how <code>lab_recordings</code> is generated if you don't understand it.\n",
    "\n",
    "This exercise should show you how trial averaging helps us to pick out trends from noisy data."
   ]
  },
  {
   "cell_type": "code",
   "execution_count": null,
   "metadata": {},
   "outputs": [],
   "source": [
    "np.random.seed(1)\n",
    "time_points = np.linspace(0,1,50)\n",
    "lab_recordings = 10*np.array([np.sin(1000*np.pi*time_points) + 5*np.random.rand(50) for _ in range(25)])\n",
    "print(lab_recordings.shape)\n",
    "#average_recording = \n",
    "#recording_std = "
   ]
  },
  {
   "cell_type": "code",
   "execution_count": null,
   "metadata": {},
   "outputs": [],
   "source": [
    "recording_sem = recording_std / np.sqrt(25)\n",
    "fig,ax = plt.subplots(1,2,sharex=True,sharey=True)\n",
    "ax[0].plot(np.linspace(0,1,50),lab_recordings[0])\n",
    "ax[0].set_ylabel(\"Microvolts\")\n",
    "ax[0].set_title(\"Example Trial Response\")\n",
    "ax[1].plot(np.linspace(0,1,50),average_recording)\n",
    "ax[1].fill_between(np.linspace(0,1,50),average_recording-recording_sem,average_recording+recording_sem,alpha=0.3)\n",
    "ax[1].set_ylabel(\"Microvolts\")\n",
    "ax[1].set_xlabel(\"Time (seconds)\")\n",
    "ax[1].set_title(\"Trial Averaged Response\")"
   ]
  },
  {
   "cell_type": "markdown",
   "metadata": {},
   "source": [
    "The light blue around our trial averaged response is the standard error of the mean (SEM), which is the standard deviation divided by the square root of the number of trials. Whenever you report a trial average, you should report this as well to give an indication of how much variability is in your data. In this case, it's clear that the sinusoidal pattern we find in the trial averaged data is something 'real' in our data, not merely noise."
   ]
  },
  {
   "cell_type": "markdown",
   "metadata": {},
   "source": [
    "<a id='Section5'></a>\n",
    "### Section 5 - Math with Arrays"
   ]
  },
  {
   "cell_type": "markdown",
   "metadata": {},
   "source": [
    "We've already seen that we can do some math with arrays that we weren't able to do with native python lists, but we can still do much more."
   ]
  },
  {
   "cell_type": "code",
   "execution_count": null,
   "metadata": {},
   "outputs": [],
   "source": []
  },
  {
   "cell_type": "markdown",
   "metadata": {},
   "source": [
    "We can also add together two arrays, so long as they have the same shape."
   ]
  },
  {
   "cell_type": "code",
   "execution_count": null,
   "metadata": {},
   "outputs": [],
   "source": []
  },
  {
   "cell_type": "markdown",
   "metadata": {},
   "source": [
    "Lets see what happens if they don't have the same shape"
   ]
  },
  {
   "cell_type": "code",
   "execution_count": null,
   "metadata": {},
   "outputs": [],
   "source": []
  },
  {
   "cell_type": "markdown",
   "metadata": {},
   "source": [
    "And if we are dealing with multi-dimensional arrays we can also do matrix multiplication using the @ symbol (this is unique to numpy). If you aren't familiar with matrix multiplication don't worry about this."
   ]
  },
  {
   "cell_type": "code",
   "execution_count": null,
   "metadata": {
    "scrolled": true
   },
   "outputs": [],
   "source": []
  },
  {
   "cell_type": "markdown",
   "metadata": {},
   "source": [
    "Operations can also be applied to a specific slice of an array. Try to understand the following example."
   ]
  },
  {
   "cell_type": "code",
   "execution_count": null,
   "metadata": {},
   "outputs": [],
   "source": []
  },
  {
   "cell_type": "markdown",
   "metadata": {},
   "source": [
    "### Exercise 5.1\n",
    "\n",
    "Use a for loop to multiply each row of the following array by its row index + 1. So the first row (index 0) should be unchanged, the second row should be doubled, the third row should be tripled, and the fourth row should be quadrupled. Save the resulting array in <code>new_arr</code>."
   ]
  },
  {
   "cell_type": "code",
   "execution_count": null,
   "metadata": {},
   "outputs": [],
   "source": [
    "arr = np.arange(16).reshape(4,4)\n",
    "print(arr)\n",
    "new_arr = np.zeros((4,4))\n",
    "### your code here\n",
    "\n",
    "\n",
    "\n",
    "print(new_arr)"
   ]
  }
 ],
 "metadata": {
  "kernelspec": {
   "display_name": "Python 3 (ipykernel)",
   "language": "python",
   "name": "python3"
  },
  "language_info": {
   "codemirror_mode": {
    "name": "ipython",
    "version": 3
   },
   "file_extension": ".py",
   "mimetype": "text/x-python",
   "name": "python",
   "nbconvert_exporter": "python",
   "pygments_lexer": "ipython3",
   "version": "3.9.18"
  }
 },
 "nbformat": 4,
 "nbformat_minor": 4
}
