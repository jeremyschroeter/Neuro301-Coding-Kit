{
 "cells": [
  {
   "cell_type": "code",
   "execution_count": 149,
   "metadata": {},
   "outputs": [],
   "source": [
    "import numpy as np\n",
    "import matplotlib.pyplot as plt\n",
    "from scipy.io import loadmat\n",
    "import labchart_tools as lct"
   ]
  },
  {
   "cell_type": "code",
   "execution_count": 211,
   "metadata": {},
   "outputs": [],
   "source": [
    "class DataLoader:\n",
    "    def __init__(self, mat_path: str) -> None:\n",
    "        '''\n",
    "        DataLoader object which acts as a container for LabChart channel data\n",
    "        that has been exported as a MATLAB file.\n",
    "        \n",
    "        Example usage:\n",
    "            dataloader = DataLoader(file_path)\\n\n",
    "            channel_data = dataloader.data['Channel #']\n",
    "        '''\n",
    "        \n",
    "        self.mat_dict = loadmat(file_name=mat_path)\n",
    "        self.n_channels = self.mat_dict['titles'].shape[0]\n",
    "        \n",
    "        self.data = {\n",
    "            f'Channel {ch + 1}' : self._split_blocks(ch) for ch in range(self.n_channels)\n",
    "        }\n",
    "        \n",
    "\n",
    "    def _split_blocks(self, channel_idx: int) -> list[np.ndarray]:\n",
    "        '''\n",
    "        Private method that is used to build the self.data dictionary\n",
    "        '''\n",
    "        \n",
    "        raw = self.mat_dict['data'].reshape(-1)\n",
    "        channel_starts = self.mat_dict['datastart'][channel_idx] - 1\n",
    "        channel_ends = self.mat_dict['dataend'][channel_idx]\n",
    "        \n",
    "        n_blocks = channel_starts.shape[0]\n",
    "        channel_blocks = []\n",
    "        for idx in range(n_blocks):\n",
    "            start = int(channel_starts[idx])\n",
    "            end = int(channel_ends[idx])\n",
    "            channel_blocks.append(raw[start : end])\n",
    "\n",
    "        return channel_blocks\n",
    "    \n",
    "    def get_block(self, block_index: int) -> np.ndarray:\n",
    "        block = []\n",
    "        for data in self.data.values():\n",
    "            block.append(data[block_index])\n",
    "        \n",
    "    @property\n",
    "    def sample_rate(self) -> np.ndarray:\n",
    "        '''\n",
    "        Property which returns the sample rate for all channels.\n",
    "        '''\n",
    "        return self.mat_dict['samplerate']"
   ]
  },
  {
   "cell_type": "code",
   "execution_count": 207,
   "metadata": {},
   "outputs": [],
   "source": [
    "data = DataLoader('./Data/step_response_trial.mat')"
   ]
  },
  {
   "cell_type": "code",
   "execution_count": 209,
   "metadata": {},
   "outputs": [
    {
     "data": {
      "text/plain": [
       "array([[20000.],\n",
       "       [20000.]])"
      ]
     },
     "execution_count": 209,
     "metadata": {},
     "output_type": "execute_result"
    }
   ],
   "source": [
    "data.sample_rate"
   ]
  },
  {
   "cell_type": "code",
   "execution_count": null,
   "metadata": {},
   "outputs": [],
   "source": []
  }
 ],
 "metadata": {
  "kernelspec": {
   "display_name": "Python 3 (ipykernel)",
   "language": "python",
   "name": "python3"
  },
  "language_info": {
   "codemirror_mode": {
    "name": "ipython",
    "version": 3
   },
   "file_extension": ".py",
   "mimetype": "text/x-python",
   "name": "python",
   "nbconvert_exporter": "python",
   "pygments_lexer": "ipython3",
   "version": "3.9.18"
  }
 },
 "nbformat": 4,
 "nbformat_minor": 4
}
