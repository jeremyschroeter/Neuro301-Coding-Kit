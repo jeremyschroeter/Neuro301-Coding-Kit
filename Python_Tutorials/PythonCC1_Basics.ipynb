{
 "cells": [
  {
   "attachments": {},
   "cell_type": "markdown",
   "metadata": {},
   "source": [
    "<a id='top'></a>\n",
    "# Neuroscience 301\n",
    "# Python Crash Course\n",
    "## Part 1 - Python Basics\n",
    "### Content\n",
    "[Section 1 - Python is a calculator](#Section1)<br/>\n",
    "[Section 2 - Variables](#Section2)<br/>\n",
    "[Section 3 - Boolean Expressions](#Section3)<br/>\n",
    "[Section 4 - Data Types](#Section4)<br/>\n",
    "[Section 5 - Loops](#Section5)<br/>\n",
    "[Section 6 - If Statements](#Section6)<br/>\n",
    "[Section 7 - Functions](#Section7)<br/>\n",
    "[Section 8 - Lists](#Section8)\n",
    "\n",
    "### Intro - Welcome to a Jupyter Notebook!\n",
    "Jupyter notebooks are a file format that allows us to intersperse text and python code in small chunks called \"cells\". We can run the cells in a Jupyter notebook by selecting a cell with our mouse and clicking the play button. Try it out by clicking on the math in the cell below and pressing the play button.<br/>\n"
   ]
  },
  {
   "cell_type": "code",
   "execution_count": 3,
   "metadata": {},
   "outputs": [
    {
     "name": "stdout",
     "output_type": "stream",
     "text": [
      "30\n"
     ]
    }
   ],
   "source": [
    "print(9 + 21)"
   ]
  },
  {
   "attachments": {},
   "cell_type": "markdown",
   "metadata": {},
   "source": [
    "All the code that you see in the python cells is editable! Try changing things and seeing what happens. If you get an error that is okay!"
   ]
  },
  {
   "attachments": {},
   "cell_type": "markdown",
   "metadata": {},
   "source": [
    "<a id='Section1'></a>\n",
    "## Section 1 - Python is a calculator\n",
    "Python is a powerful calculator. It can evaluate any arithmetic expressions you give it."
   ]
  },
  {
   "cell_type": "code",
   "execution_count": 4,
   "metadata": {},
   "outputs": [
    {
     "name": "stdout",
     "output_type": "stream",
     "text": [
      "5\n",
      "7\n",
      "22.0\n",
      "8\n",
      "42\n"
     ]
    }
   ],
   "source": [
    "print(5)\n",
    "print(3 + 4)\n",
    "print(44 / 2)\n",
    "\n",
    "# in python, double asterisks means \"raised to a power\"\n",
    "print(2 ** 3)\n",
    "\n",
    "# python also follows order of operation when performing calculations\n",
    "print(3 * 4 + 5 * 6)"
   ]
  },
  {
   "cell_type": "code",
   "execution_count": 5,
   "metadata": {},
   "outputs": [
    {
     "name": "stdout",
     "output_type": "stream",
     "text": [
      "1\n",
      "3\n",
      "1\n"
     ]
    }
   ],
   "source": [
    "# You might have not seen this one before '%', is called the modulus. It means 'remainder' when dividing a number by an imperfect factor\n",
    "print(26 % 5)\n",
    "print(33 % 10)\n",
    "print(45 % 2)"
   ]
  },
  {
   "attachments": {},
   "cell_type": "markdown",
   "metadata": {},
   "source": [
    "If the order of operations in a calculation isn't obvious, you can use parentheses to clarify the precedence of operations, just like in hand written expressions"
   ]
  },
  {
   "cell_type": "code",
   "execution_count": 6,
   "metadata": {},
   "outputs": [
    {
     "name": "stdout",
     "output_type": "stream",
     "text": [
      "22.22222222222222\n"
     ]
    }
   ],
   "source": [
    "print((72 - 32) / 9 * 5)"
   ]
  },
  {
   "attachments": {},
   "cell_type": "markdown",
   "metadata": {},
   "source": [
    "*\"What's this print(____) thing you've been writing?\"* <br />\n",
    "If we want python to show us what something is we can just use the built-in <code>print()</code> function. Just put whatever you want to see within the parentheses after \"print\"</br></br>\n",
    "*Why have you been writing \"<code>#</code>\"?*</br>\n",
    "Writing the pound symbol (<code>#</code>) allows us to add comments to our code. This is text that we can read but that the computer will ignore when running your code"
   ]
  },
  {
   "cell_type": "markdown",
   "metadata": {},
   "source": [
    "Python does not limit us to printing just math expressions. We can also print out text by wrapping it in quotation marks. Text is referred to as \"strings\" in computer lingo"
   ]
  },
  {
   "cell_type": "code",
   "execution_count": 8,
   "metadata": {},
   "outputs": [
    {
     "name": "stdout",
     "output_type": "stream",
     "text": [
      "Neuroscience is sick!!!\n",
      "Neuroscience is sick!!!\n"
     ]
    }
   ],
   "source": [
    "print(\"Neuroscience is sick!!!\")\n",
    "\n",
    "# You can also use single quotation marks. Whichever you use, try to stay consistent\n",
    "print('Neuroscience is sick!!!')"
   ]
  },
  {
   "attachments": {},
   "cell_type": "markdown",
   "metadata": {},
   "source": [
    "[back to top](#top)"
   ]
  },
  {
   "attachments": {},
   "cell_type": "markdown",
   "metadata": {},
   "source": [
    "<a id='Section2'></a>\n",
    "## Section 2 - Variables\n",
    "Variables are **containers** that hold **values**. They are names/labels that you can assign to pieces of data and/or objects in python. <br />\n",
    "Variables can be called (almost) whatever you want and can be declared using an equals sign <code>=</code>"
   ]
  },
  {
   "cell_type": "code",
   "execution_count": 9,
   "metadata": {},
   "outputs": [],
   "source": [
    "pi = 3.14"
   ]
  },
  {
   "attachments": {},
   "cell_type": "markdown",
   "metadata": {},
   "source": [
    "All variables are declared in the form ***varname = expression***"
   ]
  },
  {
   "attachments": {},
   "cell_type": "markdown",
   "metadata": {},
   "source": [
    "Notice how nothing printed out when we declared our variable <code>pi</code>, but a green check still appeared? Unless you call <code>print</code> explicitly, python will do what you ask of it, but won't necesarilly tell you.<br />"
   ]
  },
  {
   "cell_type": "code",
   "execution_count": 10,
   "metadata": {},
   "outputs": [
    {
     "name": "stdout",
     "output_type": "stream",
     "text": [
      "3.14\n"
     ]
    }
   ],
   "source": [
    "print(pi)"
   ]
  },
  {
   "attachments": {},
   "cell_type": "markdown",
   "metadata": {},
   "source": [
    "See what we did there? We were able to get 3.14 back by just referring to the variable <code>pi</code>. This is why we like variables. They allow us to refer to and keep track of objects in memory.<br/><br/>\n",
    "We can also assign variables to the output of arithmetic expressions"
   ]
  },
  {
   "cell_type": "code",
   "execution_count": 11,
   "metadata": {},
   "outputs": [
    {
     "name": "stdout",
     "output_type": "stream",
     "text": [
      "600000000000000000000000\n"
     ]
    }
   ],
   "source": [
    "avogadro = 6 * 10 ** 23\n",
    "print(avogadro)"
   ]
  },
  {
   "attachments": {},
   "cell_type": "markdown",
   "metadata": {},
   "source": [
    "Not all variable names are allowed. Try running the cell below and discuss with your neighbor why it is a bad name for a variable."
   ]
  },
  {
   "cell_type": "code",
   "execution_count": 13,
   "metadata": {},
   "outputs": [
    {
     "ename": "SyntaxError",
     "evalue": "cannot assign to literal (4252315974.py, line 1)",
     "output_type": "error",
     "traceback": [
      "\u001b[0;36m  Cell \u001b[0;32mIn[13], line 1\u001b[0;36m\u001b[0m\n\u001b[0;31m    22 = x\u001b[0m\n\u001b[0m    ^\u001b[0m\n\u001b[0;31mSyntaxError\u001b[0m\u001b[0;31m:\u001b[0m cannot assign to literal\n"
     ]
    }
   ],
   "source": [
    "22 = x"
   ]
  },
  {
   "attachments": {},
   "cell_type": "markdown",
   "metadata": {},
   "source": [
    "In python, things are always ran sequentially, meaning that the computer executes one line, then the one below it, then the one below that, etc...<br/>\n",
    "This means we can reassign variables to new values like we did above. ***Variable assignment doesn't have to be permanent.*** <br/>"
   ]
  },
  {
   "cell_type": "code",
   "execution_count": 14,
   "metadata": {},
   "outputs": [
    {
     "name": "stdout",
     "output_type": "stream",
     "text": [
      "123\n",
      "321\n"
     ]
    }
   ],
   "source": [
    "cool_variable = 123\n",
    "print(cool_variable)\n",
    "cool_variable = 321\n",
    "print(cool_variable)"
   ]
  },
  {
   "cell_type": "markdown",
   "metadata": {},
   "source": [
    "This has its use cases and can be convenient, but can also lead to errors if not done carefully so be aware if you are reassigning variables unknowingly"
   ]
  },
  {
   "attachments": {},
   "cell_type": "markdown",
   "metadata": {},
   "source": [
    "[back to top](#top)"
   ]
  },
  {
   "attachments": {},
   "cell_type": "markdown",
   "metadata": {},
   "source": [
    "<a id='Section3'></a>\n",
    "## Section 3 - Boolean Expressions"
   ]
  },
  {
   "cell_type": "code",
   "execution_count": 16,
   "metadata": {},
   "outputs": [
    {
     "name": "stdout",
     "output_type": "stream",
     "text": [
      "False\n",
      "True\n"
     ]
    }
   ],
   "source": [
    "print(cool_variable == 123)\n",
    "print(cool_variable == 321)"
   ]
  },
  {
   "attachments": {},
   "cell_type": "markdown",
   "metadata": {},
   "source": [
    "Why did I use the <code>==</code> symbol above? And why did it print out False and True?<br/>\n",
    "We use the <code>==</code> symbol to ask the computer about equivalency, in the mathematical sense. Before, we used the more familiar single <code>=</code> sign for variable assignment. These are the rules in Python. Single <code>=</code> denotes variable assignment, whilst <code>==</code> denotes equivalency."
   ]
  },
  {
   "cell_type": "code",
   "execution_count": 17,
   "metadata": {},
   "outputs": [
    {
     "name": "stdout",
     "output_type": "stream",
     "text": [
      "True\n",
      "True\n",
      "False\n"
     ]
    }
   ],
   "source": [
    "print(9 == 3 * 3)\n",
    "print(9 == 3 ** 2)\n",
    "print(9 == 2 ** 3)"
   ]
  },
  {
   "attachments": {},
   "cell_type": "markdown",
   "metadata": {},
   "source": [
    "Here are a few more of what we call \"boolean operators\", that we can use to string together True or False logical statements: <br/>\n",
    "\n",
    "* <code>**&lt;**</code> : less than <br/>\n",
    "* <code>**&lt;=**</code> : less than  or equal to<br/>\n",
    "* <code>**>**</code> : greater than <br/>\n",
    "* <code>**>=**</code> : greater than or equal to<br/>\n",
    "* <code>**and**</code> : both statements are true<br/>\n",
    "* <code>**or**</code> : at least one statement is true<br/>\n",
    "* <code>**not**</code> : negation<br/>\n",
    "\n",
    "Let's see some of these in action, and let's see what happens when we mix them with variables...Try to guess whether the answer will be true or false and type in your answer after the <code>#</code> symbol<br/>\n",
    "If the answer is already printed try not to cheat!"
   ]
  },
  {
   "cell_type": "code",
   "execution_count": null,
   "metadata": {},
   "outputs": [
    {
     "name": "stdout",
     "output_type": "stream",
     "text": [
      "True\n",
      "True\n",
      "False\n",
      "False\n",
      "False\n",
      "True\n",
      "True\n",
      "True\n",
      "True\n"
     ]
    }
   ],
   "source": [
    "print(22 > 4)             # Remember, this is a comment, no text on a line after a # symbol will be interpreted by the computer\n",
    "x = 100\n",
    "y = 4\n",
    "print(x >= 5)             # Guess:\n",
    "print(y > x)              # Guess:\n",
    "print(y == x)             # Guess:\n",
    "print(not True)           # Guess:\n",
    "print(not x >= 200)       # Guess:\n",
    "print(3 < 4 and 5 < 6)    # Guess:\n",
    "print(3 < 4 or 5 < 6)     # Guess:\n",
    "\n",
    "# Variables can also be assigned to True or False\n",
    "temp = 72\n",
    "water_is_liquid = temp > 32 and temp < 212\n",
    "print(water_is_liquid)    # Guess:"
   ]
  },
  {
   "attachments": {},
   "cell_type": "markdown",
   "metadata": {},
   "source": [
    "[back to top](#top)"
   ]
  },
  {
   "attachments": {},
   "cell_type": "markdown",
   "metadata": {},
   "source": [
    "<a id='Section4'></a>\n",
    "## Section 4 - Data Types\n",
    "I'd now like to formally introduce the notion of a data type.<br/>\n",
    "Data types represent different kinds of values, and the different data types usually do not work well with one another. Here is a list of the data types you will see most often when using basic python:<br/><br/>\n",
    "**strings** : denoted <code>str</code>, represents text    ex: <code>\"neuroscience is so cool\" </code><br/>\n",
    "**integers** : denoted <code>int</code>. represents integers, used for exact arithmetic    ex: <code>-5, 0, 4</code><br/>\n",
    "**real numbers** : denoted <code>float</code>, represents real numbers    ex: <code>1.618, -2.718, 3.1415</code><br/>\n",
    "**truth values** : denoted <code>bool</code>, represents booleans, used for logic   ex: <code>True False</code><br/>\n",
    "**lists** : denoted <code>list</code>, represents a container of other types/variables, used for containment  ex: <code>[1, 2, 3] ['voltage', 'amps', 'time'] [4.3, 'Seattle', True]</code>\n",
    "\n",
    "Operations behave differently on different types and trying to mix types will often times throw an error. Run the cells below to see this, and notice the type we get back after python performs an operation where we ask it to mix data types.<br/>\n",
    "We can wrap a variable or an expression with the <code>type()</code> function to see what data type it is."
   ]
  },
  {
   "cell_type": "code",
   "execution_count": 18,
   "metadata": {},
   "outputs": [
    {
     "name": "stdout",
     "output_type": "stream",
     "text": [
      "7.0\n",
      "<class 'float'>\n"
     ]
    }
   ],
   "source": [
    "print(3.0 + 4.0)\n",
    "print(type(3.0 + 4.0))"
   ]
  },
  {
   "cell_type": "code",
   "execution_count": 19,
   "metadata": {},
   "outputs": [
    {
     "name": "stdout",
     "output_type": "stream",
     "text": [
      "7.0\n",
      "<class 'float'>\n"
     ]
    }
   ],
   "source": [
    "print(3.0 + 4)\n",
    "print(type(3.0 + 4))"
   ]
  },
  {
   "cell_type": "code",
   "execution_count": 20,
   "metadata": {},
   "outputs": [
    {
     "name": "stdout",
     "output_type": "stream",
     "text": [
      "7\n",
      "<class 'int'>\n"
     ]
    }
   ],
   "source": [
    "print(3 + 4)\n",
    "print(type(3 + 4))"
   ]
  },
  {
   "cell_type": "code",
   "execution_count": 21,
   "metadata": {},
   "outputs": [
    {
     "name": "stdout",
     "output_type": "stream",
     "text": [
      "3.04\n",
      "<class 'str'>\n"
     ]
    }
   ],
   "source": [
    "print(\"3.0\" + \"4\")\n",
    "print(type(\"3.0 \"+ '4'))"
   ]
  },
  {
   "cell_type": "code",
   "execution_count": 22,
   "metadata": {},
   "outputs": [
    {
     "name": "stdout",
     "output_type": "stream",
     "text": [
      "4\n"
     ]
    }
   ],
   "source": [
    "print(3 + True)    # This is a bad practice, but know that it is a thing because it might cause you headaches"
   ]
  },
  {
   "cell_type": "code",
   "execution_count": 23,
   "metadata": {},
   "outputs": [
    {
     "name": "stdout",
     "output_type": "stream",
     "text": [
      "3\n"
     ]
    }
   ],
   "source": [
    "print(3 + False)   # Same goes for this line"
   ]
  },
  {
   "attachments": {},
   "cell_type": "markdown",
   "metadata": {},
   "source": [
    "Hopefully this gives you some intuition for mixing types, when it is bad, when it's not a big deal, etc. <br/>\n",
    "We can also convert between types like so"
   ]
  },
  {
   "cell_type": "code",
   "execution_count": 24,
   "metadata": {},
   "outputs": [
    {
     "name": "stdout",
     "output_type": "stream",
     "text": [
      "15.0\n",
      "15\n",
      "15\n",
      "15\n",
      "15.5\n"
     ]
    }
   ],
   "source": [
    "print(float(15))\n",
    "print(int(15.0))\n",
    "print(int(15.5))\n",
    "print(int(\"15\"))\n",
    "print(str(15.5))"
   ]
  },
  {
   "attachments": {},
   "cell_type": "markdown",
   "metadata": {},
   "source": [
    "Note that calling <code>int</code> on a float will always round that float **down**, and also note that it isn't always obvious what the type of an object is. If we are unsure we can always use the <code>type()</code> function"
   ]
  },
  {
   "cell_type": "code",
   "execution_count": 25,
   "metadata": {},
   "outputs": [
    {
     "name": "stdout",
     "output_type": "stream",
     "text": [
      "15.5\n",
      "<class 'str'>\n"
     ]
    }
   ],
   "source": [
    "number_to_str = str(15.5)\n",
    "print(number_to_str)\n",
    "print(type(number_to_str))"
   ]
  },
  {
   "attachments": {},
   "cell_type": "markdown",
   "metadata": {},
   "source": [
    "What kind of type is a variable?"
   ]
  },
  {
   "cell_type": "code",
   "execution_count": 26,
   "metadata": {},
   "outputs": [
    {
     "name": "stdout",
     "output_type": "stream",
     "text": [
      "<class 'float'>\n"
     ]
    }
   ],
   "source": [
    "cool_variable = 1.234\n",
    "print(type(cool_variable))"
   ]
  },
  {
   "attachments": {},
   "cell_type": "markdown",
   "metadata": {},
   "source": [
    "The type of a variable is the type of whatever it is assigned to"
   ]
  },
  {
   "attachments": {},
   "cell_type": "markdown",
   "metadata": {},
   "source": [
    "[back to top](#top)"
   ]
  },
  {
   "attachments": {},
   "cell_type": "markdown",
   "metadata": {},
   "source": [
    "<a id='Section5'></a>\n",
    "## Section 5 - Loops\n"
   ]
  },
  {
   "attachments": {},
   "cell_type": "markdown",
   "metadata": {},
   "source": [
    "When coding, we will often want to perform the same set of operations to a group of data. We could just do this set of operations for each piece of data individually and copy/paste our code, but this is highly inefficient and error prone. Instead, we can use what is called a <code>for loop</code> <br/>\n",
    "Let's look at an example <br/>\n",
    "Say we have a list of temperatures in fahrenheight <br/> <code>temps = [30, 40, 50, 60, 70]</code> <br/>\n",
    "We would like to convert this list of temperatures in fahrenheight to their corresponding temperatures in centigrade. We can write the operation to convert the temperature in python like so"
   ]
  },
  {
   "cell_type": "code",
   "execution_count": 27,
   "metadata": {},
   "outputs": [
    {
     "name": "stdout",
     "output_type": "stream",
     "text": [
      "40 4.444444444444445\n"
     ]
    }
   ],
   "source": [
    "fahr = 40\n",
    "cent = (fahr - 32) / 9 * 5\n",
    "print(fahr, cent)"
   ]
  },
  {
   "attachments": {},
   "cell_type": "markdown",
   "metadata": {},
   "source": [
    "Doing this once is not so bad, but what if we had a list of thousands of temperatures? If we did it the way we did above, we'd be copying and pasting forever, and we'd probably make a mistake somewhere. This is not a good method. Instead, we will use a for loop to iterate through the entries in a list of temperatures and print out our converted temperatures."
   ]
  },
  {
   "cell_type": "code",
   "execution_count": 28,
   "metadata": {},
   "outputs": [
    {
     "name": "stdout",
     "output_type": "stream",
     "text": [
      "-1.1111111111111112\n",
      "4.444444444444445\n",
      "10.0\n",
      "15.555555555555555\n",
      "21.11111111111111\n"
     ]
    }
   ],
   "source": [
    "# This is the first time we've seen a list.\n",
    "# We will come back to discuss them later, but for now they behave in the way you would expect\n",
    "temps = [30, 40, 50, 60, 70]\n",
    "for fahr in temps:\n",
    "    cent = (fahr - 32) / 9 * 5\n",
    "    print(cent)"
   ]
  },
  {
   "attachments": {},
   "cell_type": "markdown",
   "metadata": {},
   "source": [
    "Did you catch that? We iterated through each entry/element in our list <code>temps</code>, assigned that entry to a variable <code>fahr</code> and then used <code>fahr</code> to define a variable <code>cent</code> which was our transformed temperature. If you want to see this ran step by step you can use this nice website to see the code get executed sequentially: [link](https://pythontutor.com/visualize.html#code=temps%20%3D%20%5B30,%2040,%2050,%2060,%2070%5D%0Afor%20fahr%20in%20temps%3A%0A%20%20%20%20cent%20%3D%20%28fahr%20-%2032%29%20/%209%20*%205%0A%20%20%20%20print%28cent%29&cumulative=false&curInstr=0&heapPrimitives=nevernest&mode=display&origin=opt-frontend.js&py=3&rawInputLstJSON=%5B%5D&textReferences=false)"
   ]
  },
  {
   "attachments": {},
   "cell_type": "markdown",
   "metadata": {},
   "source": [
    "Hopefully that was not too bad, but let's walk through the anatomy of a **for loop** one step at a time.<br/><br/>\n",
    "We must always start our **for loop** with <code>for</code> followed by the **loop variable/iteration variable**. In our case this was <code>fahr</code>. This is what gets assigned to the current item in whatever we are iterating over. We then have the word <code>in</code> followed by a list or sequence that we want to iterate through. We must always follow our sequence by a colon <code>:</code> and then a new line. On our new line we can begin writing our **loop body**. Our **loop body** must ***always*** be indented. If it isn't indented, it isn't part of the loop. And if there is no loop body, python will throw an error.<br/>\n",
    "Let's look at some examples..."
   ]
  },
  {
   "cell_type": "code",
   "execution_count": 29,
   "metadata": {},
   "outputs": [
    {
     "name": "stdout",
     "output_type": "stream",
     "text": [
      "4\n",
      "9\n",
      "16\n"
     ]
    }
   ],
   "source": [
    "for num in [2, 3, 4]:\n",
    "    print(num ** 2)"
   ]
  },
  {
   "cell_type": "code",
   "execution_count": 30,
   "metadata": {},
   "outputs": [
    {
     "name": "stdout",
     "output_type": "stream",
     "text": [
      "n\n",
      "e\n",
      "u\n",
      "r\n",
      "o\n",
      "s\n",
      "c\n",
      "i\n",
      "e\n",
      "n\n",
      "c\n",
      "e\n"
     ]
    }
   ],
   "source": [
    "for char in 'neuroscience':   # sequences don't have to be lists!\n",
    "    print(char)"
   ]
  },
  {
   "cell_type": "code",
   "execution_count": 31,
   "metadata": {},
   "outputs": [
    {
     "ename": "TypeError",
     "evalue": "'int' object is not iterable",
     "output_type": "error",
     "traceback": [
      "\u001b[0;31m---------------------------------------------------------------------------\u001b[0m",
      "\u001b[0;31mTypeError\u001b[0m                                 Traceback (most recent call last)",
      "\u001b[1;32m/Users/jeremyschroeter/Desktop/School_Work/UW/Neuro301-Coding-Kit/Python_Tutorials/PythonCC1_Basics.ipynb Cell 57\u001b[0m line \u001b[0;36m1\n\u001b[0;32m----> <a href='vscode-notebook-cell:/Users/jeremyschroeter/Desktop/School_Work/UW/Neuro301-Coding-Kit/Python_Tutorials/PythonCC1_Basics.ipynb#Y110sZmlsZQ%3D%3D?line=0'>1</a>\u001b[0m \u001b[39mfor\u001b[39;00m dec \u001b[39min\u001b[39;00m \u001b[39m55\u001b[39m:\n\u001b[1;32m      <a href='vscode-notebook-cell:/Users/jeremyschroeter/Desktop/School_Work/UW/Neuro301-Coding-Kit/Python_Tutorials/PythonCC1_Basics.ipynb#Y110sZmlsZQ%3D%3D?line=1'>2</a>\u001b[0m     \u001b[39mprint\u001b[39m(\u001b[39m'\u001b[39m\u001b[39mwhat\u001b[39m\u001b[39m'\u001b[39m)\n\u001b[1;32m      <a href='vscode-notebook-cell:/Users/jeremyschroeter/Desktop/School_Work/UW/Neuro301-Coding-Kit/Python_Tutorials/PythonCC1_Basics.ipynb#Y110sZmlsZQ%3D%3D?line=2'>3</a>\u001b[0m \u001b[39m# Why does this code throw an error? Hint: is the number 55 really a sequence?\u001b[39;00m\n",
      "\u001b[0;31mTypeError\u001b[0m: 'int' object is not iterable"
     ]
    }
   ],
   "source": [
    "for dec in 55:\n",
    "    print('what')\n",
    "# Why does this code throw an error? Hint: is the number 55 really a sequence?"
   ]
  },
  {
   "cell_type": "code",
   "execution_count": 32,
   "metadata": {},
   "outputs": [
    {
     "ename": "IndentationError",
     "evalue": "expected an indented block (4131528311.py, line 3)",
     "output_type": "error",
     "traceback": [
      "\u001b[0;36m  Cell \u001b[0;32mIn[32], line 3\u001b[0;36m\u001b[0m\n\u001b[0;31m    # Why does this code throw an error? What is missing?\u001b[0m\n\u001b[0m                                                         ^\u001b[0m\n\u001b[0;31mIndentationError\u001b[0m\u001b[0;31m:\u001b[0m expected an indented block\n"
     ]
    }
   ],
   "source": [
    "for temp in [20, 30, 40]:\n",
    "\n",
    "# Why does this code throw an error? What is missing?"
   ]
  },
  {
   "attachments": {},
   "cell_type": "markdown",
   "metadata": {},
   "source": [
    "Our for loop variable does not necessarily have to be involved in the operation we want to do."
   ]
  },
  {
   "cell_type": "code",
   "execution_count": 33,
   "metadata": {},
   "outputs": [
    {
     "name": "stdout",
     "output_type": "stream",
     "text": [
      "yo\n",
      "yo\n",
      "yo\n"
     ]
    }
   ],
   "source": [
    "for i in [1, 2, 3]:\n",
    "    print('yo')"
   ]
  },
  {
   "attachments": {},
   "cell_type": "markdown",
   "metadata": {},
   "source": [
    "When this is the case it is more convenient to use the <code>range()</code> function. This function will automatically make a sequence of a given length that we can then use to iterate through.<br><br>"
   ]
  },
  {
   "cell_type": "code",
   "execution_count": 34,
   "metadata": {},
   "outputs": [
    {
     "name": "stdout",
     "output_type": "stream",
     "text": [
      "c o o l\n",
      "c o o l\n",
      "c o o l\n",
      "c o o l\n",
      "c o o l\n",
      "c o o l\n",
      "c o o l\n",
      "c o o l\n",
      "c o o l\n",
      "c o o l\n"
     ]
    }
   ],
   "source": [
    "# Here, I am using \"j\" simply as a loop variable,\n",
    "# but it has no bearing on what the loop is doing\n",
    "for j in range(10):\n",
    "    print('c o o l')"
   ]
  },
  {
   "attachments": {},
   "cell_type": "markdown",
   "metadata": {},
   "source": [
    "But if we want to, we can still use the variable <code>range</code> gives us, it'll just act like a counter that starts at 0. For example, <code>range(5)</code> generates the list <code>[0, 1, 2, 3, 4]</code>. Starting from 0 and excluding the final entry is the default pattern in python (more on this later)."
   ]
  },
  {
   "cell_type": "code",
   "execution_count": 1,
   "metadata": {},
   "outputs": [
    {
     "name": "stdout",
     "output_type": "stream",
     "text": [
      "1\n",
      "10\n",
      "100\n",
      "1000\n",
      "10000\n",
      "100000\n",
      "1000000\n",
      "10000000\n",
      "100000000\n",
      "1000000000\n"
     ]
    }
   ],
   "source": [
    "for j in range(10):\n",
    "    print(1 * 10 ** j)"
   ]
  },
  {
   "attachments": {},
   "cell_type": "markdown",
   "metadata": {},
   "source": [
    "Let's look at a simple for loop that we can use to calculate the sum of a list of numbers."
   ]
  },
  {
   "cell_type": "code",
   "execution_count": 2,
   "metadata": {},
   "outputs": [
    {
     "name": "stdout",
     "output_type": "stream",
     "text": [
      "10\n",
      "22\n",
      "27\n",
      "35\n",
      "37\n"
     ]
    }
   ],
   "source": [
    "nums = [10, 12, 5, 8, 2]     # Try doing this sum by hand or in your head first before running the cell\n",
    "cumulative_sum = 0\n",
    "for number in nums:\n",
    "    cumulative_sum = cumulative_sum + number    # Can I do that?\n",
    "    print(cumulative_sum)"
   ]
  },
  {
   "attachments": {},
   "cell_type": "markdown",
   "metadata": {},
   "source": [
    "Let's go through what we just did\n",
    "\n",
    "In the above code we calculate the sum of a list of numbers using a for loop.<br/>\n",
    "**(1)** Firstly, we start by declaring a variable called <code>cumulative_sum</code> *outside* of the loop, which we initialize at 0.<br/>\n",
    "**(2)** Then, in the for loop, we declare a loop variable <code>number</code> and we update <code>cumulative_sum</code> by taking its previous value and adding to it the current entry in the nums list.</br></br>\n",
    "If we do that for all for all of the entries in the list then we get the number 37, which is the correct number! <br/>\n",
    "This structure where we intialize a variable at 0 or at some other value and continually update it is **very** common.<br/>\n",
    "Also notice how in the loop we reassign <code>cumulative sum</code> by referring to its currently assigned value. This is totally fine and should work in most circumstances.\n",
    "\n",
    "### Question: how would we need to change the above for loop to calculate the *product* of all the elements in our list rather than the sum?\n",
    "Use the cell below to see if you can do it (please try for atleast 5 minutes before you look at the solution, and if you do look, make sure you could explain to someone why it works) [Solution](https://pythontutor.com/visualize.html#code=nums%20%3D%20%5B10,%2012,%205,%208,%202%5D%0Acumulative_prod%20%3D%201%0Afor%20number%20in%20nums%3A%0A%20%20%20%20cumulative_prod%20%3D%20cumulative_prod%20*%20number%20%20%20%20%23%20Can%20I%20do%20that%3F%0A%20%20%20%20print%28cumulative_prod%29&cumulative=false&curInstr=0&heapPrimitives=nevernest&mode=display&origin=opt-frontend.js&py=3&rawInputLstJSON=%5B%5D&textReferences=false)"
   ]
  },
  {
   "cell_type": "code",
   "execution_count": null,
   "metadata": {},
   "outputs": [],
   "source": [
    "# Your answer here"
   ]
  },
  {
   "attachments": {},
   "cell_type": "markdown",
   "metadata": {},
   "source": [
    "Let's now talk about **nested loops**. In python, it is possible to have for loops ***within*** for loops<br/>\n",
    "The easiest way to get a grasp on this is to just see one in action. Try and guess what the output of this nested loop will be (you don't need to write it in a comment)"
   ]
  },
  {
   "cell_type": "code",
   "execution_count": 3,
   "metadata": {},
   "outputs": [
    {
     "name": "stdout",
     "output_type": "stream",
     "text": [
      "1\n",
      "20\n",
      "40\n",
      "2\n",
      "20\n",
      "40\n",
      "3\n",
      "20\n",
      "40\n"
     ]
    }
   ],
   "source": [
    "for i in [1, 2, 3]:\n",
    "    print(i)\n",
    "    for j in [20, 40]:\n",
    "        print(j)"
   ]
  },
  {
   "attachments": {},
   "cell_type": "markdown",
   "metadata": {},
   "source": [
    "In words:<br/>\n",
    "**(1)** We start out by setting our outer loop variable <code>i</code> to the first entry in the list, 1.<br/>\n",
    "**(2)** In the loop body we then print our outer loop variable <code>i</code><br/>\n",
    "**(3)** Then, we execute the inner loop as if it is any ordinary loop. We assign <code>j</code> to the first element, 20, execute the loop body, then go back and set <code>j</code> to the second element, 40, execute the loop body, and then exit the loop.<br/>\n",
    "**(4)** Since there is nothing left in the inner loop body, but we haven't iterated through all the elements of the outer list, we start over again with <code>i = 2</code>, and the whole thing repeats<br/><br/>\n",
    "Let's look at another example"
   ]
  },
  {
   "cell_type": "code",
   "execution_count": 4,
   "metadata": {},
   "outputs": [
    {
     "name": "stdout",
     "output_type": "stream",
     "text": [
      "Outer 0\n",
      "Inner 2\n",
      "Inner 3\n",
      "Outer 0\n",
      "Outer 1\n",
      "Inner 2\n",
      "Inner 3\n",
      "Outer 1\n"
     ]
    }
   ],
   "source": [
    "for i in [0, 1]:\n",
    "    print(\"Outer\", i)\n",
    "    for j in [2, 3]:\n",
    "        print(\"Inner\", j)\n",
    "    print(\"Outer\", i)"
   ]
  },
  {
   "attachments": {},
   "cell_type": "markdown",
   "metadata": {},
   "source": [
    "Hopefully this is starting to make some more sense. I'll leave you with this puzzle before we move on. Look at what we want to print and what this loop actually prints and try to fix it (there are multiple ways)."
   ]
  },
  {
   "cell_type": "code",
   "execution_count": 7,
   "metadata": {},
   "outputs": [
    {
     "name": "stdout",
     "output_type": "stream",
     "text": [
      "1\n",
      "2\n",
      "3\n",
      "4\n",
      "5\n",
      "6\n",
      "7\n",
      "8\n",
      "9\n",
      "11\n",
      "12\n",
      "13\n",
      "14\n",
      "15\n",
      "16\n",
      "17\n",
      "18\n",
      "19\n",
      "21\n",
      "22\n",
      "23\n",
      "24\n",
      "25\n",
      "26\n",
      "27\n",
      "28\n",
      "29\n",
      "31\n",
      "32\n",
      "33\n",
      "34\n",
      "35\n",
      "36\n",
      "37\n",
      "38\n",
      "39\n",
      "41\n",
      "42\n",
      "43\n",
      "44\n",
      "45\n",
      "46\n",
      "47\n",
      "48\n",
      "49\n"
     ]
    }
   ],
   "source": [
    "# Goal: print 1, 2, 3, ..., 48, 49, 50\n",
    "for tens_digit in [0, 1, 2, 3, 4]:\n",
    "    for ones_digit in [1, 2, 3, 4, 5, 6, 7, 8, 9]:\n",
    "        print(tens_digit * 10 + ones_digit)"
   ]
  },
  {
   "attachments": {},
   "cell_type": "markdown",
   "metadata": {},
   "source": [
    "Nested loops can be a bit unintuitive when you first encounter them, but with time they are really not so bad. There will be times when the best and simplest way to do something is with a nested for loop, but sometimes you can avoid it, and in these circumstances you *should* try to avoid it.</br>\n",
    "[back to top](#top)"
   ]
  },
  {
   "attachments": {},
   "cell_type": "markdown",
   "metadata": {},
   "source": [
    "<a id='Section6'></a>\n",
    "## Section 6 - If Statements"
   ]
  },
  {
   "attachments": {},
   "cell_type": "markdown",
   "metadata": {},
   "source": [
    "Given everything we have learned so far, how do you think we could use python to compute the absolute value of a number?<br/>\n",
    "One solution could be to simply multiply the number by <code>-1</code>. But what if our number is positive? How do we check first? </br>\n",
    "To do this we can use something called an <code>if</code> statement which allows us to perform some operation, but *only* if some condition is met before hand.<br/>"
   ]
  },
  {
   "cell_type": "code",
   "execution_count": 8,
   "metadata": {},
   "outputs": [
    {
     "name": "stdout",
     "output_type": "stream",
     "text": [
      "10\n"
     ]
    }
   ],
   "source": [
    "val = -10\n",
    "\n",
    "if val < 0:\n",
    "    result = -val\n",
    "else:\n",
    "    result = val\n",
    "print(result)"
   ]
  },
  {
   "attachments": {},
   "cell_type": "markdown",
   "metadata": {},
   "source": [
    "Some notes:<br/>\n",
    "**(1)** The condition of our <code>if</code> statement must be a Boolean expression like we talked about in section 3.<br/>\n",
    "**(2)** Like in for loops, indentation is important, if it isn't indented, python will throw an error<br/>\n",
    "**(3)** If you don't want to change anything if the condition is *not* met, then you can simply omit the entire else clause"
   ]
  },
  {
   "cell_type": "code",
   "execution_count": 9,
   "metadata": {},
   "outputs": [
    {
     "name": "stdout",
     "output_type": "stream",
     "text": [
      "10\n"
     ]
    }
   ],
   "source": [
    "val = -10\n",
    "\n",
    "if val < 0:\n",
    "    result = -val\n",
    "print(result)"
   ]
  },
  {
   "attachments": {},
   "cell_type": "markdown",
   "metadata": {},
   "source": [
    "Like for loops, if statements can be nested"
   ]
  },
  {
   "cell_type": "code",
   "execution_count": 10,
   "metadata": {},
   "outputs": [
    {
     "name": "stdout",
     "output_type": "stream",
     "text": [
      "val is zero\n",
      "0\n"
     ]
    }
   ],
   "source": [
    "val = 0\n",
    "\n",
    "if val < 0:\n",
    "    result = -val\n",
    "    print(\"val is negative\")\n",
    "else:\n",
    "    if val == 0:\n",
    "        result = val\n",
    "        print(\"val is zero\")\n",
    "    else:\n",
    "        result = val\n",
    "        print(\"val is positive\")\n",
    "print(result)"
   ]
  },
  {
   "attachments": {},
   "cell_type": "markdown",
   "metadata": {},
   "source": [
    "When using nested if statements like this, it is better to replace <code>else: if:</code> with just <code>elif</code> like so"
   ]
  },
  {
   "cell_type": "code",
   "execution_count": 11,
   "metadata": {},
   "outputs": [
    {
     "name": "stdout",
     "output_type": "stream",
     "text": [
      "val is zero\n",
      "0\n"
     ]
    }
   ],
   "source": [
    "val = 0\n",
    "\n",
    "if val < 0:\n",
    "    result = -val\n",
    "    print(\"val is negative\")\n",
    "elif val == 0:\n",
    "    result = val\n",
    "    print(\"val is zero\")\n",
    "else:\n",
    "    result = val\n",
    "    print(\"val is positive\")\n",
    "print(result)"
   ]
  },
  {
   "attachments": {},
   "cell_type": "markdown",
   "metadata": {},
   "source": [
    "This improves readability and will run faster<br/>\n",
    "Nested if statements can become very unwieldly and complicated. This can be annoying, but sometimes what we want to code isn't simple and *will* be somewhat complicated. Often times we try and write complicated code once and reuse it by turning it into a python ***function***"
   ]
  },
  {
   "attachments": {},
   "cell_type": "markdown",
   "metadata": {},
   "source": [
    "[back to top](#top)"
   ]
  },
  {
   "attachments": {},
   "cell_type": "markdown",
   "metadata": {},
   "source": [
    "<a id='Section7'></a>\n",
    "## Section 7 - Functions"
   ]
  },
  {
   "attachments": {},
   "cell_type": "markdown",
   "metadata": {},
   "source": [
    "Functions, like for loops and variables, are the meat and potatoes of programming. They allow us to encapsulate pieces of code that perform some set of operations and then reuse them again whenever we need to. Python has many built-in functions. Some of which we have already seen"
   ]
  },
  {
   "cell_type": "code",
   "execution_count": 12,
   "metadata": {},
   "outputs": [
    {
     "name": "stdout",
     "output_type": "stream",
     "text": [
      "[0, 1, 2, 3, 4]\n",
      "5\n",
      "100\n",
      "\"print\" itself is a function!\n"
     ]
    }
   ],
   "source": [
    "range_list = list(range(5)) \n",
    "print(range_list)\n",
    "print(len(range_list))\n",
    "print(sum([10, 20, 30, 40]))\n",
    "print('\"print\" itself is a function!')"
   ]
  },
  {
   "attachments": {},
   "cell_type": "markdown",
   "metadata": {},
   "source": [
    "Functions can do many things, but most functions take in some input, transform the input somehow, and then either cause some side-effect, or return something new.</br>Even thought the built in python functions are extensive and work well, we definitely are not stuck with them. In fact, we can actually build our own. Lets start with something simple: a function to square numbers."
   ]
  },
  {
   "cell_type": "code",
   "execution_count": 13,
   "metadata": {},
   "outputs": [
    {
     "name": "stdout",
     "output_type": "stream",
     "text": [
      "4\n"
     ]
    }
   ],
   "source": [
    "def square(to_be_squared):\n",
    "    squared_num = to_be_squared ** 2\n",
    "    return squared_num\n",
    "\n",
    "x = 2\n",
    "x_squared = square(x)\n",
    "print(x_squared)"
   ]
  },
  {
   "attachments": {},
   "cell_type": "markdown",
   "metadata": {},
   "source": [
    "Lets use the above example to talk about the anatomy of a function.<br/><br/>\n",
    "Every function starts with the <code>def</code> keyword, followed by a space, and then the **name** of our function, in this case <code>square</code>. After our function name, we place a pair of parentheses <code>()</code>, and within these parentheses we place what will be the **parameters** or **input variables** of our function. Like we did with for loops and if statements, we will follow the parentheses with a colon <code>:</code> and then an indented **function body**. Something new here is the addition of what is called a **return statement** , this will be what your function gives back to you as its output. It's how we were able to assign the variable <code>x_squared</code> to <code>square(x)</code> and get back a number.<br/><br/>\n",
    "The parameters in a function act like variables, but these variables are only defined within the **scope** of the function. This means that the variable <code>num</code> only really exists within that function. Another way of saying this is that **within a function body, variable assignment only creates a temporary variable. This variable goes away after the function has ran**. If we try to print our function variable <code>squared_num</code> you'll see that we get an error."
   ]
  },
  {
   "cell_type": "code",
   "execution_count": 14,
   "metadata": {},
   "outputs": [
    {
     "ename": "NameError",
     "evalue": "name 'squared_num' is not defined",
     "output_type": "error",
     "traceback": [
      "\u001b[0;31m---------------------------------------------------------------------------\u001b[0m",
      "\u001b[0;31mNameError\u001b[0m                                 Traceback (most recent call last)",
      "\u001b[1;32m/Users/jeremyschroeter/Desktop/School_Work/UW/Neuro301-Coding-Kit/Python_Tutorials/PythonCC1_Basics.ipynb Cell 93\u001b[0m line \u001b[0;36m1\n\u001b[0;32m----> <a href='vscode-notebook-cell:/Users/jeremyschroeter/Desktop/School_Work/UW/Neuro301-Coding-Kit/Python_Tutorials/PythonCC1_Basics.ipynb#Y161sZmlsZQ%3D%3D?line=0'>1</a>\u001b[0m \u001b[39mprint\u001b[39m(squared_num)\n",
      "\u001b[0;31mNameError\u001b[0m: name 'squared_num' is not defined"
     ]
    }
   ],
   "source": [
    "print(squared_num)"
   ]
  },
  {
   "attachments": {},
   "cell_type": "markdown",
   "metadata": {},
   "source": [
    "The reason we get an error, is because  <code>squared_num</code> only exists within the function"
   ]
  },
  {
   "attachments": {},
   "cell_type": "markdown",
   "metadata": {},
   "source": [
    "These within-function variables will be reassigned if we run the function again, but again, we won't have access to it from *outside* of the function.<br/>\n",
    "Confusingly, this is not true in the opposite direction. Functions ***do*** have access to variables assigned in the main body of your program *even* if you did *not* pass them to your function in the parameter section. This is confusing, so take some time to look at this example."
   ]
  },
  {
   "cell_type": "code",
   "execution_count": 15,
   "metadata": {},
   "outputs": [
    {
     "name": "stdout",
     "output_type": "stream",
     "text": [
      "this is confusing\n",
      "27\n"
     ]
    }
   ],
   "source": [
    "def cube(num_to_be_cubed):\n",
    "    cubed_num = num_to_be_cubed ** 3\n",
    "    print(outside_var)\n",
    "    return cubed_num\n",
    "\n",
    "\n",
    "outside_var = 'this is confusing'\n",
    "x = cube(3)\n",
    "print(x)"
   ]
  },
  {
   "attachments": {},
   "cell_type": "markdown",
   "metadata": {},
   "source": [
    "Notice that the **cube** function still is able to print  <code>outside_var</code> even though we defined it after we defined the cube function. This is because the cube function is being *called* after we have defined <code>outside_var</code>. This will not throw an error in python.<br/>\n",
    "The point of telling you this isn't to confuse you, but just to put this on your radar because it can cause bugs and things to run in unintended ways."
   ]
  },
  {
   "attachments": {},
   "cell_type": "markdown",
   "metadata": {},
   "source": [
    "Functions are extremely versatile and generalizable. For example, we can very easily generalize our square and cube functions by defining a function that takes in a number and raises it to some power."
   ]
  },
  {
   "cell_type": "code",
   "execution_count": 16,
   "metadata": {},
   "outputs": [
    {
     "name": "stdout",
     "output_type": "stream",
     "text": [
      "27\n",
      "8\n"
     ]
    }
   ],
   "source": [
    "def power(base, power):\n",
    "    return base ** power\n",
    "\n",
    "print(power(base=3, power=3))\n",
    "print(power(base=2, power=3))"
   ]
  },
  {
   "attachments": {},
   "cell_type": "markdown",
   "metadata": {},
   "source": [
    "An aside: it is good practice and good code hygiene to write something called a **docstring** to explain what your function takes as inputs, what it does (at a high level, don't rewrite the function in words), and what it returns. You can write a docstring underneath your function name using three quotation marks on either side of the text."
   ]
  },
  {
   "cell_type": "code",
   "execution_count": 17,
   "metadata": {},
   "outputs": [],
   "source": [
    "def power(base, exponent):\n",
    "    '''\n",
    "    This is an example docstring.\n",
    "    This function takes raises a number to an exponent.\n",
    "    Parameters: base(float or int), exponent(float or int)\n",
    "    Returns: float or int\n",
    "    '''\n",
    "    return base ** exponent"
   ]
  },
  {
   "attachments": {},
   "cell_type": "markdown",
   "metadata": {},
   "source": [
    "This example is perhaps a bit overkill for this function, but this is the main idea.<br/>\n",
    "You will never be expected to do this for this class, we just want you to be aware of it in case you see it somewhere in the future."
   ]
  },
  {
   "attachments": {},
   "cell_type": "markdown",
   "metadata": {},
   "source": [
    "All of the expressiveness given to us by for loops and if statements can also be used in our function bodies.<br/> Lets reimplement that cumulative product computation but this time within a function that can take any list of numbers as input."
   ]
  },
  {
   "cell_type": "code",
   "execution_count": 18,
   "metadata": {},
   "outputs": [
    {
     "name": "stdout",
     "output_type": "stream",
     "text": [
      "9600\n"
     ]
    }
   ],
   "source": [
    "def cumulative_prod(list_of_nums):\n",
    "    running_product = 1\n",
    "    for num in list_of_nums:\n",
    "        running_product *= num       # *= means the same thing as running_product = runningproduct * num\n",
    "    return running_product           # it is just a convenient shorthand. For addition we can also use +=\n",
    "\n",
    "x = cumulative_prod([10, 12, 5, 8, 2])\n",
    "print(x)"
   ]
  },
  {
   "attachments": {},
   "cell_type": "markdown",
   "metadata": {},
   "source": [
    "Pythons built in functions and all the functions we could write ourselves are great, but often times we will want advanced functionality that we won't know how to implement and that don't come built-in with python. When this happens we will rely on imports. But before we get there, I would like to talk briefly about lists."
   ]
  },
  {
   "attachments": {},
   "cell_type": "markdown",
   "metadata": {},
   "source": [
    "[back to top](#top)"
   ]
  },
  {
   "attachments": {},
   "cell_type": "markdown",
   "metadata": {},
   "source": [
    "<a id='Section8'></a>\n",
    "## Section 8 - Lists"
   ]
  },
  {
   "attachments": {},
   "cell_type": "markdown",
   "metadata": {},
   "source": [
    "Lists in some way are like variables. They are containers which hold values, but they are distinct and have unique functionality. We can create a list by placing the list entries between square brackets:"
   ]
  },
  {
   "cell_type": "code",
   "execution_count": null,
   "metadata": {},
   "outputs": [
    {
     "name": "stdout",
     "output_type": "stream",
     "text": [
      "[10, 20, 30, 40]\n"
     ]
    }
   ],
   "source": [
    "our_list = [10, 20, 30, 40]\n",
    "print(our_list)"
   ]
  },
  {
   "attachments": {},
   "cell_type": "markdown",
   "metadata": {},
   "source": [
    "Lists are allowed to have more than just numbers, and we can have multiple types in a single list."
   ]
  },
  {
   "cell_type": "code",
   "execution_count": null,
   "metadata": {},
   "outputs": [
    {
     "name": "stdout",
     "output_type": "stream",
     "text": [
      "[10, 'howdy', False]\n",
      "['basal', 'ganglia', 'neurons']\n"
     ]
    }
   ],
   "source": [
    "mixed_type_list = [10, 'howdy', False]\n",
    "print(mixed_type_list)\n",
    "words = ['basal', 'ganglia', 'neurons']\n",
    "print(words)"
   ]
  },
  {
   "attachments": {},
   "cell_type": "markdown",
   "metadata": {},
   "source": [
    "A list is really just an ordered sequence of values, but these values can be anything.<br/>\n",
    "Because lists are ordered, every value in a list has an index. Indexing in python is **zero-based**, meaning counting starts with zero.<br/>\n",
    "If we want to retrieve an entry from a list we can put the entries index in square brackets <code>[ ]</code> after the variable name we assigned the list to."
   ]
  },
  {
   "cell_type": "code",
   "execution_count": null,
   "metadata": {},
   "outputs": [
    {
     "name": "stdout",
     "output_type": "stream",
     "text": [
      "basal\n",
      "ganglia\n",
      "neurons\n"
     ]
    }
   ],
   "source": [
    "words = ['basal', 'ganglia', 'neurons']\n",
    "print(words[0])\n",
    "print(words[1])\n",
    "print(words[2])"
   ]
  },
  {
   "attachments": {},
   "cell_type": "markdown",
   "metadata": {},
   "source": [
    "If we want to add a value to the end of our list we can use the built in 'append' function. To call the append function we place a period at the end of the variable assigned to our list and write <code>append(something)</code>"
   ]
  },
  {
   "cell_type": "code",
   "execution_count": null,
   "metadata": {},
   "outputs": [
    {
     "name": "stdout",
     "output_type": "stream",
     "text": [
      "['basal', 'ganglia', 'neurons', 'woah']\n",
      "woah\n"
     ]
    }
   ],
   "source": [
    "words.append('woah')\n",
    "print(words)\n",
    "print(words[3])"
   ]
  },
  {
   "cell_type": "markdown",
   "metadata": {},
   "source": [
    "Here are some more methods for modifying lists:</br>\n",
    "* <code>l.append(x)</code> adds <code>x</code> to the end of <code>l</code>\n",
    "* <code>l.extend(xs)</code> adds all elements in the list <code>xs</code> to the end of <code>l</code>\n",
    "* <code>l.insert(i, x)</code> inserts <code>x</code> at index <code>i</code> in <code>l</code>\n",
    "* <code>l.remove(x)</code> removes the first <code>x</code> found in <code>l</code>\n",
    "* <code>l.pop(i)</code> removes the element at index <code>i</code> in <code>l</code>\n",
    "* <code>l.clear()</code> removes all elements from <code>l</code>\n",
    "* <code>l.index(x)</code> returns the first index whose associated value is <code>x</code>. Raises an error if <code>x</code> is not in <code>l</code>\n",
    "* <code>l.reverse()</code> reverses the order of all elements in <code>l</code>\n",
    "* <code>l.sort()</code> rearranges all elements of <code>l</code> into sorted order"
   ]
  },
  {
   "attachments": {},
   "cell_type": "markdown",
   "metadata": {},
   "source": [
    "If we want to retrieve the last entry in our list we can use negative indexing."
   ]
  },
  {
   "cell_type": "code",
   "execution_count": null,
   "metadata": {},
   "outputs": [
    {
     "name": "stdout",
     "output_type": "stream",
     "text": [
      "['basal', 'ganglia', 'neurons', 'woah']\n",
      "woah\n",
      "woah\n",
      "neurons\n"
     ]
    }
   ],
   "source": [
    "print(words)\n",
    "print(words[3])\n",
    "print(words[-1])\n",
    "print(words[-2])"
   ]
  },
  {
   "attachments": {},
   "cell_type": "markdown",
   "metadata": {},
   "source": [
    "This is very useful if your list is really big, or if you write a function that uses a list whose length can vary!<br/>\n",
    "You can also retrieve multiple elements from your list by using what is called \"slicing\". Slicing requires the use of the <code>:</code> key"
   ]
  },
  {
   "cell_type": "code",
   "execution_count": null,
   "metadata": {},
   "outputs": [
    {
     "name": "stdout",
     "output_type": "stream",
     "text": [
      "[0, 1, 2, 3, 4, 5, 6, 7, 8, 9]\n",
      "[3, 4, 5, 6]\n"
     ]
    }
   ],
   "source": [
    "numbers = list(range(10))\n",
    "print(numbers)\n",
    "print(numbers[3:7])"
   ]
  },
  {
   "attachments": {},
   "cell_type": "markdown",
   "metadata": {},
   "source": [
    "Think about the above code as grabbing the 4, entries in the list between 3 and 7.</br>\n",
    "\n",
    "Notice how the last value in our slice is not included in the list. This will always be the case. In python the last index in our slice is excluded.<br/>\n",
    "We can also change the values at a position in a list by replacing them like this"
   ]
  },
  {
   "cell_type": "code",
   "execution_count": null,
   "metadata": {},
   "outputs": [
    {
     "name": "stdout",
     "output_type": "stream",
     "text": [
      "[0, 1, 2, 3, 4, 5, 6, 7, 8, 9]\n",
      "[10, 1, 2, 3, 4, 5, 6, 7, 8, 9]\n"
     ]
    }
   ],
   "source": [
    "print(numbers)\n",
    "numbers[0] = 10\n",
    "print(numbers)"
   ]
  },
  {
   "attachments": {},
   "cell_type": "markdown",
   "metadata": {},
   "source": [
    "We can also query our lists in other ways."
   ]
  },
  {
   "cell_type": "code",
   "execution_count": null,
   "metadata": {},
   "outputs": [
    {
     "name": "stdout",
     "output_type": "stream",
     "text": [
      "False\n",
      "False\n",
      "0\n",
      "2\n",
      "3\n"
     ]
    }
   ],
   "source": [
    "print(10 in numbers)\n",
    "print(64 in numbers)\n",
    "new_numbers = [1, 2, 3, 1, 5, 1]\n",
    "print(new_numbers.index(1))    # Will return the index of the first time the value you pass appears in the list\n",
    "print(new_numbers.index(3))\n",
    "print(new_numbers.count(1))    # Returns the number of times your function argument appears in a list"
   ]
  },
  {
   "attachments": {},
   "cell_type": "markdown",
   "metadata": {},
   "source": [
    "Finally, we can rearrange lists with the sort and reverse methods"
   ]
  },
  {
   "cell_type": "code",
   "execution_count": null,
   "metadata": {},
   "outputs": [
    {
     "name": "stdout",
     "output_type": "stream",
     "text": [
      "[1, 2, 3, 1, 5, 1]\n",
      "[1, 1, 1, 2, 3, 5]\n",
      "[5, 3, 2, 1, 1, 1]\n"
     ]
    }
   ],
   "source": [
    "print(new_numbers)\n",
    "new_numbers.sort()\n",
    "print(new_numbers)\n",
    "new_numbers.reverse()\n",
    "print(new_numbers)"
   ]
  },
  {
   "cell_type": "markdown",
   "metadata": {},
   "source": [
    "Be careful though. Some functions are what are called *\"in place\"*, meaning they modify the variable without having to reassign. Look what happens when we try and assign a variable to <code>new_numbers.reverse()</code>"
   ]
  },
  {
   "cell_type": "code",
   "execution_count": null,
   "metadata": {},
   "outputs": [
    {
     "name": "stdout",
     "output_type": "stream",
     "text": [
      "None\n"
     ]
    }
   ],
   "source": [
    "reversed_numbers = new_numbers.reverse()\n",
    "print(reversed_numbers)"
   ]
  },
  {
   "attachments": {},
   "cell_type": "markdown",
   "metadata": {},
   "source": [
    "Okay that'll do it for now. Phew that was a lot. Thank you if you got this far! In the next notebook we'll start looking at numpy for working with arrays and numerical data (fancy lists). But first let me try to use everything we've learned to write a function"
   ]
  },
  {
   "cell_type": "code",
   "execution_count": null,
   "metadata": {},
   "outputs": [
    {
     "name": "stdout",
     "output_type": "stream",
     "text": [
      "[1, 2, 3, 4, 5, 6, 7, 8, 9, 10, 11, 12, 13, 14, 15, 16, 17, 18, 19, 20, 21, 22, 23, 24, 25, 26, 27, 28, 29, 30, 31, 32, 33, 34, 35, 36, 37, 38, 39, 40, 41, 42, 43, 44, 45, 46, 47, 48, 49, 50, 51, 52, 53, 54, 55, 56, 57, 58, 59, 60, 61, 62, 63, 64, 65, 66, 67, 68, 69, 70, 71, 72, 73, 74, 75, 76, 77, 78, 79, 80, 81, 82, 83, 84, 85, 86, 87, 88, 89, 90, 91, 92, 93, 94, 95, 96, 97, 98, 99, 100]\n"
     ]
    }
   ],
   "source": [
    "def remove_multiples(num_list, multiples):\n",
    "    '''\n",
    "    This function takes a list and remove all elements that are divisible\n",
    "    by any of the numbers in the 'multiples' list\n",
    "    '''\n",
    "    for denominator in multiples:\n",
    "        for num in num_list:\n",
    "            if num % denominator == 0:\n",
    "                num_list.remove(num)\n",
    "    return num_list\n",
    "\n",
    "\n",
    "initial_list = list(range(1, 101))\n",
    "print(initial_list)"
   ]
  },
  {
   "cell_type": "code",
   "execution_count": null,
   "metadata": {},
   "outputs": [
    {
     "name": "stdout",
     "output_type": "stream",
     "text": [
      "[1, 2, 11, 13, 17, 19, 22, 23, 26, 29, 31, 34, 37, 38, 41, 43, 46, 47, 53, 58, 59, 61, 62, 67, 71, 73, 74, 79, 82, 83, 86, 89, 94, 97]\n"
     ]
    }
   ],
   "source": [
    "final_list = remove_multiples(initial_list, [3, 4, 5, 6, 7, 9])\n",
    "print(final_list)"
   ]
  },
  {
   "cell_type": "markdown",
   "metadata": {},
   "source": [
    "For some practice problems, checkout [this website](https://codingbat.com/python)"
   ]
  },
  {
   "attachments": {},
   "cell_type": "markdown",
   "metadata": {},
   "source": [
    "[back to top](#top)"
   ]
  }
 ],
 "metadata": {
  "kernelspec": {
   "display_name": "Python 3 (ipykernel)",
   "language": "python",
   "name": "python3"
  },
  "language_info": {
   "codemirror_mode": {
    "name": "ipython",
    "version": 3
   },
   "file_extension": ".py",
   "mimetype": "text/x-python",
   "name": "python",
   "nbconvert_exporter": "python",
   "pygments_lexer": "ipython3",
   "version": "3.9.16"
  }
 },
 "nbformat": 4,
 "nbformat_minor": 4
}
