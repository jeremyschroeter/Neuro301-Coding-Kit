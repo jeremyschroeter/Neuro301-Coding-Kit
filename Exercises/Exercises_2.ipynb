{
 "cells": [
  {
   "cell_type": "markdown",
   "metadata": {},
   "source": [
    "# Python Exercise Collection 2\n",
    "This notebook contains exercises on the numpy material we covered during week 3. There are ~25 problems here of increasing difficulty. The hardest exercises are beyond the difficulty level of what we'd put on a quiz, but may be close to what you might need to do for a lab report figure. For some of these questions there are multiple ways to get the answer, so don't feel like the provided solutions are the only way to do it.\n",
    "</br></br>\n",
    "Unless asked to, **do not** create any arrays by writing <code>np.array([])</code> and filling in the list with numbers."
   ]
  },
  {
   "cell_type": "markdown",
   "metadata": {},
   "source": [
    "### Exercise 1\n",
    "Import the <code>numpy</code> package under its correct alias"
   ]
  },
  {
   "cell_type": "code",
   "execution_count": 1,
   "metadata": {},
   "outputs": [],
   "source": [
    "# Your code here\n",
    "import numpy as np"
   ]
  },
  {
   "cell_type": "markdown",
   "metadata": {},
   "source": [
    "### Exercise 2\n",
    "Create an array filled with zeros of size 10. Do not just fill <code>np.array()</code> with a list of zeros."
   ]
  },
  {
   "cell_type": "code",
   "execution_count": 13,
   "metadata": {},
   "outputs": [],
   "source": [
    "# Your code here"
   ]
  },
  {
   "cell_type": "markdown",
   "metadata": {},
   "source": [
    "### Exercise 3\n",
    "Make the last element of the array from the previous problem equal to 1"
   ]
  },
  {
   "cell_type": "code",
   "execution_count": 15,
   "metadata": {},
   "outputs": [],
   "source": [
    "# Your code here"
   ]
  },
  {
   "cell_type": "markdown",
   "metadata": {},
   "source": [
    "### Exercise 4\n",
    "Create and display a 1-dimensional numpy array containing the integers ranging from 10 to 49"
   ]
  },
  {
   "cell_type": "code",
   "execution_count": 14,
   "metadata": {},
   "outputs": [
    {
     "name": "stdout",
     "output_type": "stream",
     "text": [
      "[10 11 12 13 14 15 16 17 18 19 20 21 22 23 24 25 26 27 28 29 30 31 32 33\n",
      " 34 35 36 37 38 39 40 41 42 43 44 45 46 47 48 49]\n"
     ]
    }
   ],
   "source": [
    "# Your code here\n",
    "arr = np.arange(10, 50)\n",
    "print(arr)"
   ]
  },
  {
   "cell_type": "markdown",
   "metadata": {},
   "source": [
    "### Exercise 5\n",
    "Using the same array from the previous problem, reshape it to have 10 rows and four columns."
   ]
  },
  {
   "cell_type": "code",
   "execution_count": 12,
   "metadata": {},
   "outputs": [
    {
     "name": "stdout",
     "output_type": "stream",
     "text": [
      "[[10 11 12 13]\n",
      " [14 15 16 17]\n",
      " [18 19 20 21]\n",
      " [22 23 24 25]\n",
      " [26 27 28 29]\n",
      " [30 31 32 33]\n",
      " [34 35 36 37]\n",
      " [38 39 40 41]\n",
      " [42 43 44 45]\n",
      " [46 47 48 49]]\n"
     ]
    }
   ],
   "source": [
    "# Your code here\n",
    "reshaped_arr = arr.reshape(10, 4)\n",
    "print(reshaped_arr)"
   ]
  },
  {
   "cell_type": "markdown",
   "metadata": {},
   "source": [
    "### Exercise 6\n",
    "Using the same array from the previous problem, create and display a new array which contains only the values in the last two rows and last two columns. Your answer should look like this $\\begin{bmatrix}44 & 45 \\\\ 48 & 49 \\end{bmatrix}$ except it'll appear as a list of lists rather than as a matrix."
   ]
  },
  {
   "cell_type": "code",
   "execution_count": 18,
   "metadata": {},
   "outputs": [
    {
     "name": "stdout",
     "output_type": "stream",
     "text": [
      "[[44 45]\n",
      " [48 49]]\n"
     ]
    }
   ],
   "source": [
    "# Your code here\n",
    "last_two = reshaped_arr[-2:, -2:]\n",
    "print(last_two)"
   ]
  },
  {
   "cell_type": "markdown",
   "metadata": {},
   "source": [
    "### Exercise 7\n",
    "With the array you obtained in the previous problem, replace all even values with 0 and odd values with 1 only using numpy operations, no for loops."
   ]
  },
  {
   "cell_type": "code",
   "execution_count": 21,
   "metadata": {},
   "outputs": [
    {
     "name": "stdout",
     "output_type": "stream",
     "text": [
      "[[0 1]\n",
      " [0 1]]\n"
     ]
    }
   ],
   "source": [
    "# Your code here\n",
    "print(last_two % 2)"
   ]
  },
  {
   "cell_type": "markdown",
   "metadata": {},
   "source": [
    "### Exercise 8\n",
    "Using the array you made on exercise 5, create and display a new array containing only the elements which are divisible by 5."
   ]
  },
  {
   "cell_type": "code",
   "execution_count": 24,
   "metadata": {},
   "outputs": [
    {
     "name": "stdout",
     "output_type": "stream",
     "text": [
      "[10 15 20 25 30 35 40 45]\n"
     ]
    }
   ],
   "source": [
    "# Your code here\n",
    "divisible_by_five = reshaped_arr[reshaped_arr % 5 == 0]\n",
    "print(divisible_by_five)"
   ]
  },
  {
   "cell_type": "markdown",
   "metadata": {},
   "source": [
    "### Exercise 9\n",
    "Use numpy to generate an array of size (10, 10) with random numbers between 0 and 1."
   ]
  },
  {
   "cell_type": "code",
   "execution_count": 36,
   "metadata": {},
   "outputs": [
    {
     "name": "stdout",
     "output_type": "stream",
     "text": [
      "[[0.19026009 0.77614228 0.19830132 0.39504923 0.69115582 0.17721056\n",
      "  0.52616058 0.98188299 0.91310492 0.66552388]\n",
      " [0.15336767 0.21653326 0.20114995 0.0897107  0.20164859 0.50133662\n",
      "  0.14977969 0.35695412 0.04533911 0.42378659]\n",
      " [0.49611746 0.37132588 0.40273579 0.36219015 0.67032595 0.89198693\n",
      "  0.35754603 0.82881309 0.39634565 0.84963105]\n",
      " [0.69511722 0.05608042 0.96758132 0.42309773 0.27041114 0.72606871\n",
      "  0.78492033 0.30975095 0.89047376 0.52957852]\n",
      " [0.77485298 0.71195119 0.74057652 0.38403396 0.77767789 0.9621251\n",
      "  0.36671815 0.28124129 0.46854106 0.53000044]\n",
      " [0.26544662 0.08318564 0.75049342 0.75847548 0.17467294 0.1267696\n",
      "  0.76073241 0.295271   0.00125828 0.67487885]\n",
      " [0.47656785 0.38775967 0.67852839 0.0832443  0.04292152 0.55754189\n",
      "  0.65523058 0.27200725 0.72707069 0.67178213]\n",
      " [0.87678686 0.9947366  0.45335451 0.53319208 0.55877625 0.48120069\n",
      "  0.10168456 0.20510706 0.60043838 0.50087472]\n",
      " [0.14018013 0.06580108 0.55901305 0.74348149 0.36637587 0.07513195\n",
      "  0.370092   0.98791439 0.45878404 0.14232174]\n",
      " [0.38062043 0.14284786 0.16300061 0.41362949 0.7900061  0.32011385\n",
      "  0.59654722 0.24321464 0.32080345 0.72048722]]\n",
      "(10, 10)\n"
     ]
    }
   ],
   "source": [
    "# Your code here\n",
    "random_array = np.random.rand(10, 10)\n",
    "print(random_array)\n",
    "print(random_array.shape)"
   ]
  },
  {
   "cell_type": "markdown",
   "metadata": {},
   "source": [
    "### Exercise 10\n",
    "Find the max, min,  mean, standard deviation, and median of the array you made on the previous problem."
   ]
  },
  {
   "cell_type": "code",
   "execution_count": 35,
   "metadata": {},
   "outputs": [
    {
     "name": "stdout",
     "output_type": "stream",
     "text": [
      "0.9936536423215767\n",
      "0.008332067603614157\n",
      "0.5326748285130273\n",
      "0.26878118197551615\n",
      "0.5301774885244839\n"
     ]
    }
   ],
   "source": [
    "# Your code here\n",
    "print(random_array.max())\n",
    "print(random_array.min())\n",
    "print(random_array.mean())\n",
    "print(random_array.std())\n",
    "print(np.median(random_array)) # Unfortunately the syntax for median is slightly different"
   ]
  },
  {
   "cell_type": "markdown",
   "metadata": {},
   "source": [
    "### Exercise 11\n",
    "Use numpy to find the row and column position of the maximum element in your random array. Double check your work by indexing the array with your answer."
   ]
  },
  {
   "cell_type": "code",
   "execution_count": 38,
   "metadata": {},
   "outputs": [
    {
     "name": "stdout",
     "output_type": "stream",
     "text": [
      "(7, 1)\n",
      "True\n"
     ]
    }
   ],
   "source": [
    "# Your code here\n",
    "max_position = np.unravel_index(np.argmax(random_array), shape=random_array.shape)\n",
    "print(max_position)\n",
    "print(random_array.max() == random_array[max_position])"
   ]
  },
  {
   "cell_type": "code",
   "execution_count": null,
   "metadata": {},
   "outputs": [],
   "source": []
  }
 ],
 "metadata": {
  "kernelspec": {
   "display_name": "neusci490",
   "language": "python",
   "name": "python3"
  },
  "language_info": {
   "codemirror_mode": {
    "name": "ipython",
    "version": 3
   },
   "file_extension": ".py",
   "mimetype": "text/x-python",
   "name": "python",
   "nbconvert_exporter": "python",
   "pygments_lexer": "ipython3",
   "version": "3.9.18"
  }
 },
 "nbformat": 4,
 "nbformat_minor": 2
}
