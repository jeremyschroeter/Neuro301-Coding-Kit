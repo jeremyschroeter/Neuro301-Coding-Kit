{
 "cells": [
  {
   "cell_type": "markdown",
   "metadata": {},
   "source": [
    "# Python Exercise Collection 2\n",
    "This notebook contains exercises on the numpy material we covered during week 3. There are ~25 problems here of increasing difficulty. The hardest exercises are beyond the difficulty level of what we'd put on a quiz, but may be close to what you might need to do for a lab report figure. For some of these questions there are multiple ways to get the answer, so don't feel like the provided solutions are the only way to do it.\n",
    "</br></br>\n",
    "Unless asked to, **do not** create any arrays by writing <code>np.array([])</code> and filling in the list with numbers."
   ]
  },
  {
   "cell_type": "markdown",
   "metadata": {},
   "source": [
    "### Exercise 1\n",
    "Import the <code>numpy</code> package under its correct alias"
   ]
  },
  {
   "cell_type": "code",
   "execution_count": 2,
   "metadata": {},
   "outputs": [],
   "source": [
    "# The below set of code insures that everyone should have the same random numbers\n",
    "# for the problems in this notebook. You can ignore it and just write after the \"Your code here\" comment\n",
    "np.random.seed(42)\n",
    "\n",
    "# Your code here\n",
    "import numpy as np"
   ]
  },
  {
   "cell_type": "markdown",
   "metadata": {},
   "source": [
    "### Exercise 2\n",
    "Create an array filled with zeros of size 10. Do not just fill <code>np.array()</code> with a list of zeros."
   ]
  },
  {
   "cell_type": "code",
   "execution_count": 3,
   "metadata": {},
   "outputs": [
    {
     "name": "stdout",
     "output_type": "stream",
     "text": [
      "[0. 0. 0. 0. 0. 0. 0. 0. 0. 0.] (10,)\n"
     ]
    }
   ],
   "source": [
    "# Your code here\n",
    "zero_arr = np.zeros(shape=10)\n",
    "print(zero_arr, zero_arr.shape)"
   ]
  },
  {
   "cell_type": "markdown",
   "metadata": {},
   "source": [
    "### Exercise 3\n",
    "Make the last element of the array from the previous problem equal to 1"
   ]
  },
  {
   "cell_type": "code",
   "execution_count": 4,
   "metadata": {},
   "outputs": [
    {
     "name": "stdout",
     "output_type": "stream",
     "text": [
      "[0. 0. 0. 0. 0. 0. 0. 0. 0. 1.]\n"
     ]
    }
   ],
   "source": [
    "# Your code here\n",
    "zero_arr[-1] = 1\n",
    "print(zero_arr)"
   ]
  },
  {
   "cell_type": "markdown",
   "metadata": {},
   "source": [
    "### Exercise 4\n",
    "Create and display a 1-dimensional numpy array containing the integers ranging from 10 to 49"
   ]
  },
  {
   "cell_type": "code",
   "execution_count": 5,
   "metadata": {},
   "outputs": [
    {
     "name": "stdout",
     "output_type": "stream",
     "text": [
      "[10 11 12 13 14 15 16 17 18 19 20 21 22 23 24 25 26 27 28 29 30 31 32 33\n",
      " 34 35 36 37 38 39 40 41 42 43 44 45 46 47 48 49]\n"
     ]
    }
   ],
   "source": [
    "# Your code here\n",
    "arr = np.arange(10, 50)\n",
    "print(arr)"
   ]
  },
  {
   "cell_type": "markdown",
   "metadata": {},
   "source": [
    "### Exercise 5\n",
    "Using the same array from the previous problem, reshape it to have 10 rows and four columns."
   ]
  },
  {
   "cell_type": "code",
   "execution_count": 6,
   "metadata": {},
   "outputs": [
    {
     "name": "stdout",
     "output_type": "stream",
     "text": [
      "[[10 11 12 13]\n",
      " [14 15 16 17]\n",
      " [18 19 20 21]\n",
      " [22 23 24 25]\n",
      " [26 27 28 29]\n",
      " [30 31 32 33]\n",
      " [34 35 36 37]\n",
      " [38 39 40 41]\n",
      " [42 43 44 45]\n",
      " [46 47 48 49]]\n"
     ]
    }
   ],
   "source": [
    "# Your code here\n",
    "reshaped_arr = arr.reshape(10, 4)\n",
    "print(reshaped_arr)"
   ]
  },
  {
   "cell_type": "markdown",
   "metadata": {},
   "source": [
    "### Exercise 6\n",
    "Using the same array from the previous problem, create and display a new array which contains only the values in the last two rows and last two columns. Your answer should look like this $\\begin{bmatrix}44 & 45 \\\\ 48 & 49 \\end{bmatrix}$ except it'll appear as a list of lists rather than as a matrix."
   ]
  },
  {
   "cell_type": "code",
   "execution_count": 7,
   "metadata": {},
   "outputs": [
    {
     "name": "stdout",
     "output_type": "stream",
     "text": [
      "[[44 45]\n",
      " [48 49]]\n"
     ]
    }
   ],
   "source": [
    "# Your code here\n",
    "last_two = reshaped_arr[-2:, -2:]\n",
    "print(last_two)"
   ]
  },
  {
   "cell_type": "markdown",
   "metadata": {},
   "source": [
    "### Exercise 7\n",
    "With the array you obtained in the previous problem, replace all even values with 0 and odd values with 1 only using numpy operations, no for loops."
   ]
  },
  {
   "cell_type": "code",
   "execution_count": 8,
   "metadata": {},
   "outputs": [
    {
     "name": "stdout",
     "output_type": "stream",
     "text": [
      "[[0 1]\n",
      " [0 1]]\n"
     ]
    }
   ],
   "source": [
    "# Your code here\n",
    "even_odd = last_two % 2\n",
    "print(even_odd)"
   ]
  },
  {
   "cell_type": "markdown",
   "metadata": {},
   "source": [
    "### Exercise 8\n",
    "Using the array you made on exercise 5, create and display a new array containing only the elements which are divisible by 5."
   ]
  },
  {
   "cell_type": "code",
   "execution_count": 9,
   "metadata": {},
   "outputs": [
    {
     "name": "stdout",
     "output_type": "stream",
     "text": [
      "[10 15 20 25 30 35 40 45]\n"
     ]
    }
   ],
   "source": [
    "# Your code here\n",
    "divisible_by_five = reshaped_arr[reshaped_arr % 5 == 0]\n",
    "print(divisible_by_five)"
   ]
  },
  {
   "cell_type": "markdown",
   "metadata": {},
   "source": [
    "### Exercise 9\n",
    "Use numpy to generate an array of size (10, 10) with random numbers between 0 and 1."
   ]
  },
  {
   "cell_type": "code",
   "execution_count": 10,
   "metadata": {},
   "outputs": [
    {
     "name": "stdout",
     "output_type": "stream",
     "text": [
      "[[0.37454012 0.95071431 0.73199394 0.59865848 0.15601864 0.15599452\n",
      "  0.05808361 0.86617615 0.60111501 0.70807258]\n",
      " [0.02058449 0.96990985 0.83244264 0.21233911 0.18182497 0.18340451\n",
      "  0.30424224 0.52475643 0.43194502 0.29122914]\n",
      " [0.61185289 0.13949386 0.29214465 0.36636184 0.45606998 0.78517596\n",
      "  0.19967378 0.51423444 0.59241457 0.04645041]\n",
      " [0.60754485 0.17052412 0.06505159 0.94888554 0.96563203 0.80839735\n",
      "  0.30461377 0.09767211 0.68423303 0.44015249]\n",
      " [0.12203823 0.49517691 0.03438852 0.9093204  0.25877998 0.66252228\n",
      "  0.31171108 0.52006802 0.54671028 0.18485446]\n",
      " [0.96958463 0.77513282 0.93949894 0.89482735 0.59789998 0.92187424\n",
      "  0.0884925  0.19598286 0.04522729 0.32533033]\n",
      " [0.38867729 0.27134903 0.82873751 0.35675333 0.28093451 0.54269608\n",
      "  0.14092422 0.80219698 0.07455064 0.98688694]\n",
      " [0.77224477 0.19871568 0.00552212 0.81546143 0.70685734 0.72900717\n",
      "  0.77127035 0.07404465 0.35846573 0.11586906]\n",
      " [0.86310343 0.62329813 0.33089802 0.06355835 0.31098232 0.32518332\n",
      "  0.72960618 0.63755747 0.88721274 0.47221493]\n",
      " [0.11959425 0.71324479 0.76078505 0.5612772  0.77096718 0.4937956\n",
      "  0.52273283 0.42754102 0.02541913 0.10789143]]\n",
      "(10, 10)\n"
     ]
    }
   ],
   "source": [
    "# Your code here\n",
    "random_array = np.random.rand(10, 10)\n",
    "print(random_array)\n",
    "print(random_array.shape)"
   ]
  },
  {
   "cell_type": "markdown",
   "metadata": {},
   "source": [
    "### Exercise 10\n",
    "Find the max, min,  mean, standard deviation, and median of the array you made on the previous problem."
   ]
  },
  {
   "cell_type": "code",
   "execution_count": 11,
   "metadata": {},
   "outputs": [
    {
     "name": "stdout",
     "output_type": "stream",
     "text": [
      "0.9868869366005173\n",
      "0.005522117123602399\n",
      "0.47018074337820936\n",
      "0.29599822663249037\n",
      "0.4641424546894926\n"
     ]
    }
   ],
   "source": [
    "# Your code here\n",
    "print(random_array.max())\n",
    "print(random_array.min())\n",
    "print(random_array.mean())\n",
    "print(random_array.std())\n",
    "print(np.median(random_array)) # Unfortunately the syntax for median is slightly different"
   ]
  },
  {
   "cell_type": "markdown",
   "metadata": {},
   "source": [
    "### Exercise 11\n",
    "Use numpy to find the row and column position of the maximum element in your random array. Double check your work by indexing the array with your answer."
   ]
  },
  {
   "cell_type": "code",
   "execution_count": 12,
   "metadata": {},
   "outputs": [
    {
     "name": "stdout",
     "output_type": "stream",
     "text": [
      "(6, 9)\n",
      "True\n"
     ]
    }
   ],
   "source": [
    "# Your code here\n",
    "max_position = np.unravel_index(np.argmax(random_array), shape=random_array.shape)\n",
    "print(max_position)\n",
    "print(random_array.max() == random_array[max_position])"
   ]
  },
  {
   "cell_type": "markdown",
   "metadata": {},
   "source": [
    "### Exercise 12\n",
    "Create an array of with 5 rows and 5 columns containing the values from 1 to 25. Then use indexing to create a new array containing the (3, 3) array occupying its center. Your answer should look like $\\begin{bmatrix}7 & 8 & 9 \\\\ 12 & 13 & 24 \\\\ 17 & 18 & 19 \\end{bmatrix}$"
   ]
  },
  {
   "cell_type": "code",
   "execution_count": 14,
   "metadata": {},
   "outputs": [
    {
     "name": "stdout",
     "output_type": "stream",
     "text": [
      "[[ 7  8  9]\n",
      " [12 13 14]\n",
      " [17 18 19]]\n"
     ]
    }
   ],
   "source": [
    "# Your code here\n",
    "five_by_five_arr = np.arange(1, 26).reshape(5, 5)\n",
    "inner_arr = five_by_five_arr[1:-1, 1:-1]\n",
    "print(inner_arr)"
   ]
  },
  {
   "cell_type": "markdown",
   "metadata": {},
   "source": [
    "## Note: everything below this section was not covered in class, but is in the review notebook. I recommend you look at that before continuing, but some of you may be able to figure it out on your own."
   ]
  },
  {
   "cell_type": "markdown",
   "metadata": {},
   "source": [
    "### Exercise 13\n",
    "Create a (6, 4) array with values ranging from 1 to 24. Then, without using for loops, find the values **and** positions of array elements for which both 4 and 6 are perfect factors? Double check your work by using your positions to index the array."
   ]
  },
  {
   "cell_type": "code",
   "execution_count": 29,
   "metadata": {},
   "outputs": [
    {
     "name": "stdout",
     "output_type": "stream",
     "text": [
      "[[ 1  2  3  4]\n",
      " [ 5  6  7  8]\n",
      " [ 9 10 11 12]\n",
      " [13 14 15 16]\n",
      " [17 18 19 20]\n",
      " [21 22 23 24]]\n",
      "[12 24]\n",
      "(array([2, 5]), array([3, 3]))\n",
      "[ True  True]\n"
     ]
    }
   ],
   "source": [
    "four_by_four = np.arange(1, 25).reshape(6, 4)\n",
    "perfect_factors = four_by_four[(four_by_four % 4 == 0) & (four_by_four % 6 == 0)]\n",
    "perfect_factor_positions = np.where((four_by_four % 4 == 0) & (four_by_four % 6 == 0))\n",
    "\n",
    "print(four_by_four)\n",
    "print(perfect_factors)\n",
    "print(perfect_factor_positions)\n",
    "print(perfect_factors == four_by_four[perfect_factor_positions])\n"
   ]
  },
  {
   "cell_type": "code",
   "execution_count": 31,
   "metadata": {},
   "outputs": [],
   "source": [
    "four_by_four = np.arange(1, 25).reshape(6, 2, 2)\n",
    "perfect_factor_positions = np.where((four_by_four % 4 == 0) & (four_by_four % 6 == 0))"
   ]
  },
  {
   "cell_type": "code",
   "execution_count": 34,
   "metadata": {},
   "outputs": [
    {
     "data": {
      "text/plain": [
       "array([[2, 1, 1],\n",
       "       [5, 1, 1]])"
      ]
     },
     "execution_count": 34,
     "metadata": {},
     "output_type": "execute_result"
    }
   ],
   "source": [
    "np.argwhere((four_by_four % 4 == 0) & (four_by_four % 6 == 0))"
   ]
  }
 ],
 "metadata": {
  "kernelspec": {
   "display_name": "neusci490",
   "language": "python",
   "name": "python3"
  },
  "language_info": {
   "codemirror_mode": {
    "name": "ipython",
    "version": 3
   },
   "file_extension": ".py",
   "mimetype": "text/x-python",
   "name": "python",
   "nbconvert_exporter": "python",
   "pygments_lexer": "ipython3",
   "version": "3.9.18"
  }
 },
 "nbformat": 4,
 "nbformat_minor": 2
}
