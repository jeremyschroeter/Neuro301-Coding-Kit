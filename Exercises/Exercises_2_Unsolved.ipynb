{
 "cells": [
  {
   "cell_type": "markdown",
   "metadata": {},
   "source": [
    "# Python Exercise Collection 2\n",
    "This notebook contains exercises on the numpy material we covered during week 3. There are ~25 problems here of somewhat increasing difficulty. The hardest exercises are beyond the difficulty level of what we'd put on a quiz, but may be close to what you might need to do for a lab report figure. For some of these questions there are multiple ways to get the answer, so don't feel like the provided solutions are the only way to do it.\n",
    "</br></br>\n",
    "Unless asked to, **do not** create any arrays by writing <code>np.array([])</code> and filling in the list with numbers."
   ]
  },
  {
   "cell_type": "markdown",
   "metadata": {},
   "source": [
    "### Exercise 1\n",
    "Import the <code>numpy</code> package under its correct alias"
   ]
  },
  {
   "cell_type": "code",
   "execution_count": null,
   "metadata": {},
   "outputs": [],
   "source": [
    "# Your code here\n"
   ]
  },
  {
   "cell_type": "code",
   "execution_count": null,
   "metadata": {},
   "outputs": [],
   "source": [
    "# You can ignore this cell, just run it before continuing.\n",
    "# The code insures that everyone should have the same\n",
    "# random numbers for the problems in this notebook\n",
    "np.random.seed(42)"
   ]
  },
  {
   "cell_type": "markdown",
   "metadata": {},
   "source": [
    "### Exercise 2\n",
    "Create an array filled with zeros of size 10. Do not just fill <code>np.array()</code> with a list of zeros."
   ]
  },
  {
   "cell_type": "code",
   "execution_count": null,
   "metadata": {},
   "outputs": [],
   "source": [
    "# Your code here\n"
   ]
  },
  {
   "cell_type": "markdown",
   "metadata": {},
   "source": [
    "### Exercise 3\n",
    "Make the last element of the array from the previous problem equal to 1"
   ]
  },
  {
   "cell_type": "code",
   "execution_count": null,
   "metadata": {},
   "outputs": [],
   "source": [
    "# Your code here\n"
   ]
  },
  {
   "cell_type": "markdown",
   "metadata": {},
   "source": [
    "### Exercise 4\n",
    "Create and display a 1-dimensional numpy array containing the integers ranging from 10 to 49"
   ]
  },
  {
   "cell_type": "code",
   "execution_count": null,
   "metadata": {},
   "outputs": [],
   "source": [
    "# Your code here\n"
   ]
  },
  {
   "cell_type": "markdown",
   "metadata": {},
   "source": [
    "### Exercise 5\n",
    "Using the same array from the previous problem, reshape it to have 10 rows and four columns."
   ]
  },
  {
   "cell_type": "code",
   "execution_count": null,
   "metadata": {},
   "outputs": [],
   "source": [
    "# Your code here\n"
   ]
  },
  {
   "cell_type": "markdown",
   "metadata": {},
   "source": [
    "### Exercise 6\n",
    "Using the same array from the previous problem, create and display a new array which contains only the values in the last two rows and last two columns. Your answer should look like this $\\begin{bmatrix}44 & 45 \\\\ 48 & 49 \\end{bmatrix}$ except it'll appear as a list of lists rather than as a matrix."
   ]
  },
  {
   "cell_type": "code",
   "execution_count": null,
   "metadata": {},
   "outputs": [],
   "source": [
    "# Your code here\n"
   ]
  },
  {
   "cell_type": "markdown",
   "metadata": {},
   "source": [
    "### Exercise 7\n",
    "With the array you obtained in the previous problem, replace all even values with 0 and odd values with 1 only using numpy operations, no for loops."
   ]
  },
  {
   "cell_type": "code",
   "execution_count": null,
   "metadata": {},
   "outputs": [],
   "source": [
    "# Your code here\n"
   ]
  },
  {
   "cell_type": "markdown",
   "metadata": {},
   "source": [
    "### Exercise 8\n",
    "Using the array you made on exercise 5, create and display a new array containing only the elements which are divisible by 5."
   ]
  },
  {
   "cell_type": "code",
   "execution_count": null,
   "metadata": {},
   "outputs": [],
   "source": [
    "# Your code here\n"
   ]
  },
  {
   "cell_type": "markdown",
   "metadata": {},
   "source": [
    "### Exercise 9\n",
    "Use numpy to generate an array of size (10, 10) with random numbers between 0 and 1."
   ]
  },
  {
   "cell_type": "code",
   "execution_count": null,
   "metadata": {},
   "outputs": [],
   "source": [
    "# Your code here\n"
   ]
  },
  {
   "cell_type": "markdown",
   "metadata": {},
   "source": [
    "### Exercise 10\n",
    "Find the max, min,  mean, standard deviation, and median of the array you made on the previous problem."
   ]
  },
  {
   "cell_type": "code",
   "execution_count": null,
   "metadata": {},
   "outputs": [],
   "source": [
    "# Your code here\n"
   ]
  },
  {
   "cell_type": "markdown",
   "metadata": {},
   "source": [
    "### Exercise 11\n",
    "Use numpy to find the row and column position of the maximum element in your random array. Double check your work by indexing the array with your answer."
   ]
  },
  {
   "cell_type": "code",
   "execution_count": null,
   "metadata": {},
   "outputs": [],
   "source": [
    "# Your code here\n"
   ]
  },
  {
   "cell_type": "markdown",
   "metadata": {},
   "source": [
    "### Exercise 12\n",
    "Create an array of with 5 rows and 5 columns containing the values from 1 to 25. Then use indexing to create a new array containing the (3, 3) array occupying its center. Your answer should look like $\\begin{bmatrix}7 & 8 & 9 \\\\ 12 & 13 & 24 \\\\ 17 & 18 & 19 \\end{bmatrix}$"
   ]
  },
  {
   "cell_type": "code",
   "execution_count": null,
   "metadata": {},
   "outputs": [],
   "source": [
    "# Your code here\n"
   ]
  },
  {
   "cell_type": "markdown",
   "metadata": {},
   "source": [
    "### Exercise 13\n",
    "Create a (6, 4) array with values ranging from 1 to 24. Then, without using for loops, find the values **and** positions of array elements for which both 4 and 6 are perfect factors? Double check your work by using your positions to index the array."
   ]
  },
  {
   "cell_type": "code",
   "execution_count": null,
   "metadata": {},
   "outputs": [],
   "source": []
  },
  {
   "cell_type": "markdown",
   "metadata": {},
   "source": [
    "### Exercise 14\n",
    "Use <code>np.linspace()</code> to make an array which starts at 0 and goes to 5 in 0.25 increments."
   ]
  },
  {
   "cell_type": "code",
   "execution_count": null,
   "metadata": {},
   "outputs": [],
   "source": []
  },
  {
   "cell_type": "markdown",
   "metadata": {},
   "source": [
    "### Exercise 15\n",
    "Define a variable <code>x</code> and use <code>np.linspace()</code> to make it an array ranging from 0 to $2\\pi$ in $\\frac{\\pi}{4}$ increments. Use <code>np.pi</code> to refer to $\\pi$"
   ]
  },
  {
   "cell_type": "code",
   "execution_count": null,
   "metadata": {},
   "outputs": [],
   "source": [
    "# Your code here\n"
   ]
  },
  {
   "cell_type": "markdown",
   "metadata": {},
   "source": [
    "### Exercise 16\n",
    "Using your variable <code>x</code> from the previous exercise, compute $\\sin($<code>x</code>$)$"
   ]
  },
  {
   "cell_type": "code",
   "execution_count": null,
   "metadata": {},
   "outputs": [],
   "source": [
    "# Your code here\n"
   ]
  },
  {
   "cell_type": "markdown",
   "metadata": {},
   "source": [
    "### Exercise 17\n",
    "\n",
    "Write a function that implements the Gaussian function: $f(x)=e^{-x^2}$. (Note: Give your function a more descriptive name than $f$ when you write your code!)"
   ]
  },
  {
   "cell_type": "code",
   "execution_count": null,
   "metadata": {},
   "outputs": [],
   "source": []
  },
  {
   "cell_type": "markdown",
   "metadata": {},
   "source": [
    "### Exercise 18\n",
    "\n",
    "Modify the function from the previous exercise to take in parameters $a,b,c$ so that $f(x,a,b,c)=ae^{-(x-b)^2+c}$."
   ]
  },
  {
   "cell_type": "code",
   "execution_count": null,
   "metadata": {},
   "outputs": [],
   "source": []
  },
  {
   "cell_type": "markdown",
   "metadata": {},
   "source": [
    "### Exercise 19\n",
    "\n",
    "Create a 1D array with 10000 values evenly spaced between $-1$ and $2$, and then reshape it to be a $100\\times 100$ array. Then apply your Gaussian function from the previous exercise to this array, with $a=10$, $b=1$, and $c=2$. Note: You should not need to do anything special to apply your Gaussian function to this 2D array."
   ]
  },
  {
   "cell_type": "code",
   "execution_count": null,
   "metadata": {},
   "outputs": [],
   "source": []
  },
  {
   "cell_type": "markdown",
   "metadata": {},
   "source": [
    "### Exercise 20\n",
    "\n",
    "Find the maximum of the previous matrix (the Gaussian function applied to the 2D array) and its (unraveled) index."
   ]
  },
  {
   "cell_type": "code",
   "execution_count": null,
   "metadata": {},
   "outputs": [],
   "source": []
  },
  {
   "cell_type": "markdown",
   "metadata": {},
   "source": [
    "### Exercise 21"
   ]
  },
  {
   "cell_type": "markdown",
   "metadata": {},
   "source": [
    "Create a <code>9x9</code> array of zeros, and then fill row 5, column 5, and the main diagonal (top left to bottom right) with ones. No for loops. Hint: <code>np.diag_indices(n)</code> will give you the indices of the diagonal for an $n\\times n$ array."
   ]
  },
  {
   "cell_type": "code",
   "execution_count": null,
   "metadata": {},
   "outputs": [],
   "source": []
  },
  {
   "cell_type": "markdown",
   "metadata": {},
   "source": [
    "### Exercise 22"
   ]
  },
  {
   "cell_type": "markdown",
   "metadata": {},
   "source": [
    "Now take the array from the previous problem and fill the main skew diagonal (the longest diagonal going from the bottom left to the top right) with ones. Hint: There isn't a function like <code>np.diag_indices</code> for skew-diagonals, but you can rotate the array with <code>np.rot90</code> to turn the skew diagonal into a diagonal, modify the array, and then rotate it back. Check out the documentation of <code>np.rot90</code> here: https://numpy.org/doc/stable/reference/generated/numpy.rot90.html to find out how to use it."
   ]
  },
  {
   "cell_type": "code",
   "execution_count": null,
   "metadata": {},
   "outputs": [],
   "source": []
  },
  {
   "cell_type": "markdown",
   "metadata": {},
   "source": [
    "### Exercise 23\n",
    "\n",
    "Create a 3D array of random numbers called <code>data</code> with shape $50\\times 1000\\times 3$. Next, cCreate an evenly spaced array of values between 0 and $8\\pi$ with length 1000 and call that <code>t</code>. Then **add** <code>np.sin(t)</code> to the first $50\\times 100$ array in <code>data</code> from the previous problem (i.e. <code>data[:,:,0]</code>). Next **add** <code>np.cos(t)</code> to the next $50\\times 1000$ array, and finally **add** <code>np.tanh(t-12)</code> to the last $50\\times 1000$ array. "
   ]
  },
  {
   "cell_type": "code",
   "execution_count": null,
   "metadata": {},
   "outputs": [],
   "source": []
  },
  {
   "cell_type": "markdown",
   "metadata": {},
   "source": [
    "### Exercise 24\n",
    "\n",
    "Average the previous array along the 1st axis, leaving you with an array with shape $1000\\times 3$, and save the result to <code>trial_averaged</code>. Then run the code below."
   ]
  },
  {
   "cell_type": "code",
   "execution_count": null,
   "metadata": {},
   "outputs": [],
   "source": [
    "# Your code here\n",
    "\n",
    "# Ignore below this\n",
    "import matplotlib.pylab as plt\n",
    "fig,ax = plt.subplots(1,3,sharex=True,sharey=True)\n",
    "[ax[i].plot(t,trial_averaged[:,i]) for i in range(3)]\n",
    "[ax[i].set_title(title) for i,title in enumerate([\"sin(t)\",\"cos(t)\",\"tanh(t-12)\"])]"
   ]
  },
  {
   "cell_type": "markdown",
   "metadata": {},
   "source": [
    "### Exercise 21\n",
    "\n",
    "Compute the standard deviation of <code>data</code> along the 1st axis, save it to <code>trial_std</code>, and then run the code below."
   ]
  },
  {
   "cell_type": "code",
   "execution_count": null,
   "metadata": {},
   "outputs": [],
   "source": [
    "# Your code here\n",
    "\n",
    "# Ignore below this\n",
    "import matplotlib.pylab as plt\n",
    "fig,ax = plt.subplots(1,3,sharex=True,sharey=True)\n",
    "[ax[i].plot(t,trial_averaged[:,i]) for i in range(3)]\n",
    "[ax[i].fill_between(t,trial_averaged[:,i]-trial_std[:,i],trial_averaged[:,i]+trial_std[:,i],alpha=0.5) for i in range(3)]\n",
    "[ax[i].set_title(title) for i,title in enumerate([\"sin(t)\",\"cos(t)\",\"tanh(t-12)\"])]"
   ]
  }
 ],
 "metadata": {
  "kernelspec": {
   "display_name": "Python 3 (ipykernel)",
   "language": "python",
   "name": "python3"
  },
  "language_info": {
   "codemirror_mode": {
    "name": "ipython",
    "version": 3
   },
   "file_extension": ".py",
   "mimetype": "text/x-python",
   "name": "python",
   "nbconvert_exporter": "python",
   "pygments_lexer": "ipython3",
   "version": "3.12.1"
  }
 },
 "nbformat": 4,
 "nbformat_minor": 4
}
