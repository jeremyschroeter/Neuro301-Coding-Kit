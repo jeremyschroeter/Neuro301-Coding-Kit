{
 "cells": [
  {
   "cell_type": "markdown",
   "metadata": {},
   "source": [
    "# Python Exercise Collection 1\n",
    "This notebook contains Python exercises on the topics covered in the first lesson. There are ~5 exercises per section in the Python Basics notebook. If in any of the exercises you feel like declaring a variable makes the question easier or your code more readable, even if it isn't required, feel free to do so."
   ]
  },
  {
   "cell_type": "markdown",
   "metadata": {},
   "source": [
    "</br>"
   ]
  },
  {
   "cell_type": "markdown",
   "metadata": {},
   "source": [
    "## Section 1: Python is a Calculator\n",
    "### Exercise 1\n",
    "Display the addition, multiplication, and division of 30 by 40."
   ]
  },
  {
   "cell_type": "code",
   "execution_count": 1,
   "metadata": {},
   "outputs": [
    {
     "name": "stdout",
     "output_type": "stream",
     "text": [
      "70\n",
      "1200\n",
      "0.75\n"
     ]
    }
   ],
   "source": [
    "print(30 + 40)\n",
    "print(30 * 40)\n",
    "print(30 / 40)"
   ]
  },
  {
   "cell_type": "markdown",
   "metadata": {},
   "source": [
    "### Exercise 2\n",
    "Display the result of raising 4 to the power of -2"
   ]
  },
  {
   "cell_type": "code",
   "execution_count": 2,
   "metadata": {},
   "outputs": [
    {
     "name": "stdout",
     "output_type": "stream",
     "text": [
      "0.0625\n"
     ]
    }
   ],
   "source": [
    "print(4 ** -2)"
   ]
  },
  {
   "cell_type": "markdown",
   "metadata": {},
   "source": [
    "### Exercise 3\n",
    "Compute and display the average of the following numbers:\n",
    "</br>\n",
    "</br>\n",
    "30.0, 27.5, 45.6, 21.0, 50.5"
   ]
  },
  {
   "cell_type": "code",
   "execution_count": 3,
   "metadata": {},
   "outputs": [
    {
     "name": "stdout",
     "output_type": "stream",
     "text": [
      "34.92\n"
     ]
    }
   ],
   "source": [
    "average = (30 + 27.5 + 45.6 + 21.0 + 50.5) / 5\n",
    "print(average)"
   ]
  },
  {
   "cell_type": "markdown",
   "metadata": {},
   "source": [
    "### Exercise 4\n",
    "The formula to convert from temperature in Fahrenheit $T_F$ to temperature in Celsius $T_C$ is the following\n",
    "$$ T_C = (T_F - 32) \\times \\frac{5}{9}$$\n",
    "Display the temperature in celcius given a temperature in Fahrenheight of 59 degrees."
   ]
  },
  {
   "cell_type": "code",
   "execution_count": 4,
   "metadata": {},
   "outputs": [
    {
     "name": "stdout",
     "output_type": "stream",
     "text": [
      "15.0\n"
     ]
    }
   ],
   "source": [
    "T_f = 59\n",
    "T_c = (T_f - 32) * (5 / 9)\n",
    "print(T_c)"
   ]
  },
  {
   "cell_type": "markdown",
   "metadata": {},
   "source": [
    "### Exercise 5\n",
    "The Pythagorean Formula gives the length of the hypotenuse, $c$, of a right angle triangle given the lengths of the two other sides, $a$ and $b$\n",
    "$$ c = \\sqrt{a^2 + b^2} $$\n",
    "Given $a=3$ and $b=4$, compute and display the length $c$. As a hint, remember that taking the square root of a number is the same as raising it to the power of $\\frac{1}{2}$"
   ]
  },
  {
   "cell_type": "code",
   "execution_count": 5,
   "metadata": {},
   "outputs": [
    {
     "name": "stdout",
     "output_type": "stream",
     "text": [
      "5.0\n"
     ]
    }
   ],
   "source": [
    "a, b = 3, 4\n",
    "c = (a**2 + b**2) ** 0.5\n",
    "print(c)"
   ]
  },
  {
   "cell_type": "markdown",
   "metadata": {},
   "source": [
    "</br>"
   ]
  },
  {
   "cell_type": "markdown",
   "metadata": {},
   "source": [
    "## Section 2: Variables\n",
    "### Exercise 1\n",
    "Come up with some calculation or piece of text and display it by assigning it to a variable and referencing the variable."
   ]
  },
  {
   "cell_type": "code",
   "execution_count": 6,
   "metadata": {},
   "outputs": [
    {
     "name": "stdout",
     "output_type": "stream",
     "text": [
      "cool text\n"
     ]
    }
   ],
   "source": [
    "cool_variable = 'cool text'\n",
    "print(cool_variable)"
   ]
  },
  {
   "cell_type": "markdown",
   "metadata": {},
   "source": [
    "### Exercise 2\n",
    "Define a variable <code>gas_constant</code> and set it equal to the product of Avogadros number ($6.02\\times 10^{23}$) and Boltzmann's constant ($1.38\\times 10^{-23}$)</br>\n",
    "Display the product by referencing <code>gas_constant</code>"
   ]
  },
  {
   "cell_type": "code",
   "execution_count": 7,
   "metadata": {},
   "outputs": [
    {
     "name": "stdout",
     "output_type": "stream",
     "text": [
      "8.307599999999997\n"
     ]
    }
   ],
   "source": [
    "gas_constant = (6.02 * 10 ** 23) * (1.38 * 10 ** -23)\n",
    "print(gas_constant)"
   ]
  },
  {
   "cell_type": "markdown",
   "metadata": {},
   "source": [
    "### Exercise 3\n",
    "Using the variable <code>gas_constant</code> from the last problem, use an f-string to display the following text:\n",
    "</br></br>\n",
    "\"The ideal gas constant is approximately _____\"\n",
    "</br></br>\n",
    "Omit the quotes and fill the blank with the approximation you calculated in the previous problem."
   ]
  },
  {
   "cell_type": "code",
   "execution_count": 8,
   "metadata": {},
   "outputs": [
    {
     "name": "stdout",
     "output_type": "stream",
     "text": [
      "The ideal gas constant is approximately 8.307599999999997\n"
     ]
    }
   ],
   "source": [
    "print(f'The ideal gas constant is approximately {gas_constant}')"
   ]
  },
  {
   "cell_type": "markdown",
   "metadata": {},
   "source": [
    "### Exercise 4\n",
    "Using the variable <code>gas_constant</code> from the last problem, use an f-string to display the following text:\n",
    "</br></br>\n",
    "\"Avogadros number is approximately _____\"\n",
    "</br></br>\n",
    "Omit the quotes and fill the blank with an approximation where you divide <code>gas_constant</code> by Boltzmann's constant\n"
   ]
  },
  {
   "cell_type": "code",
   "execution_count": 9,
   "metadata": {},
   "outputs": [
    {
     "name": "stdout",
     "output_type": "stream",
     "text": [
      "Avogadros number is approximately 6.019999999999999e+23\n"
     ]
    }
   ],
   "source": [
    "print(f'Avogadros number is approximately {gas_constant / (1.38 * 10 ** -23)}')"
   ]
  },
  {
   "cell_type": "markdown",
   "metadata": {},
   "source": [
    "### Exercise 5\n",
    "Explain in words why the following line of Python is bad, beyond just \"it will throw an error\".\n",
    "</br></br>\n",
    "<code>22 = x</code>"
   ]
  },
  {
   "cell_type": "markdown",
   "metadata": {},
   "source": [
    "This line is bad and will cause an error in our code because it is attempting to assign the number 22 as a variable. The number 22 is *not* a variable though, it is a number. What would it mean to assign 22 as a variable? It would mean that we would be unable to refer to that number again. Whenever we tried to do any calculation with 22 we would get an error. Its not really a sensible thing to do. Variables are for *storing* values, they aren't themselves values, just vessels."
   ]
  },
  {
   "cell_type": "markdown",
   "metadata": {},
   "source": [
    "</br>"
   ]
  },
  {
   "cell_type": "markdown",
   "metadata": {},
   "source": [
    "## Section 3: Boolean Expressions"
   ]
  },
  {
   "cell_type": "markdown",
   "metadata": {},
   "source": [
    "Place your guess for what the boolean expressions below will evaluate to. For this exercise to work you shouldn't actually run the cell until after you guess :) but if you do make sure you can explain why the answer is what it is.</br>\n",
    "</br>\n",
    "The syntax <code>!=</code> means does *not* equal"
   ]
  },
  {
   "cell_type": "code",
   "execution_count": 10,
   "metadata": {},
   "outputs": [
    {
     "name": "stdout",
     "output_type": "stream",
     "text": [
      "True\n",
      "False\n",
      "True\n",
      "True\n",
      "True\n",
      "True\n",
      "True\n",
      "True\n",
      "True\n",
      "True\n",
      "True\n",
      "True\n",
      "True\n"
     ]
    }
   ],
   "source": [
    "a = 50\n",
    "b = 25\n",
    "\n",
    "print(a == 50)               # Guess:\n",
    "print(b != 25)               # Guess:\n",
    "print(a < 100 and b > 10)    # Guess:\n",
    "print(a + b == 75)           # Guess:\n",
    "print(not b < 20)            # Guess:\n",
    "print(a > 30 or b < 30)      # Guess:\n",
    "print(a <= 50 and b <= 25)   # Guess:\n",
    "print(not (a == 40))         # Guess:\n",
    "print(a / 2 == b)            # Guess:\n",
    "\n",
    "# Working with strings in boolean expressions\n",
    "name = \"Alice\"\n",
    "print(name == \"Alice\")       # Guess:\n",
    "print(\"A\" in name)           # Guess:\n",
    "\n",
    "# Combining numbers and strings\n",
    "age = 30\n",
    "print(age > 20 and name == \"Alice\")    # Guess:\n",
    "print(age < 40 or name == \"Bob\")       # Guess:\n"
   ]
  },
  {
   "cell_type": "markdown",
   "metadata": {},
   "source": [
    "</br>"
   ]
  },
  {
   "cell_type": "markdown",
   "metadata": {},
   "source": [
    "## Section 4: Data Types\n",
    "Place your guess for what the data type of each variable is. For this exercise to work you shouldn't actually run the cell until after you guess :) but if you do make sure you can explain why the answer is what it is."
   ]
  },
  {
   "cell_type": "code",
   "execution_count": 11,
   "metadata": {},
   "outputs": [
    {
     "name": "stdout",
     "output_type": "stream",
     "text": [
      "Variable: Hello\n",
      " Type: <class 'str'>\n",
      "Variable: [5, 10, 15]\n",
      " Type: <class 'list'>\n",
      "Variable: True\n",
      " Type: <class 'bool'>\n",
      "Variable: 55\n",
      " Type: <class 'str'>\n",
      "Variable: 8.0\n",
      " Type: <class 'float'>\n",
      "Variable: 5.0\n",
      " Type: <class 'float'>\n",
      "Variable: True\n",
      " Type: <class 'bool'>\n",
      "Variable: 5\n",
      " Type: <class 'int'>\n",
      "Variable: 5\n",
      " Type: <class 'str'>\n",
      "Variable: 5.5\n",
      " Type: <class 'float'>\n"
     ]
    }
   ],
   "source": [
    "var1 = \"Hello\"                  # Guess:\n",
    "var2 = [5, 10, 15]              # Guess:\n",
    "var3 = 5 > 3                    # Guess:\n",
    "var4 = \"5\" * 2                  # Guess:\n",
    "var5 = 5.5 + 2.5                # Guess:\n",
    "var6 = 15 / 3                   # Guess:\n",
    "var7 = 10 % 2 == 0              # Guess:\n",
    "var9 = int(\"5\")                 # Guess:\n",
    "var10 = str(5)                  # Guess:\n",
    "var11 = float(\"5.5\")            # Guess:\n",
    "\n",
    "\n",
    "# Ignore this code, this is just to print the answers\n",
    "variables = [var1, var2, var3, var4, var5, var6, var7, var9, var10, var11]\n",
    "for var in variables:\n",
    "    print(f'Variable: {var}\\n', f'Type: {type(var)}')"
   ]
  },
  {
   "cell_type": "markdown",
   "metadata": {},
   "source": [
    "## Section 5: Loops\n",
    "### Exercise 1\n",
    "Write a for-loop to display the numbers 0 to 10. **Hint**: Experiment with the <code>range()</code> function"
   ]
  },
  {
   "cell_type": "code",
   "execution_count": 12,
   "metadata": {},
   "outputs": [
    {
     "name": "stdout",
     "output_type": "stream",
     "text": [
      "0\n",
      "1\n",
      "2\n",
      "3\n",
      "4\n",
      "5\n",
      "6\n",
      "7\n",
      "8\n",
      "9\n",
      "10\n"
     ]
    }
   ],
   "source": [
    "for i in range(11):\n",
    "    print(i)"
   ]
  },
  {
   "cell_type": "markdown",
   "metadata": {},
   "source": [
    "### Exercise 2\n",
    "Using the list in the cell below, write a for-loop to display the square of each element in the list."
   ]
  },
  {
   "cell_type": "code",
   "execution_count": 13,
   "metadata": {},
   "outputs": [
    {
     "name": "stdout",
     "output_type": "stream",
     "text": [
      "0\n",
      "1\n",
      "4\n",
      "16\n",
      "25\n",
      "36\n",
      "49\n",
      "64\n"
     ]
    }
   ],
   "source": [
    "numbers = [0, 1, 2, 4, 5, 6, 7, 8]\n",
    "for n in numbers:\n",
    "    print(n ** 2)"
   ]
  },
  {
   "cell_type": "markdown",
   "metadata": {},
   "source": [
    "Now rewrite the for-loop using <code>range()</code> instead of <code>numbers</code>"
   ]
  },
  {
   "cell_type": "code",
   "execution_count": 14,
   "metadata": {},
   "outputs": [
    {
     "name": "stdout",
     "output_type": "stream",
     "text": [
      "0\n",
      "1\n",
      "4\n",
      "9\n",
      "16\n",
      "25\n",
      "36\n",
      "49\n",
      "64\n"
     ]
    }
   ],
   "source": [
    "for n in range(9):\n",
    "    print(n ** 2)"
   ]
  },
  {
   "cell_type": "markdown",
   "metadata": {},
   "source": [
    "### Exercise 3\n",
    "Use a for loop to display orders of magnitude from 0 to 10\n",
    "$$ 10^0, 10^1,\\dots, 10^9, 10^{10} $$"
   ]
  },
  {
   "cell_type": "code",
   "execution_count": 15,
   "metadata": {},
   "outputs": [
    {
     "name": "stdout",
     "output_type": "stream",
     "text": [
      "1\n",
      "10\n",
      "100\n",
      "1000\n",
      "10000\n",
      "100000\n",
      "1000000\n",
      "10000000\n",
      "100000000\n",
      "1000000000\n",
      "10000000000\n"
     ]
    }
   ],
   "source": [
    "for i in range(11):\n",
    "    print(10 ** i)"
   ]
  },
  {
   "cell_type": "markdown",
   "metadata": {},
   "source": [
    "### Exercise 4\n",
    "The factorial of a whole number, denoted with an exclamation point \"!\", is the cumulative product of all the positive whole numbers less than or equal to that number excluding 0\n",
    "$$ 5! = 5 \\times 4 \\times 3 \\times 2 \\times 1 $$\n",
    "Write a for-loop to compute the factorial of 5. You may need to create a list."
   ]
  },
  {
   "cell_type": "code",
   "execution_count": 18,
   "metadata": {},
   "outputs": [
    {
     "name": "stdout",
     "output_type": "stream",
     "text": [
      "120\n"
     ]
    }
   ],
   "source": [
    "running_factorial = 1\n",
    "for n in range(1, 6):\n",
    "    running_factorial = running_factorial * n\n",
    "print(running_factorial)"
   ]
  },
  {
   "attachments": {
    "image.png": {
     "image/png": "[encoded data removed]"
    }
   },
   "cell_type": "markdown",
   "metadata": {},
   "source": [
    "### Exercise 5\n",
    "Use a nested loop to fill grid with asterisks *  The grid should have 5 rows and 5 columns like this:\n",
    "</br>\n",
    "![image.png](attachment:image.png)\n",
    "</br>"
   ]
  },
  {
   "cell_type": "code",
   "execution_count": 19,
   "metadata": {},
   "outputs": [
    {
     "name": "stdout",
     "output_type": "stream",
     "text": [
      "* * * * * \n",
      "* * * * * \n",
      "* * * * * \n",
      "* * * * * \n",
      "* * * * * \n"
     ]
    }
   ],
   "source": [
    "# Your code here\n",
    "for row in range(5):\n",
    "    row_string = \"\"\n",
    "    for column in range(5):\n",
    "        row_string += '* '\n",
    "    print(row_string)\n"
   ]
  },
  {
   "cell_type": "markdown",
   "metadata": {},
   "source": [
    "</br>"
   ]
  },
  {
   "cell_type": "markdown",
   "metadata": {},
   "source": [
    "## Section 6: If Statements\n",
    "### Exercise 1\n",
    "Write an if-statement that compares two numbers <code>a</code> and <code>b</code>, and displays whichever numbers is larger."
   ]
  },
  {
   "cell_type": "code",
   "execution_count": 20,
   "metadata": {},
   "outputs": [
    {
     "name": "stdout",
     "output_type": "stream",
     "text": [
      "10\n"
     ]
    }
   ],
   "source": [
    "a = 10\n",
    "b = 5\n",
    "if a > b:\n",
    "    print(a)\n",
    "else:\n",
    "    print(b)"
   ]
  },
  {
   "cell_type": "markdown",
   "metadata": {},
   "source": [
    "### Exercise 2\n",
    "Write an if-statement that tests whether or not a number is between 10 and 20. If it is display the following text:\n",
    "</br></br>\n",
    "\"_____ is between 10 and 20\"\n",
    "</br></br>\n",
    "Omitting the quotation marks and filling in the blank with the number being tested"
   ]
  },
  {
   "cell_type": "code",
   "execution_count": 21,
   "metadata": {},
   "outputs": [
    {
     "name": "stdout",
     "output_type": "stream",
     "text": [
      "15 is between 10 and 20\n"
     ]
    }
   ],
   "source": [
    "number = 15\n",
    "if number > 10 and number < 20:\n",
    "    print(f'{number} is between 10 and 20')"
   ]
  },
  {
   "cell_type": "markdown",
   "metadata": {},
   "source": [
    "### Exercise 3\n",
    "Write an if-statement that can be used to check if a number is even or odd. Given a number display the following text:\n",
    "</br></br>\n",
    "\"____ is odd\" or \"____ is even\"\n",
    "</br></br>\n",
    "Omitting the quotation marks and filling the blank with the number. If the number is not of type <code>int</code>, display \"Make number int\""
   ]
  },
  {
   "cell_type": "code",
   "execution_count": 23,
   "metadata": {},
   "outputs": [
    {
     "name": "stdout",
     "output_type": "stream",
     "text": [
      "12 is even\n"
     ]
    }
   ],
   "source": [
    "# Make sure to check that your code works with all the cases (zero, negative numbers)\n",
    "number = 12\n",
    "if number % 2 == 0:\n",
    "    print(f'{number} is even')\n",
    "else:\n",
    "    print(f'{number} is odd')"
   ]
  },
  {
   "cell_type": "markdown",
   "metadata": {},
   "source": [
    "### Exercise 4\n",
    "Using for loops and if statements, calculate the sum of only the *positive* numbers in a list."
   ]
  },
  {
   "cell_type": "code",
   "execution_count": null,
   "metadata": {},
   "outputs": [],
   "source": [
    "numbers = [1, -2, 3, 4, -5, 6]\n",
    "# Your code here"
   ]
  },
  {
   "cell_type": "markdown",
   "metadata": {},
   "source": [
    "### Exercise 5\n",
    "Using for loops and if statements, find the largest number in a given list and display that number."
   ]
  },
  {
   "cell_type": "code",
   "execution_count": 24,
   "metadata": {},
   "outputs": [
    {
     "name": "stdout",
     "output_type": "stream",
     "text": [
      "The largest number in the list is: 23\n"
     ]
    }
   ],
   "source": [
    "numbers = [17, 23, 4, 9, 14, 19, 22]\n",
    "\n",
    "# To start I will initialize the largest to be the first number in the list\n",
    "largest_number = numbers[0]\n",
    "for n in numbers:\n",
    "    if n > largest_number:\n",
    "        largest_number = n\n",
    "print(f'The largest number in the list is: {largest_number}')"
   ]
  },
  {
   "cell_type": "markdown",
   "metadata": {},
   "source": [
    "## Section 8: Functions\n",
    "You may need to use for loops and/or if statements in any of exercises in this section.\n",
    "### Exercise 1\n",
    "Write a function <code>circle_area()</code> that returns the area of a circle given its radius. You can approximate pi as 3.14"
   ]
  },
  {
   "cell_type": "code",
   "execution_count": 26,
   "metadata": {},
   "outputs": [
    {
     "name": "stdout",
     "output_type": "stream",
     "text": [
      "A circle with radius 5 has area 78.5\n"
     ]
    }
   ],
   "source": [
    "r = 5\n",
    "\n",
    "def circle_area(radius):\n",
    "    return 3.14 * radius ** 2\n",
    "\n",
    "area = circle_area(radius=r)\n",
    "print(f'A circle with radius {r} has area {area}')"
   ]
  },
  {
   "cell_type": "markdown",
   "metadata": {},
   "source": [
    "### Exercise 2\n",
    "Write a function <code>list_length()</code> that returns the number of elements in a list given the list."
   ]
  },
  {
   "cell_type": "code",
   "execution_count": 29,
   "metadata": {},
   "outputs": [
    {
     "name": "stdout",
     "output_type": "stream",
     "text": [
      "The list has 6 elements\n"
     ]
    }
   ],
   "source": [
    "example_list = ['hello', 'my', 'name', 'is', 'Ramon', 'Cajal']\n",
    "\n",
    "def list_length(l):\n",
    "    \n",
    "    num_elements = 0\n",
    "    for element in l:\n",
    "        # Below is a common way of updating a varible.\n",
    "        # It is identical to writing num_elements = num_elements + 1\n",
    "        num_elements += 1\n",
    "    return num_elements\n",
    "\n",
    "length = list_length(l=example_list)\n",
    "print(f'The list has {length} elements')"
   ]
  },
  {
   "cell_type": "markdown",
   "metadata": {},
   "source": [
    "### Exercise 3\n",
    "Write a function <code>count_digits()</code> that returns the number of digits in a given number. You can assume the inputs will only be positive integers (or you can write it to deal with negative numbers and exclude non-whole numbers)."
   ]
  },
  {
   "cell_type": "code",
   "execution_count": 31,
   "metadata": {},
   "outputs": [
    {
     "name": "stdout",
     "output_type": "stream",
     "text": [
      "12345 has 5 digits\n"
     ]
    }
   ],
   "source": [
    "number_to_count = 12345\n",
    "\n",
    "def count_digits(number):\n",
    "    string_number = str(number)\n",
    "    n_digits = 0\n",
    "    for digit in string_number:\n",
    "        n_digits += 1\n",
    "    return n_digits\n",
    "\n",
    "number_of_digits = count_digits(number=number_to_count)\n",
    "print(f'{number_to_count} has {number_of_digits} digits')"
   ]
  },
  {
   "cell_type": "markdown",
   "metadata": {},
   "source": [
    "### Exercise 4\n",
    "Write a function <code>is_palindrome()</code> that returns <code>True</code> if the given string is a palindrome and <code>False</code> otherwise. Recall a palindrome is a word which reads the same forwards and backwards."
   ]
  },
  {
   "cell_type": "code",
   "execution_count": 34,
   "metadata": {},
   "outputs": [
    {
     "name": "stdout",
     "output_type": "stream",
     "text": [
      "True\n"
     ]
    }
   ],
   "source": [
    "word = 'racecar'\n",
    "\n",
    "def is_palindrome(word_to_check):\n",
    "    # This is a succint way to reverse an iterable oject\n",
    "    return word_to_check == word_to_check[::-1]\n",
    "\n",
    "print(is_palindrome(word_to_check=word))"
   ]
  },
  {
   "cell_type": "markdown",
   "metadata": {},
   "source": [
    "### Exercise 5\n",
    "Write a function <code>find_common()</code> that, given two lists, returns a new list only including the elements found in both of them. If no such elements, returns an empty list."
   ]
  },
  {
   "cell_type": "code",
   "execution_count": 35,
   "metadata": {},
   "outputs": [
    {
     "name": "stdout",
     "output_type": "stream",
     "text": [
      "[-2, -1, 0, 1]\n"
     ]
    }
   ],
   "source": [
    "l1 = [-2, -1, 0, 1, 2, 3, 4, 5]\n",
    "l2 = [-5, -4, -3, -2, -1, 0, 1]\n",
    "\n",
    "def find_common(list_one, list_two):\n",
    "    new_list = []\n",
    "    for element in list_one:\n",
    "        if element in list_one and element in list_two:\n",
    "            new_list.append(element)\n",
    "    return new_list\n",
    "\n",
    "common_elements = find_common(list_one=l1, list_two=l2)\n",
    "\n",
    "print(common_elements)"
   ]
  },
  {
   "cell_type": "code",
   "execution_count": null,
   "metadata": {},
   "outputs": [],
   "source": []
  }
 ],
 "metadata": {
  "kernelspec": {
   "display_name": "neusci490",
   "language": "python",
   "name": "python3"
  },
  "language_info": {
   "codemirror_mode": {
    "name": "ipython",
    "version": 3
   },
   "file_extension": ".py",
   "mimetype": "text/x-python",
   "name": "python",
   "nbconvert_exporter": "python",
   "pygments_lexer": "ipython3",
   "version": "3.9.18"
  }
 },
 "nbformat": 4,
 "nbformat_minor": 2
}
